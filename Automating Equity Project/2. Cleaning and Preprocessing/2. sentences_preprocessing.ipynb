{
 "cells": [
  {
   "attachments": {},
   "cell_type": "markdown",
   "metadata": {},
   "source": [
    "# ATTN: This script should be run AFTER language detection is completed."
   ]
  },
  {
   "attachments": {},
   "cell_type": "markdown",
   "metadata": {},
   "source": [
    "# Drop non-English job descriptions"
   ]
  },
  {
   "attachments": {},
   "cell_type": "markdown",
   "metadata": {},
   "source": [
    "### START HERE IF SOURCING FROM DF_JOBS_RAW_LANGUAGE_DETECTED\n",
    "### PLEASE SET CORRECT DIRECTORY PATHS BELOW\n"
   ]
  },
  {
   "cell_type": "code",
   "execution_count": 1,
   "metadata": {},
   "outputs": [],
   "source": [
    "import os # type:ignore # isort:skip # fmt:skip # noqa # nopep8\n",
    "import sys # type:ignore # isort:skip # fmt:skip # noqa # nopep8\n",
    "from pathlib import Path # type:ignore # isort:skip # fmt:skip # noqa # nopep8\n",
    "\n",
    "mod = sys.modules[__name__]\n",
    "\n",
    "code_dir = None\n",
    "code_dir_name = 'Code'\n",
    "unwanted_subdir_name = 'Analysis'\n",
    "\n",
    "if code_dir_name not in str(Path.cwd()).split('/')[-1]:\n",
    "    for _ in range(5):\n",
    "\n",
    "        parent_path = str(Path.cwd().parents[_]).split('/')[-1]\n",
    "\n",
    "        if (code_dir_name in parent_path) and (unwanted_subdir_name not in parent_path):\n",
    "\n",
    "            code_dir = str(Path.cwd().parents[_])\n",
    "\n",
    "            if code_dir is not None:\n",
    "                break\n",
    "else:\n",
    "    code_dir = str(Path.cwd())\n",
    "sys.path.append(code_dir)\n",
    "\n",
    "# %load_ext autoreload\n",
    "# %autoreload 2\n"
   ]
  },
  {
   "cell_type": "code",
   "execution_count": 2,
   "metadata": {},
   "outputs": [
    {
     "name": "stderr",
     "output_type": "stream",
     "text": [
      "/opt/homebrew/Caskroom/mambaforge/base/envs/Automating_Equity1/lib/python3.10/site-packages/outdated/utils.py:14: OutdatedPackageWarning: The package pingouin is out of date. Your version is 0.5.3, the latest is 0.5.4.\n",
      "Set the environment variable OUTDATED_IGNORE=1 to disable these warnings.\n",
      "  return warn(\n"
     ]
    },
    {
     "name": "stdout",
     "output_type": "stream",
     "text": [
      "Using MPS\n"
     ]
    },
    {
     "data": {
      "application/vnd.jupyter.widget-view+json": {
       "model_id": "2167d97b365948b89ad8cbeec675467d",
       "version_major": 2,
       "version_minor": 0
      },
      "text/plain": [
       "0it [00:00, ?it/s]"
      ]
     },
     "metadata": {},
     "output_type": "display_data"
    },
    {
     "data": {
      "text/plain": [
       "<Figure size 640x480 with 0 Axes>"
      ]
     },
     "metadata": {},
     "output_type": "display_data"
    }
   ],
   "source": [
    "from setup_module.imports import * # type:ignore # isort:skip # fmt:skip # noqa # nopep8\n"
   ]
  },
  {
   "cell_type": "code",
   "execution_count": 3,
   "metadata": {},
   "outputs": [],
   "source": [
    "df_jobs = pd.read_pickle(f'{df_save_dir}df_jobs_raw_language_detected.pkl')\n"
   ]
  },
  {
   "cell_type": "code",
   "execution_count": 4,
   "metadata": {},
   "outputs": [
    {
     "name": "stdout",
     "output_type": "stream",
     "text": [
      "<class 'pandas.core.frame.DataFrame'>\n",
      "RangeIndex: 62577 entries, 0 to 62576\n",
      "Data columns (total 20 columns):\n",
      " #   Column             Non-Null Count  Dtype  \n",
      "---  ------             --------------  -----  \n",
      " 0   Search Keyword     62577 non-null  object \n",
      " 1   Platform           62577 non-null  object \n",
      " 2   Job ID             62577 non-null  object \n",
      " 3   Job Title          62577 non-null  object \n",
      " 4   Company Name       62574 non-null  object \n",
      " 5   Location           62577 non-null  object \n",
      " 6   Job Description    62577 non-null  object \n",
      " 7   Rating             3975 non-null   float64\n",
      " 8   Employment Type    61995 non-null  object \n",
      " 9   Company URL        59263 non-null  object \n",
      " 10  Job URL            62577 non-null  object \n",
      " 11  Job Age            62577 non-null  object \n",
      " 12  Job Age Number     62577 non-null  object \n",
      " 13  Collection Date    62577 non-null  object \n",
      " 14  Data Row           58599 non-null  float64\n",
      " 15  Tracking ID        58599 non-null  object \n",
      " 16  Industry           59184 non-null  object \n",
      " 17  Job Date           58602 non-null  object \n",
      " 18  Type of ownership  582 non-null    object \n",
      " 19  Language           62577 non-null  object \n",
      "dtypes: float64(2), object(18)\n",
      "memory usage: 9.5+ MB\n"
     ]
    }
   ],
   "source": [
    "# len = 62577\n",
    "df_jobs.info()\n"
   ]
  },
  {
   "cell_type": "code",
   "execution_count": 5,
   "metadata": {},
   "outputs": [
    {
     "data": {
      "text/plain": [
       "Language\n",
       "nl              44863\n",
       "en              17591\n",
       "de                 53\n",
       "fr                 36\n",
       "['nl', 'en']        9\n",
       "['en', 'nl']        8\n",
       "pl                  5\n",
       "id                  4\n",
       "da                  4\n",
       "tr                  1\n",
       "['nl', 'af']        1\n",
       "st                  1\n",
       "af                  1\n",
       "Name: count, dtype: int64"
      ]
     },
     "execution_count": 5,
     "metadata": {},
     "output_type": "execute_result"
    }
   ],
   "source": [
    "# nl = 44863, en = 17591, ['en', 'nl'] = 8, ['nl', 'en'] = 9\n",
    "df_jobs['Language'].value_counts()\n"
   ]
  },
  {
   "cell_type": "code",
   "execution_count": 6,
   "metadata": {},
   "outputs": [
    {
     "data": {
      "application/vnd.jupyter.widget-view+json": {
       "model_id": "b7b7cdfbf05c45ffa9c2eedb42af10d0",
       "version_major": 2,
       "version_minor": 0
      },
      "text/plain": [
       "progress-bar:   0%|          | 0/62577 [00:00<?, ?it/s]"
      ]
     },
     "metadata": {},
     "output_type": "display_data"
    },
    {
     "name": "stdout",
     "output_type": "stream",
     "text": [
      "CPU times: user 52.7 ms, sys: 3.47 ms, total: 56.2 ms\n",
      "Wall time: 60.6 ms\n"
     ]
    }
   ],
   "source": [
    "%%time\n",
    "# The majority of ['en', 'nl'] labeled job descriptions contain mostly English\n",
    "df_jobs['Language'] = df_jobs['Language'].progress_apply(\n",
    "    lambda lang: 'en' if lang == \"['en', 'nl']\" else lang\n",
    ")\n"
   ]
  },
  {
   "cell_type": "code",
   "execution_count": 7,
   "metadata": {},
   "outputs": [],
   "source": [
    "# Drop non-English ads\n",
    "df_jobs = df_jobs.drop(\n",
    "    df_jobs[\n",
    "        df_jobs['Language'] != 'en'\n",
    "    ].index,\n",
    "        axis='index',\n",
    ")\n"
   ]
  },
  {
   "cell_type": "code",
   "execution_count": 8,
   "metadata": {},
   "outputs": [
    {
     "data": {
      "text/plain": [
       "17599"
      ]
     },
     "execution_count": 8,
     "metadata": {},
     "output_type": "execute_result"
    }
   ],
   "source": [
    "# 17599\n",
    "len(df_jobs)\n"
   ]
  },
  {
   "cell_type": "code",
   "execution_count": 9,
   "metadata": {},
   "outputs": [],
   "source": [
    "assert len(df_jobs) > 0 and isinstance(df_jobs, pd.DataFrame), f'ERORR: LENGTH OF DF = {len(df_jobs)}'\n",
    "df_jobs.to_pickle(f'{df_save_dir}df_jobs_raw_english_only.pkl')\n",
    "df_jobs.to_csv(f'{df_save_dir}df_jobs_raw_english_only.csv', index=False)\n"
   ]
  },
  {
   "attachments": {},
   "cell_type": "markdown",
   "metadata": {},
   "source": [
    "# Fix abbreviations in job descriptions"
   ]
  },
  {
   "attachments": {},
   "cell_type": "markdown",
   "metadata": {},
   "source": [
    "### START HERE IF SOURCING FROM DF_JOBS_RAW_ENGLISH_ONLY\n",
    "### PLEASE SET CORRECT DIRECTORY PATHS BELOW\n"
   ]
  },
  {
   "cell_type": "code",
   "execution_count": 10,
   "metadata": {},
   "outputs": [],
   "source": [
    "import os # type:ignore # isort:skip # fmt:skip # noqa # nopep8\n",
    "import sys # type:ignore # isort:skip # fmt:skip # noqa # nopep8\n",
    "from pathlib import Path # type:ignore # isort:skip # fmt:skip # noqa # nopep8\n",
    "\n",
    "mod = sys.modules[__name__]\n",
    "\n",
    "code_dir = None\n",
    "code_dir_name = 'Code'\n",
    "unwanted_subdir_name = 'Analysis'\n",
    "\n",
    "if code_dir_name not in str(Path.cwd()).split('/')[-1]:\n",
    "    for _ in range(5):\n",
    "\n",
    "        parent_path = str(Path.cwd().parents[_]).split('/')[-1]\n",
    "\n",
    "        if (code_dir_name in parent_path) and (unwanted_subdir_name not in parent_path):\n",
    "\n",
    "            code_dir = str(Path.cwd().parents[_])\n",
    "\n",
    "            if code_dir is not None:\n",
    "                break\n",
    "else:\n",
    "    code_dir = str(Path.cwd())\n",
    "sys.path.append(code_dir)\n",
    "\n",
    "# %load_ext autoreload\n",
    "# %autoreload 2\n"
   ]
  },
  {
   "cell_type": "code",
   "execution_count": 11,
   "metadata": {},
   "outputs": [],
   "source": [
    "from setup_module.imports import * # type:ignore # isort:skip # fmt:skip # noqa # nopep8\n"
   ]
  },
  {
   "cell_type": "code",
   "execution_count": 12,
   "metadata": {},
   "outputs": [],
   "source": [
    "# Function to make a list of punctuations that determine sentence boundry, i.e., split characters\n",
    "def make_custom_punct_chars(main_punct_chars=None, repeated_punct_chars=None):\n",
    "    if main_punct_chars is None:\n",
    "        main_punct_chars = [':', '|']\n",
    "    if repeated_punct_chars is None:\n",
    "        repeated_punct_chars = ['\\n', ',']\n",
    "    custom_punct_chars = []\n",
    "    temp_multi = []\n",
    "    temp_spaced = []\n",
    "\n",
    "    for punct_char in main_punct_chars:\n",
    "        custom_punct_chars+= f'{punct_char}', f'{punct_char} '\n",
    "\n",
    "    for idx in range(4):\n",
    "        for punct_char in repeated_punct_chars:\n",
    "            temp_multi.append(f'{punct_char}'*int(idx+1))\n",
    "            temp_spaced.append(f'{punct_char} '*int(idx+1))\n",
    "\n",
    "    for multi, spaced in zip(temp_multi, temp_spaced):\n",
    "        custom_punct_chars+= multi, spaced\n",
    "\n",
    "    custom_punct_chars.remove(',')\n",
    "    custom_punct_chars.remove(', ')\n",
    "\n",
    "    return custom_punct_chars\n"
   ]
  },
  {
   "cell_type": "code",
   "execution_count": 13,
   "metadata": {},
   "outputs": [],
   "source": [
    "df_jobs = pd.read_pickle(f'{df_save_dir}df_jobs_raw_english_only.pkl')\n"
   ]
  },
  {
   "cell_type": "code",
   "execution_count": 14,
   "metadata": {},
   "outputs": [
    {
     "name": "stdout",
     "output_type": "stream",
     "text": [
      "<class 'pandas.core.frame.DataFrame'>\n",
      "Index: 17599 entries, 0 to 62535\n",
      "Data columns (total 20 columns):\n",
      " #   Column             Non-Null Count  Dtype  \n",
      "---  ------             --------------  -----  \n",
      " 0   Search Keyword     17599 non-null  object \n",
      " 1   Platform           17599 non-null  object \n",
      " 2   Job ID             17599 non-null  object \n",
      " 3   Job Title          17599 non-null  object \n",
      " 4   Company Name       17597 non-null  object \n",
      " 5   Location           17599 non-null  object \n",
      " 6   Job Description    17599 non-null  object \n",
      " 7   Rating             3780 non-null   float64\n",
      " 8   Employment Type    17017 non-null  object \n",
      " 9   Company URL        15959 non-null  object \n",
      " 10  Job URL            17599 non-null  object \n",
      " 11  Job Age            17599 non-null  object \n",
      " 12  Job Age Number     17599 non-null  object \n",
      " 13  Collection Date    17599 non-null  object \n",
      " 14  Data Row           13816 non-null  float64\n",
      " 15  Tracking ID        13816 non-null  object \n",
      " 16  Industry           14401 non-null  object \n",
      " 17  Job Date           13819 non-null  object \n",
      " 18  Type of ownership  582 non-null    object \n",
      " 19  Language           17599 non-null  object \n",
      "dtypes: float64(2), object(18)\n",
      "memory usage: 2.8+ MB\n"
     ]
    }
   ],
   "source": [
    "# len = 17599\n",
    "df_jobs.info()\n"
   ]
  },
  {
   "cell_type": "code",
   "execution_count": 15,
   "metadata": {},
   "outputs": [
    {
     "data": {
      "application/vnd.jupyter.widget-view+json": {
       "model_id": "b013c350aa8e47de89ccd701b177ecf0",
       "version_major": 2,
       "version_minor": 0
      },
      "text/plain": [
       "progress-bar:   0%|          | 0/17599 [00:00<?, ?it/s]"
      ]
     },
     "metadata": {},
     "output_type": "display_data"
    },
    {
     "data": {
      "application/vnd.jupyter.widget-view+json": {
       "model_id": "006ba1a60a744036b4fe32811df279b4",
       "version_major": 2,
       "version_minor": 0
      },
      "text/plain": [
       "progress-bar:   0%|          | 0/17599 [00:00<?, ?it/s]"
      ]
     },
     "metadata": {},
     "output_type": "display_data"
    },
    {
     "data": {
      "application/vnd.jupyter.widget-view+json": {
       "model_id": "486ac35cc72a4e28ac12b82bd72eb015",
       "version_major": 2,
       "version_minor": 0
      },
      "text/plain": [
       "progress-bar:   0%|          | 0/17599 [00:00<?, ?it/s]"
      ]
     },
     "metadata": {},
     "output_type": "display_data"
    },
    {
     "name": "stdout",
     "output_type": "stream",
     "text": [
      "Job ID converted to str.\n"
     ]
    },
    {
     "data": {
      "application/vnd.jupyter.widget-view+json": {
       "model_id": "4dad669ff03540d88c5e392389e0cf1f",
       "version_major": 2,
       "version_minor": 0
      },
      "text/plain": [
       "progress-bar:   0%|          | 0/17599 [00:00<?, ?it/s]"
      ]
     },
     "metadata": {},
     "output_type": "display_data"
    },
    {
     "data": {
      "application/vnd.jupyter.widget-view+json": {
       "model_id": "1b6060a1d837407ebec21f74e8c7ec01",
       "version_major": 2,
       "version_minor": 0
      },
      "text/plain": [
       "progress-bar:   0%|          | 0/17599 [00:00<?, ?it/s]"
      ]
     },
     "metadata": {},
     "output_type": "display_data"
    },
    {
     "data": {
      "application/vnd.jupyter.widget-view+json": {
       "model_id": "4c247baba5fa48839665eacd1b3aae46",
       "version_major": 2,
       "version_minor": 0
      },
      "text/plain": [
       "progress-bar:   0%|          | 0/17599 [00:00<?, ?it/s]"
      ]
     },
     "metadata": {},
     "output_type": "display_data"
    },
    {
     "name": "stdout",
     "output_type": "stream",
     "text": [
      "Job Description converted to str.\n"
     ]
    }
   ],
   "source": [
    "# Conver Job ID and Sentence to str\n",
    "str_cols = [\n",
    "    'Job ID',\n",
    "    'Job Description',\n",
    "]\n",
    "\n",
    "for col in str_cols:\n",
    "    df_jobs[col] = df_jobs[col].astype(str)\n",
    "    df_jobs[col] = df_jobs[col].progress_apply(lambda x: x.strip())\n",
    "    df_jobs[col] = df_jobs[col].progress_apply(lambda x: unicodedata.normalize('NFKD', x.encode('ascii', 'ignore').decode('utf-8', 'ignore')))\n",
    "    print(f'{col} converted to str.' if all(df_jobs[col].progress_apply(lambda x: isinstance(x, str))) else f'{col} NOT converted to str.')\n"
   ]
  },
  {
   "cell_type": "code",
   "execution_count": 16,
   "metadata": {},
   "outputs": [
    {
     "data": {
      "text/plain": [
       "0    About Our Client\\nThe Global KYC organisation ...\n",
       "2    Your role:\\n\\nWere in business to save our hom...\n",
       "3    During the past four years Colourful Rebel has...\n",
       "5    Job Description\\nWe are currently recruiting a...\n",
       "7    KARL LAGERFELD COMPANY PROFILE\\n\\nThe house of...\n",
       "Name: Job Description, dtype: object"
      ]
     },
     "execution_count": 16,
     "metadata": {},
     "output_type": "execute_result"
    }
   ],
   "source": [
    "df_jobs['Job Description'].head()\n"
   ]
  },
  {
   "cell_type": "code",
   "execution_count": 17,
   "metadata": {},
   "outputs": [
    {
     "data": {
      "text/plain": [
       "count                                                 17599\n",
       "unique                                                17594\n",
       "top       At SoftwareONE we are customerfocused Delighti...\n",
       "freq                                                      3\n",
       "Name: Job Description, dtype: object"
      ]
     },
     "execution_count": 17,
     "metadata": {},
     "output_type": "execute_result"
    }
   ],
   "source": [
    "# count=17599, unique=17594, top=, freq=1\n",
    "df_jobs['Job Description'].describe()\n"
   ]
  },
  {
   "cell_type": "code",
   "execution_count": 18,
   "metadata": {},
   "outputs": [],
   "source": [
    "df_jobs = df_jobs.drop_duplicates(subset=['Job Description'], keep='first')\n"
   ]
  },
  {
   "cell_type": "code",
   "execution_count": 19,
   "metadata": {},
   "outputs": [
    {
     "data": {
      "text/plain": [
       "17594"
      ]
     },
     "execution_count": 19,
     "metadata": {},
     "output_type": "execute_result"
    }
   ],
   "source": [
    "# len=17594\n",
    "len(df_jobs)\n"
   ]
  },
  {
   "cell_type": "code",
   "execution_count": 20,
   "metadata": {},
   "outputs": [
    {
     "data": {
      "text/plain": [
       "0    About Our Client\\nThe Global KYC organisation ...\n",
       "2    Your role:\\n\\nWere in business to save our hom...\n",
       "3    During the past four years Colourful Rebel has...\n",
       "5    Job Description\\nWe are currently recruiting a...\n",
       "7    KARL LAGERFELD COMPANY PROFILE\\n\\nThe house of...\n",
       "Name: Job Description, dtype: object"
      ]
     },
     "execution_count": 20,
     "metadata": {},
     "output_type": "execute_result"
    }
   ],
   "source": [
    "df_jobs['Job Description'].head()\n"
   ]
  },
  {
   "cell_type": "code",
   "execution_count": 21,
   "metadata": {},
   "outputs": [
    {
     "data": {
      "text/plain": [
       "count                                                 17594\n",
       "unique                                                17594\n",
       "top       About Our Client\\nThe Global KYC organisation ...\n",
       "freq                                                      1\n",
       "Name: Job Description, dtype: object"
      ]
     },
     "execution_count": 21,
     "metadata": {},
     "output_type": "execute_result"
    }
   ],
   "source": [
    "# count=17594, unique=17594, top=, freq=1\n",
    "df_jobs['Job Description'].describe()\n"
   ]
  },
  {
   "cell_type": "code",
   "execution_count": 22,
   "metadata": {},
   "outputs": [
    {
     "name": "stdout",
     "output_type": "stream",
     "text": [
      "[':', ': ', '|', '| ', '\\n', '\\n ', '\\n\\n', '\\n \\n ', ',,', ', , ', '\\n\\n\\n', '\\n \\n \\n ', ',,,', ', , , ', '\\n\\n\\n\\n', '\\n \\n \\n \\n ', ',,,,', ', , , , ']\n"
     ]
    }
   ],
   "source": [
    "custom_punct_chars = make_custom_punct_chars()\n",
    "print(custom_punct_chars)\n"
   ]
  },
  {
   "cell_type": "code",
   "execution_count": 23,
   "metadata": {},
   "outputs": [
    {
     "data": {
      "application/vnd.jupyter.widget-view+json": {
       "model_id": "8fc905f12be543bb85777237cc3de3d1",
       "version_major": 2,
       "version_minor": 0
      },
      "text/plain": [
       "progress-bar:   0%|          | 0/17594 [00:00<?, ?it/s]"
      ]
     },
     "metadata": {},
     "output_type": "display_data"
    }
   ],
   "source": [
    "# Drop na, empty strings, punctuations, and keep only sentences of length more than 0\n",
    "with open(f'{data_dir}punctuations.txt', 'rb') as f:\n",
    "    custom_punct_chars = pickle.load(f)\n",
    "\n",
    "df_jobs = df_jobs.dropna(subset=['Job Description'])\n",
    "df_jobs = df_jobs.loc[\n",
    "    (df_jobs['Job Description'].isnull() == False)\n",
    "    & (df_jobs['Job Description'].isna() == False)\n",
    "    & (df_jobs['Job Description'].notnull() == True)\n",
    "    & (df_jobs['Job Description'].notna() == True)\n",
    "    & (df_jobs['Job Description'].astype(bool) == True)\n",
    "    & (df_jobs['Job Description'].progress_apply(len) > 0)\n",
    "    & (pd.isna(df_jobs['Job Description']) == False)\n",
    "    & (df_jobs['Job Description'].astype(str).isin(custom_punct_chars) == False)\n",
    "    & (df_jobs['Job Description'].astype(str).isin(non_whitespace_nan_list) == False)\n",
    "    & (df_jobs['Job Description'].astype(str).isin(list(string.punctuation)) == False)\n",
    "    & (df_jobs['Job Description'].astype(str).isin(list(string.whitespace)) == False)\n",
    "]\n",
    "df_jobs = df_jobs.dropna(subset=['Job Description'])\n"
   ]
  },
  {
   "cell_type": "code",
   "execution_count": 24,
   "metadata": {},
   "outputs": [
    {
     "data": {
      "text/plain": [
       "0    About Our Client\\nThe Global KYC organisation ...\n",
       "2    Your role:\\n\\nWere in business to save our hom...\n",
       "3    During the past four years Colourful Rebel has...\n",
       "5    Job Description\\nWe are currently recruiting a...\n",
       "7    KARL LAGERFELD COMPANY PROFILE\\n\\nThe house of...\n",
       "Name: Job Description, dtype: object"
      ]
     },
     "execution_count": 24,
     "metadata": {},
     "output_type": "execute_result"
    }
   ],
   "source": [
    "df_jobs['Job Description'].head()\n"
   ]
  },
  {
   "cell_type": "code",
   "execution_count": 25,
   "metadata": {},
   "outputs": [
    {
     "data": {
      "text/plain": [
       "count                                                 17593\n",
       "unique                                                17593\n",
       "top       About Our Client\\nThe Global KYC organisation ...\n",
       "freq                                                      1\n",
       "Name: Job Description, dtype: object"
      ]
     },
     "execution_count": 25,
     "metadata": {},
     "output_type": "execute_result"
    }
   ],
   "source": [
    "df_jobs['Job Description'].describe()\n"
   ]
  },
  {
   "cell_type": "code",
   "execution_count": 26,
   "metadata": {},
   "outputs": [],
   "source": [
    "# Remove duplicate sentences from the same job ad\n",
    "df_jobs = df_jobs.drop_duplicates(subset=['Job ID', 'Job Description'])\n"
   ]
  },
  {
   "cell_type": "code",
   "execution_count": 27,
   "metadata": {},
   "outputs": [],
   "source": [
    "# Check row are string or invalid\n",
    "for idx, row in df_jobs['Job Description'].items():\n",
    "    if (not isinstance(row, str)) or (row in nan_list) or (row in custom_punct_chars) or (row in list(string.punctuation)) or (pd.isna(row) == True):\n",
    "        print(idx, row)\n"
   ]
  },
  {
   "cell_type": "code",
   "execution_count": 28,
   "metadata": {},
   "outputs": [
    {
     "data": {
      "text/plain": [
       "17593"
      ]
     },
     "execution_count": 28,
     "metadata": {},
     "output_type": "execute_result"
    }
   ],
   "source": [
    "# len=17593\n",
    "len(df_jobs)\n"
   ]
  },
  {
   "cell_type": "code",
   "execution_count": 29,
   "metadata": {},
   "outputs": [
    {
     "data": {
      "text/plain": [
       "0    About Our Client\\nThe Global KYC organisation ...\n",
       "2    Your role:\\n\\nWere in business to save our hom...\n",
       "3    During the past four years Colourful Rebel has...\n",
       "5    Job Description\\nWe are currently recruiting a...\n",
       "7    KARL LAGERFELD COMPANY PROFILE\\n\\nThe house of...\n",
       "Name: Job Description, dtype: object"
      ]
     },
     "execution_count": 29,
     "metadata": {},
     "output_type": "execute_result"
    }
   ],
   "source": [
    "df_jobs['Job Description'].head()\n"
   ]
  },
  {
   "cell_type": "code",
   "execution_count": 30,
   "metadata": {},
   "outputs": [
    {
     "data": {
      "text/plain": [
       "count                                                 17593\n",
       "unique                                                17593\n",
       "top       About Our Client\\nThe Global KYC organisation ...\n",
       "freq                                                      1\n",
       "Name: Job Description, dtype: object"
      ]
     },
     "execution_count": 30,
     "metadata": {},
     "output_type": "execute_result"
    }
   ],
   "source": [
    "# count=17593, unique=17593\n",
    "df_jobs['Job Description'].describe()\n"
   ]
  },
  {
   "cell_type": "code",
   "execution_count": 31,
   "metadata": {},
   "outputs": [
    {
     "data": {
      "application/vnd.jupyter.widget-view+json": {
       "model_id": "559c5fbffee5461fa53df373ce4656ea",
       "version_major": 2,
       "version_minor": 0
      },
      "text/plain": [
       "progress-bar:   0%|          | 0/17593 [00:00<?, ?it/s]"
      ]
     },
     "metadata": {},
     "output_type": "display_data"
    }
   ],
   "source": [
    "df_jobs['Job Description'] = df_jobs.loc[df_jobs['Job Description'].notnull(), 'Job Description'].progress_apply(\n",
    "    lambda job_description: ' '.join(job_description.split('/')) if '/' in job_description else job_description\n",
    ")\n"
   ]
  },
  {
   "cell_type": "code",
   "execution_count": 32,
   "metadata": {},
   "outputs": [],
   "source": [
    "abb_dict = {\n",
    "    r'incl\\.': 'including',\n",
    "    r'e\\.g\\.': 'for example',\n",
    "    r'e\\.g': 'for example',\n",
    "    r'etc\\.': 'et cetera',\n",
    "    r'\\\"': '',\n",
    "}\n"
   ]
  },
  {
   "cell_type": "code",
   "execution_count": 33,
   "metadata": {},
   "outputs": [
    {
     "name": "stdout",
     "output_type": "stream",
     "text": [
      "CPU times: user 277 ms, sys: 3.73 ms, total: 281 ms\n",
      "Wall time: 290 ms\n"
     ]
    }
   ],
   "source": [
    "%%time\n",
    "df_jobs['Job Description'] = df_jobs['Job Description'].replace(abb_dict, regex=True)\n"
   ]
  },
  {
   "cell_type": "code",
   "execution_count": 34,
   "metadata": {},
   "outputs": [
    {
     "data": {
      "text/plain": [
       "0    About Our Client\\nThe Global KYC organisation ...\n",
       "2    Your role:\\n\\nWere in business to save our hom...\n",
       "3    During the past four years Colourful Rebel has...\n",
       "5    Job Description\\nWe are currently recruiting a...\n",
       "7    KARL LAGERFELD COMPANY PROFILE\\n\\nThe house of...\n",
       "Name: Job Description, dtype: object"
      ]
     },
     "execution_count": 34,
     "metadata": {},
     "output_type": "execute_result"
    }
   ],
   "source": [
    "df_jobs['Job Description'].head()\n"
   ]
  },
  {
   "cell_type": "code",
   "execution_count": 35,
   "metadata": {},
   "outputs": [
    {
     "data": {
      "text/plain": [
       "count                                                 17593\n",
       "unique                                                17593\n",
       "top       About Our Client\\nThe Global KYC organisation ...\n",
       "freq                                                      1\n",
       "Name: Job Description, dtype: object"
      ]
     },
     "execution_count": 35,
     "metadata": {},
     "output_type": "execute_result"
    }
   ],
   "source": [
    "# count= 17593, unique= 17593\n",
    "df_jobs['Job Description'].describe()\n"
   ]
  },
  {
   "cell_type": "code",
   "execution_count": 36,
   "metadata": {},
   "outputs": [],
   "source": [
    "assert len(df_jobs) > 0 and isinstance(df_jobs, pd.DataFrame), f'ERORR: LENGTH OF DF = {len(df_jobs)}'\n",
    "df_jobs.to_pickle(f'{df_save_dir}df_jobs_raw_fixed_abbreviations.pkl')\n",
    "df_jobs.to_csv(f'{df_save_dir}df_jobs_raw_fixed_abbreviations.csv', index=False)\n"
   ]
  },
  {
   "attachments": {},
   "cell_type": "markdown",
   "metadata": {},
   "source": [
    "# Add English and Dutch language requirement columns"
   ]
  },
  {
   "attachments": {},
   "cell_type": "markdown",
   "metadata": {},
   "source": [
    "### START HERE IF SOURCING FROM DF_JOBS_RAW_FIXED_ABBREVIATIONS\n",
    "### PLEASE SET CORRECT DIRECTORY PATHS BELOW\n"
   ]
  },
  {
   "cell_type": "code",
   "execution_count": 37,
   "metadata": {},
   "outputs": [],
   "source": [
    "import os # type:ignore # isort:skip # fmt:skip # noqa # nopep8\n",
    "import sys # type:ignore # isort:skip # fmt:skip # noqa # nopep8\n",
    "from pathlib import Path # type:ignore # isort:skip # fmt:skip # noqa # nopep8\n",
    "\n",
    "mod = sys.modules[__name__]\n",
    "\n",
    "code_dir = None\n",
    "code_dir_name = 'Code'\n",
    "unwanted_subdir_name = 'Analysis'\n",
    "\n",
    "if code_dir_name not in str(Path.cwd()).split('/')[-1]:\n",
    "    for _ in range(5):\n",
    "\n",
    "        parent_path = str(Path.cwd().parents[_]).split('/')[-1]\n",
    "\n",
    "        if (code_dir_name in parent_path) and (unwanted_subdir_name not in parent_path):\n",
    "\n",
    "            code_dir = str(Path.cwd().parents[_])\n",
    "\n",
    "            if code_dir is not None:\n",
    "                break\n",
    "else:\n",
    "    code_dir = str(Path.cwd())\n",
    "sys.path.append(code_dir)\n",
    "\n",
    "# %load_ext autoreload\n",
    "# %autoreload 2\n"
   ]
  },
  {
   "cell_type": "code",
   "execution_count": 38,
   "metadata": {},
   "outputs": [],
   "source": [
    "from setup_module.imports import * # type:ignore # isort:skip # fmt:skip # noqa # nopep8\n"
   ]
  },
  {
   "cell_type": "code",
   "execution_count": 39,
   "metadata": {},
   "outputs": [],
   "source": [
    "df_jobs = pd.read_pickle(f'{df_save_dir}df_jobs_raw_fixed_abbreviations.pkl')\n"
   ]
  },
  {
   "cell_type": "code",
   "execution_count": 40,
   "metadata": {},
   "outputs": [
    {
     "name": "stdout",
     "output_type": "stream",
     "text": [
      "<class 'pandas.core.frame.DataFrame'>\n",
      "Index: 17593 entries, 0 to 62535\n",
      "Data columns (total 20 columns):\n",
      " #   Column             Non-Null Count  Dtype  \n",
      "---  ------             --------------  -----  \n",
      " 0   Search Keyword     17593 non-null  object \n",
      " 1   Platform           17593 non-null  object \n",
      " 2   Job ID             17593 non-null  object \n",
      " 3   Job Title          17593 non-null  object \n",
      " 4   Company Name       17591 non-null  object \n",
      " 5   Location           17593 non-null  object \n",
      " 6   Job Description    17593 non-null  object \n",
      " 7   Rating             3780 non-null   float64\n",
      " 8   Employment Type    17011 non-null  object \n",
      " 9   Company URL        15954 non-null  object \n",
      " 10  Job URL            17593 non-null  object \n",
      " 11  Job Age            17593 non-null  object \n",
      " 12  Job Age Number     17593 non-null  object \n",
      " 13  Collection Date    17593 non-null  object \n",
      " 14  Data Row           13810 non-null  float64\n",
      " 15  Tracking ID        13810 non-null  object \n",
      " 16  Industry           14395 non-null  object \n",
      " 17  Job Date           13813 non-null  object \n",
      " 18  Type of ownership  582 non-null    object \n",
      " 19  Language           17593 non-null  object \n",
      "dtypes: float64(2), object(18)\n",
      "memory usage: 2.8+ MB\n"
     ]
    }
   ],
   "source": [
    "df_jobs.info()\n"
   ]
  },
  {
   "cell_type": "code",
   "execution_count": 41,
   "metadata": {},
   "outputs": [
    {
     "name": "stdout",
     "output_type": "stream",
     "text": [
      "CPU times: user 6.37 s, sys: 140 ms, total: 6.51 s\n",
      "Wall time: 8.59 s\n"
     ]
    }
   ],
   "source": [
    "%%time\n",
    "# Add language requirement column\n",
    "# Use regex to find language requirement\n",
    "lang_requirements = {\n",
    "    'Dutch Requirement in Job Ad': dutch_requirement_pattern, 'English Requirement in Job Ad': english_requirement_pattern\n",
    "}\n",
    "\n",
    "for lang_req, lang_req_pattern in lang_requirements.items():\n",
    "\n",
    "    if lang_req in df_jobs.columns:\n",
    "        df_jobs = df_jobs.drop(columns=[lang_req])\n",
    "    df_jobs[lang_req] = np.where(\n",
    "        df_jobs['Job Description'].str.contains(lang_req_pattern),\n",
    "        'Yes',\n",
    "        'No',\n",
    "    )\n",
    "    df_jobs[lang_req] = df_jobs[lang_req].astype('category').cat.reorder_categories(['No', 'Yes'], ordered=True)\n",
    "    df_jobs[lang_req] = pd.Categorical(df_jobs[lang_req], categories=['No', 'Yes'], ordered=True)\n",
    "\n",
    "assert len(df_jobs) > 0 and isinstance(df_jobs, pd.DataFrame), f'ERORR: LENGTH OF DF = {len(df_jobs)}'\n",
    "df_jobs.to_pickle(f'{df_save_dir}df_jobs_raw_language_requirement.pkl')\n",
    "df_jobs.to_csv(f'{df_save_dir}df_jobs_raw_english_requirement.csv', index=False)\n"
   ]
  },
  {
   "cell_type": "code",
   "execution_count": 42,
   "metadata": {},
   "outputs": [
    {
     "data": {
      "text/plain": [
       "Dutch Requirement in Job Ad\n",
       "No     17295\n",
       "Yes      298\n",
       "Name: count, dtype: int64"
      ]
     },
     "execution_count": 42,
     "metadata": {},
     "output_type": "execute_result"
    }
   ],
   "source": [
    "# Yes = 298 job ads\n",
    "df_jobs['Dutch Requirement in Job Ad'].value_counts()\n"
   ]
  },
  {
   "cell_type": "code",
   "execution_count": 43,
   "metadata": {},
   "outputs": [
    {
     "data": {
      "text/plain": [
       "English Requirement in Job Ad\n",
       "No     17048\n",
       "Yes      545\n",
       "Name: count, dtype: int64"
      ]
     },
     "execution_count": 43,
     "metadata": {},
     "output_type": "execute_result"
    }
   ],
   "source": [
    "# Yes = 545 job ads\n",
    "df_jobs['English Requirement in Job Ad'].value_counts()\n"
   ]
  },
  {
   "cell_type": "code",
   "execution_count": 44,
   "metadata": {},
   "outputs": [],
   "source": [
    "# Dummy coding for language requirement\n",
    "df_jobs = df_jobs.join(pd.get_dummies(df_jobs[['Dutch Requirement in Job Ad', 'English Requirement in Job Ad']], dtype='int64'))\n"
   ]
  },
  {
   "cell_type": "code",
   "execution_count": 45,
   "metadata": {},
   "outputs": [
    {
     "data": {
      "text/plain": [
       "Dutch Requirement in Job Ad_Yes\n",
       "0    17295\n",
       "1      298\n",
       "Name: count, dtype: int64"
      ]
     },
     "execution_count": 45,
     "metadata": {},
     "output_type": "execute_result"
    }
   ],
   "source": [
    "df_jobs['Dutch Requirement in Job Ad_Yes'].value_counts()\n"
   ]
  },
  {
   "cell_type": "code",
   "execution_count": 46,
   "metadata": {},
   "outputs": [
    {
     "data": {
      "text/plain": [
       "English Requirement in Job Ad_Yes\n",
       "0    17048\n",
       "1      545\n",
       "Name: count, dtype: int64"
      ]
     },
     "execution_count": 46,
     "metadata": {},
     "output_type": "execute_result"
    }
   ],
   "source": [
    "df_jobs['English Requirement in Job Ad_Yes'].value_counts()\n"
   ]
  },
  {
   "cell_type": "code",
   "execution_count": 47,
   "metadata": {},
   "outputs": [],
   "source": [
    "assert len(df_jobs) > 0 and isinstance(df_jobs, pd.DataFrame), f'ERORR: LENGTH OF DF = {len(df_jobs)}'\n",
    "df_jobs.to_pickle(f'{df_save_dir}df_jobs_raw_language_requirement.pkl')\n",
    "df_jobs.to_csv(f'{df_save_dir}df_jobs_raw_language_requirement.csv', index=False)\n"
   ]
  },
  {
   "attachments": {},
   "cell_type": "markdown",
   "metadata": {},
   "source": [
    "# Add data from Sectors dataframe (see CBS directory under '1. Scraping' directory)\n"
   ]
  },
  {
   "attachments": {},
   "cell_type": "markdown",
   "metadata": {},
   "source": [
    "### START HERE IF SOURCING FROM DF_JOBS_RAW_LANGUAGE_REQUIREMENT\n",
    "### PLEASE SET CORRECT DIRECTORY PATHS BELOW\n"
   ]
  },
  {
   "cell_type": "code",
   "execution_count": 48,
   "metadata": {},
   "outputs": [],
   "source": [
    "import os # type:ignore # isort:skip # fmt:skip # noqa # nopep8\n",
    "import sys # type:ignore # isort:skip # fmt:skip # noqa # nopep8\n",
    "from pathlib import Path # type:ignore # isort:skip # fmt:skip # noqa # nopep8\n",
    "\n",
    "mod = sys.modules[__name__]\n",
    "\n",
    "code_dir = None\n",
    "code_dir_name = 'Code'\n",
    "unwanted_subdir_name = 'Analysis'\n",
    "\n",
    "if code_dir_name not in str(Path.cwd()).split('/')[-1]:\n",
    "    for _ in range(5):\n",
    "\n",
    "        parent_path = str(Path.cwd().parents[_]).split('/')[-1]\n",
    "\n",
    "        if (code_dir_name in parent_path) and (unwanted_subdir_name not in parent_path):\n",
    "\n",
    "            code_dir = str(Path.cwd().parents[_])\n",
    "\n",
    "            if code_dir is not None:\n",
    "                break\n",
    "else:\n",
    "    code_dir = str(Path.cwd())\n",
    "sys.path.append(code_dir)\n",
    "\n",
    "# %load_ext autoreload\n",
    "# %autoreload 2\n"
   ]
  },
  {
   "cell_type": "code",
   "execution_count": 49,
   "metadata": {},
   "outputs": [],
   "source": [
    "from setup_module.imports import * # type:ignore # isort:skip # fmt:skip # noqa # nopep8\n"
   ]
  },
  {
   "cell_type": "code",
   "execution_count": 50,
   "metadata": {},
   "outputs": [],
   "source": [
    "df_jobs = pd.read_pickle(f'{df_save_dir}df_jobs_raw_language_requirement.pkl')\n"
   ]
  },
  {
   "cell_type": "code",
   "execution_count": 51,
   "metadata": {},
   "outputs": [
    {
     "name": "stdout",
     "output_type": "stream",
     "text": [
      "<class 'pandas.core.frame.DataFrame'>\n",
      "Index: 17593 entries, 0 to 62535\n",
      "Data columns (total 26 columns):\n",
      " #   Column                             Non-Null Count  Dtype   \n",
      "---  ------                             --------------  -----   \n",
      " 0   Search Keyword                     17593 non-null  object  \n",
      " 1   Platform                           17593 non-null  object  \n",
      " 2   Job ID                             17593 non-null  object  \n",
      " 3   Job Title                          17593 non-null  object  \n",
      " 4   Company Name                       17591 non-null  object  \n",
      " 5   Location                           17593 non-null  object  \n",
      " 6   Job Description                    17593 non-null  object  \n",
      " 7   Rating                             3780 non-null   float64 \n",
      " 8   Employment Type                    17011 non-null  object  \n",
      " 9   Company URL                        15954 non-null  object  \n",
      " 10  Job URL                            17593 non-null  object  \n",
      " 11  Job Age                            17593 non-null  object  \n",
      " 12  Job Age Number                     17593 non-null  object  \n",
      " 13  Collection Date                    17593 non-null  object  \n",
      " 14  Data Row                           13810 non-null  float64 \n",
      " 15  Tracking ID                        13810 non-null  object  \n",
      " 16  Industry                           14395 non-null  object  \n",
      " 17  Job Date                           13813 non-null  object  \n",
      " 18  Type of ownership                  582 non-null    object  \n",
      " 19  Language                           17593 non-null  object  \n",
      " 20  Dutch Requirement in Job Ad        17593 non-null  category\n",
      " 21  English Requirement in Job Ad      17593 non-null  category\n",
      " 22  Dutch Requirement in Job Ad_No     17593 non-null  int64   \n",
      " 23  Dutch Requirement in Job Ad_Yes    17593 non-null  int64   \n",
      " 24  English Requirement in Job Ad_No   17593 non-null  int64   \n",
      " 25  English Requirement in Job Ad_Yes  17593 non-null  int64   \n",
      "dtypes: category(2), float64(2), int64(4), object(18)\n",
      "memory usage: 3.4+ MB\n"
     ]
    }
   ],
   "source": [
    "df_jobs.info()\n"
   ]
  },
  {
   "cell_type": "code",
   "execution_count": 52,
   "metadata": {},
   "outputs": [],
   "source": [
    "try:\n",
    "    df_sectors_all = pd.read_pickle(f'{table_save_path}Sectors Output from script.pkl')\n",
    "except FileNotFoundError:\n",
    "    cbs_notebook = '\\\\'.join(f'{scraped_data}CBS/CBS.ipynb')\n",
    "    %run $cbs_notebook import df_sectors_all # type:ignore # isort:skip # fmt:skip # noqa # nopep8\n"
   ]
  },
  {
   "cell_type": "code",
   "execution_count": 53,
   "metadata": {},
   "outputs": [
    {
     "data": {
      "text/plain": [
       "MultiIndex([('SBI Sector Titles', 'Industry class / branch (SIC2008)',                   'Code'),\n",
       "            ('SBI Sector Titles', 'Industry class / branch (SIC2008)',            'Sector Name'),\n",
       "            ('SBI Sector Titles', 'Industry class / branch (SIC2008)',               'Keywords'),\n",
       "            ('SBI Sector Titles', 'Industry class / branch (SIC2008)',             'Keywords n'),\n",
       "            (           'Gender',                            'Female',                      'n'),\n",
       "            (           'Gender',                            'Female',           '% per Sector'),\n",
       "            (           'Gender',                            'Female',  '% per Social Category'),\n",
       "            (           'Gender',                            'Female',        '% per Workforce'),\n",
       "            (           'Gender',                              'Male',                      'n'),\n",
       "            (           'Gender',                              'Male',           '% per Sector'),\n",
       "            (           'Gender',                              'Male',  '% per Social Category'),\n",
       "            (           'Gender',                              'Male',        '% per Workforce'),\n",
       "            (           'Gender',       'Sectoral Gender Segregation',      'Dominant Category'),\n",
       "            (              'Age',               'Older (>= 45 years)',                      'n'),\n",
       "            (              'Age',               'Older (>= 45 years)',           '% per Sector'),\n",
       "            (              'Age',               'Older (>= 45 years)',  '% per Social Category'),\n",
       "            (              'Age',               'Older (>= 45 years)',        '% per Workforce'),\n",
       "            (              'Age',              'Younger (< 45 years)',                      'n'),\n",
       "            (              'Age',              'Younger (< 45 years)',           '% per Sector'),\n",
       "            (              'Age',              'Younger (< 45 years)',  '% per Social Category'),\n",
       "            (              'Age',              'Younger (< 45 years)',        '% per Workforce'),\n",
       "            (              'Age',          'Sectoral Age Segregation',      'Dominant Category'),\n",
       "            (  'Total Workforce',                   'Total Workforce',                      'n'),\n",
       "            (  'Total Workforce',                   'Total Workforce', '% Sector per Workforce')],\n",
       "           names=['Variables', 'Categories', 'Counts'])"
      ]
     },
     "execution_count": 53,
     "metadata": {},
     "output_type": "execute_result"
    }
   ],
   "source": [
    "df_sectors_all.columns\n"
   ]
  },
  {
   "cell_type": "code",
   "execution_count": 54,
   "metadata": {},
   "outputs": [],
   "source": [
    "df_sectors_all.columns = [\n",
    "    '_'.join(col)\n",
    "    if 'SBI Sector Titles' not in col\n",
    "    and 'Total Workforce' not in col\n",
    "    and 'Sector Titles' not in col\n",
    "    else col[-1]\n",
    "    for col in df_sectors_all.columns\n",
    "]\n"
   ]
  },
  {
   "cell_type": "code",
   "execution_count": 55,
   "metadata": {},
   "outputs": [],
   "source": [
    "df_sectors_all = df_sectors_all.rename(\n",
    "    columns={\n",
    "        'Keywords': 'Search Keyword',\n",
    "        'Keywords n': 'Keywords Count',\n",
    "        'Code': 'Sector Code',\n",
    "        'Sector Name': 'Sector',\n",
    "        'SBI 2008 Sector Name': 'Sector',\n",
    "        'Gender_Sectoral Gender Segregation_Dominant Category': 'Gender',\n",
    "        'Age_Sectoral Age Segregation_Dominant Category': 'Age',\n",
    "        'n': 'Sector_n',\n",
    "    },\n",
    ")\n",
    "df_sectors_all = df_sectors_all.rename(columns={element: re.sub(r' \\(\\W*45 years\\)', '', element) for element in df_sectors_all.columns.tolist()})\n"
   ]
  },
  {
   "cell_type": "code",
   "execution_count": 56,
   "metadata": {},
   "outputs": [
    {
     "data": {
      "text/plain": [
       "Index(['Sector Code', 'Sector', 'Search Keyword', 'Keywords Count', 'Gender_Female_n', 'Gender_Female_% per Sector', 'Gender_Female_% per Social Category', 'Gender_Female_% per Workforce', 'Gender_Male_n', 'Gender_Male_% per Sector', 'Gender_Male_% per Social Category', 'Gender_Male_% per Workforce', 'Gender', 'Age_Older_n', 'Age_Older_% per Sector', 'Age_Older_% per Social Category', 'Age_Older_% per Workforce', 'Age_Younger_n', 'Age_Younger_% per Sector', 'Age_Younger_% per Social Category', 'Age_Younger_% per Workforce', 'Age', 'Sector_n', '% Sector per Workforce'], dtype='object')"
      ]
     },
     "execution_count": 56,
     "metadata": {},
     "output_type": "execute_result"
    }
   ],
   "source": [
    "df_sectors_all.columns\n"
   ]
  },
  {
   "cell_type": "code",
   "execution_count": 57,
   "metadata": {},
   "outputs": [],
   "source": [
    "df_sectors_all = df_sectors_all.explode(\n",
    "    'Search Keyword', ignore_index=True\n",
    ")\n"
   ]
  },
  {
   "cell_type": "code",
   "execution_count": 58,
   "metadata": {},
   "outputs": [
    {
     "data": {
      "text/plain": [
       "Index(['Sector Code', 'Sector', 'Search Keyword', 'Keywords Count', 'Gender_Female_n', 'Gender_Female_% per Sector', 'Gender_Female_% per Social Category', 'Gender_Female_% per Workforce', 'Gender_Male_n', 'Gender_Male_% per Sector', 'Gender_Male_% per Social Category', 'Gender_Male_% per Workforce', 'Gender', 'Age_Older_n', 'Age_Older_% per Sector', 'Age_Older_% per Social Category', 'Age_Older_% per Workforce', 'Age_Younger_n', 'Age_Younger_% per Sector', 'Age_Younger_% per Social Category', 'Age_Younger_% per Workforce', 'Age', 'Sector_n', '% Sector per Workforce'], dtype='object')"
      ]
     },
     "execution_count": 58,
     "metadata": {},
     "output_type": "execute_result"
    }
   ],
   "source": [
    "df_sectors_all.columns\n"
   ]
  },
  {
   "cell_type": "code",
   "execution_count": 59,
   "metadata": {},
   "outputs": [
    {
     "data": {
      "text/plain": [
       "101"
      ]
     },
     "execution_count": 59,
     "metadata": {},
     "output_type": "execute_result"
    }
   ],
   "source": [
    "# len 101\n",
    "len(df_sectors_all)\n"
   ]
  },
  {
   "attachments": {},
   "cell_type": "markdown",
   "metadata": {},
   "source": [
    "#### Before adding sector data, make sure keywords are correct as to not have any missing sector data when merging"
   ]
  },
  {
   "cell_type": "code",
   "execution_count": 60,
   "metadata": {},
   "outputs": [],
   "source": [
    "# This is a manually collected dictionary of incorrect/faulty keywords in scraped site data\n",
    "with open(f'{scraped_data}CBS/Data/keyword_trans_dict.txt') as f:\n",
    "    keyword_trans_dict = json.load(f)\n",
    "\n",
    "def fix_keywords(df_temp):\n",
    "\n",
    "    if len(df_temp) > 0 and isinstance(df_temp, pd.DataFrame):\n",
    "        for key, value in keyword_trans_dict.items():\n",
    "            df_temp.loc[\n",
    "                df_temp[df_temp['Search Keyword'].notnull()]['Search Keyword'].astype(str).progress_apply(\n",
    "                lambda x: x.lower().strip()\n",
    "                ) == str(key).lower().strip(), 'Search Keyword'\n",
    "            ] = str(value).lower().strip()\n",
    "\n",
    "        unfixed = df_temp.loc[\n",
    "            df_temp[df_temp['Search Keyword'].notnull()]['Search Keyword'].astype(str).progress_apply(lambda x: x.lower().strip()).isin([x.lower().strip() for x in list(keyword_trans_dict.keys())])\n",
    "        ]\n",
    "\n",
    "        if len(unfixed) != 0:\n",
    "            for key, value in keyword_trans_dict.items():\n",
    "                for idx, row in df_temp.iterrows():\n",
    "                    if row['Search Keyword'].astype(str).lower().strip() == str(key).lower().strip():\n",
    "                        df_temp.loc[idx, 'Search Keyword'] = str(value).lower().strip()\n",
    "\n",
    "        unfixed = df_temp.loc[\n",
    "                df_temp[df_temp['Search Keyword'].notnull()]['Search Keyword'].astype(str).progress_apply(lambda x: x.lower().strip()).isin([x.lower().strip() for x in list(keyword_trans_dict.keys())])\n",
    "            ]\n",
    "        if len(unfixed) != 0:\n",
    "            print('Some keywords were not fixed. Please check file unfixed_keywords.txt in data directory.')\n",
    "            with open(f'{data_dir}unfixed_keywords.txt', 'w') as f:\n",
    "                json.dump(unfixed, f)\n",
    "\n",
    "    return df_temp\n",
    "\n",
    "# Fix keywords\n",
    "if len(df_jobs['Search Keyword'].loc[df_jobs['Search Keyword'].isin(list(keyword_trans_dict.keys()))]) != 0:\n",
    "    print('Some search keywords did not match a sector. Fixing')\n",
    "#     print(set(df_jobs['Search Keyword'].loc[df_jobs['Sector'].isna()].to_list()))\n",
    "    print(len(df_jobs['Search Keyword'].loc[df_jobs['Search Keyword'].isin(list(keyword_trans_dict.keys()))]))\n",
    "    df_jobs = fix_keywords(df_jobs)\n",
    "#     print(set(df_jobs['Search Keyword'].loc[df_jobs['Sector'].isna()].to_list()))\n",
    "    print(len(df_jobs['Search Keyword'].loc[df_jobs['Search Keyword'].isin(list(keyword_trans_dict.keys()))]))\n"
   ]
  },
  {
   "cell_type": "code",
   "execution_count": 61,
   "metadata": {},
   "outputs": [],
   "source": [
    "df_jobs = df_jobs.merge(df_sectors_all, on='Search Keyword', how='left')\n"
   ]
  },
  {
   "cell_type": "code",
   "execution_count": 62,
   "metadata": {},
   "outputs": [
    {
     "data": {
      "text/plain": [
       "17593"
      ]
     },
     "execution_count": 62,
     "metadata": {},
     "output_type": "execute_result"
    }
   ],
   "source": [
    "# 17593\n",
    "len(df_jobs)\n"
   ]
  },
  {
   "cell_type": "code",
   "execution_count": 63,
   "metadata": {},
   "outputs": [
    {
     "name": "stdout",
     "output_type": "stream",
     "text": [
      "<class 'pandas.core.frame.DataFrame'>\n",
      "RangeIndex: 17593 entries, 0 to 17592\n",
      "Data columns (total 49 columns):\n",
      " #   Column                               Non-Null Count  Dtype   \n",
      "---  ------                               --------------  -----   \n",
      " 0   Search Keyword                       17593 non-null  object  \n",
      " 1   Platform                             17593 non-null  object  \n",
      " 2   Job ID                               17593 non-null  object  \n",
      " 3   Job Title                            17593 non-null  object  \n",
      " 4   Company Name                         17591 non-null  object  \n",
      " 5   Location                             17593 non-null  object  \n",
      " 6   Job Description                      17593 non-null  object  \n",
      " 7   Rating                               3780 non-null   float64 \n",
      " 8   Employment Type                      17011 non-null  object  \n",
      " 9   Company URL                          15954 non-null  object  \n",
      " 10  Job URL                              17593 non-null  object  \n",
      " 11  Job Age                              17593 non-null  object  \n",
      " 12  Job Age Number                       17593 non-null  object  \n",
      " 13  Collection Date                      17593 non-null  object  \n",
      " 14  Data Row                             13810 non-null  float64 \n",
      " 15  Tracking ID                          13810 non-null  object  \n",
      " 16  Industry                             14395 non-null  object  \n",
      " 17  Job Date                             13813 non-null  object  \n",
      " 18  Type of ownership                    582 non-null    object  \n",
      " 19  Language                             17593 non-null  object  \n",
      " 20  Dutch Requirement in Job Ad          17593 non-null  category\n",
      " 21  English Requirement in Job Ad        17593 non-null  category\n",
      " 22  Dutch Requirement in Job Ad_No       17593 non-null  int64   \n",
      " 23  Dutch Requirement in Job Ad_Yes      17593 non-null  int64   \n",
      " 24  English Requirement in Job Ad_No     17593 non-null  int64   \n",
      " 25  English Requirement in Job Ad_Yes    17593 non-null  int64   \n",
      " 26  Sector Code                          17593 non-null  object  \n",
      " 27  Sector                               17593 non-null  object  \n",
      " 28  Keywords Count                       17593 non-null  float64 \n",
      " 29  Gender_Female_n                      17593 non-null  float64 \n",
      " 30  Gender_Female_% per Sector           17593 non-null  float64 \n",
      " 31  Gender_Female_% per Social Category  17593 non-null  float64 \n",
      " 32  Gender_Female_% per Workforce        17593 non-null  float64 \n",
      " 33  Gender_Male_n                        17593 non-null  float64 \n",
      " 34  Gender_Male_% per Sector             17593 non-null  float64 \n",
      " 35  Gender_Male_% per Social Category    17593 non-null  float64 \n",
      " 36  Gender_Male_% per Workforce          17593 non-null  float64 \n",
      " 37  Gender                               17593 non-null  object  \n",
      " 38  Age_Older_n                          17593 non-null  float64 \n",
      " 39  Age_Older_% per Sector               17593 non-null  float64 \n",
      " 40  Age_Older_% per Social Category      17593 non-null  float64 \n",
      " 41  Age_Older_% per Workforce            17593 non-null  float64 \n",
      " 42  Age_Younger_n                        17593 non-null  float64 \n",
      " 43  Age_Younger_% per Sector             17593 non-null  float64 \n",
      " 44  Age_Younger_% per Social Category    17593 non-null  float64 \n",
      " 45  Age_Younger_% per Workforce          17593 non-null  float64 \n",
      " 46  Age                                  17593 non-null  object  \n",
      " 47  Sector_n                             17593 non-null  float64 \n",
      " 48  % Sector per Workforce               17593 non-null  float64 \n",
      "dtypes: category(2), float64(21), int64(4), object(22)\n",
      "memory usage: 6.3+ MB\n"
     ]
    }
   ],
   "source": [
    "df_jobs.info()\n"
   ]
  },
  {
   "attachments": {},
   "cell_type": "markdown",
   "metadata": {},
   "source": [
    "#### Check if there is any missing sector data in the merged dataframe"
   ]
  },
  {
   "cell_type": "code",
   "execution_count": 64,
   "metadata": {},
   "outputs": [
    {
     "data": {
      "text/plain": [
       "0"
      ]
     },
     "execution_count": 64,
     "metadata": {},
     "output_type": "execute_result"
    }
   ],
   "source": [
    "df_jobs['Sector'].isna().sum()\n"
   ]
  },
  {
   "cell_type": "code",
   "execution_count": 65,
   "metadata": {},
   "outputs": [],
   "source": [
    "if df_jobs['Sector'].isna().sum() != 0:\n",
    "    print('Some search keywords did not match a sector. Fixing')\n",
    "    print(set(df_jobs['Search Keyword'].loc[df_jobs['Sector'].isna()].to_list()))\n",
    "    print(len(df_jobs['Search Keyword'].loc[df_jobs['Search Keyword'].isin(list(keyword_trans_dict.keys()))]))\n",
    "    df_jobs = fix_keywords(df_jobs)\n",
    "    print(set(df_jobs['Search Keyword'].loc[df_jobs['Sector'].isna()].to_list()))\n",
    "    print(len(df_jobs['Search Keyword'].loc[df_jobs['Search Keyword'].isin(list(keyword_trans_dict.keys()))]))\n"
   ]
  },
  {
   "cell_type": "code",
   "execution_count": 66,
   "metadata": {},
   "outputs": [
    {
     "data": {
      "text/plain": [
       "Gender\n",
       "Male            6974\n",
       "Mixed Gender    6664\n",
       "Female          3955\n",
       "Name: count, dtype: int64"
      ]
     },
     "execution_count": 66,
     "metadata": {},
     "output_type": "execute_result"
    }
   ],
   "source": [
    "# Female=3955, Male=6974, Mixed Gender=6664\n",
    "df_jobs['Gender'].value_counts()\n"
   ]
  },
  {
   "cell_type": "code",
   "execution_count": 67,
   "metadata": {},
   "outputs": [
    {
     "data": {
      "text/plain": [
       "Age\n",
       "Mixed Age    11464\n",
       "Older         3778\n",
       "Younger       2351\n",
       "Name: count, dtype: int64"
      ]
     },
     "execution_count": 67,
     "metadata": {},
     "output_type": "execute_result"
    }
   ],
   "source": [
    "# Older=3778, Younger=2351, Mixed Age=11464\n",
    "df_jobs['Age'].value_counts()\n"
   ]
  },
  {
   "cell_type": "code",
   "execution_count": 68,
   "metadata": {},
   "outputs": [],
   "source": [
    "if df_jobs['Sector'].isna().sum() == 0:\n",
    "    assert len(df_jobs) > 0 and isinstance(df_jobs, pd.DataFrame), f'ERORR: LENGTH OF DF = {len(df_jobs)}'\n",
    "    df_jobs.to_pickle(f'{df_save_dir}df_jobs_including_sector_data.pkl')\n",
    "    df_jobs.to_csv(f'{df_save_dir}df_jobs_including_sector_data.csv', index=False)\n",
    "\n",
    "else:\n",
    "    print(f\"MISSING SECTOR DATA: COUNT {df_jobs['Sector'].isna().sum()}\")\n"
   ]
  },
  {
   "attachments": {},
   "cell_type": "markdown",
   "metadata": {},
   "source": [
    "# Add interaction terms and categorical data\n"
   ]
  },
  {
   "attachments": {},
   "cell_type": "markdown",
   "metadata": {},
   "source": [
    "### START HERE IF SOURCING FROM DF_JOBS_INCLUDING_SECTOR_DATA\n",
    "### PLEASE SET CORRECT DIRECTORY PATHS BELOW\n"
   ]
  },
  {
   "cell_type": "code",
   "execution_count": 69,
   "metadata": {},
   "outputs": [],
   "source": [
    "import os # type:ignore # isort:skip # fmt:skip # noqa # nopep8\n",
    "import sys # type:ignore # isort:skip # fmt:skip # noqa # nopep8\n",
    "from pathlib import Path # type:ignore # isort:skip # fmt:skip # noqa # nopep8\n",
    "\n",
    "mod = sys.modules[__name__]\n",
    "\n",
    "code_dir = None\n",
    "code_dir_name = 'Code'\n",
    "unwanted_subdir_name = 'Analysis'\n",
    "\n",
    "if code_dir_name not in str(Path.cwd()).split('/')[-1]:\n",
    "    for _ in range(5):\n",
    "\n",
    "        parent_path = str(Path.cwd().parents[_]).split('/')[-1]\n",
    "\n",
    "        if (code_dir_name in parent_path) and (unwanted_subdir_name not in parent_path):\n",
    "\n",
    "            code_dir = str(Path.cwd().parents[_])\n",
    "\n",
    "            if code_dir is not None:\n",
    "                break\n",
    "else:\n",
    "    code_dir = str(Path.cwd())\n",
    "sys.path.append(code_dir)\n",
    "\n",
    "# %load_ext autoreload\n",
    "# %autoreload 2\n"
   ]
  },
  {
   "cell_type": "code",
   "execution_count": 70,
   "metadata": {},
   "outputs": [],
   "source": [
    "from setup_module.imports import * # type:ignore # isort:skip # fmt:skip # noqa # nopep8\n"
   ]
  },
  {
   "cell_type": "code",
   "execution_count": 71,
   "metadata": {},
   "outputs": [],
   "source": [
    "df_jobs = pd.read_pickle(f'{df_save_dir}df_jobs_including_sector_data.pkl')\n"
   ]
  },
  {
   "cell_type": "code",
   "execution_count": 72,
   "metadata": {},
   "outputs": [
    {
     "name": "stdout",
     "output_type": "stream",
     "text": [
      "<class 'pandas.core.frame.DataFrame'>\n",
      "RangeIndex: 17593 entries, 0 to 17592\n",
      "Data columns (total 49 columns):\n",
      " #   Column                               Non-Null Count  Dtype   \n",
      "---  ------                               --------------  -----   \n",
      " 0   Search Keyword                       17593 non-null  object  \n",
      " 1   Platform                             17593 non-null  object  \n",
      " 2   Job ID                               17593 non-null  object  \n",
      " 3   Job Title                            17593 non-null  object  \n",
      " 4   Company Name                         17591 non-null  object  \n",
      " 5   Location                             17593 non-null  object  \n",
      " 6   Job Description                      17593 non-null  object  \n",
      " 7   Rating                               3780 non-null   float64 \n",
      " 8   Employment Type                      17011 non-null  object  \n",
      " 9   Company URL                          15954 non-null  object  \n",
      " 10  Job URL                              17593 non-null  object  \n",
      " 11  Job Age                              17593 non-null  object  \n",
      " 12  Job Age Number                       17593 non-null  object  \n",
      " 13  Collection Date                      17593 non-null  object  \n",
      " 14  Data Row                             13810 non-null  float64 \n",
      " 15  Tracking ID                          13810 non-null  object  \n",
      " 16  Industry                             14395 non-null  object  \n",
      " 17  Job Date                             13813 non-null  object  \n",
      " 18  Type of ownership                    582 non-null    object  \n",
      " 19  Language                             17593 non-null  object  \n",
      " 20  Dutch Requirement in Job Ad          17593 non-null  category\n",
      " 21  English Requirement in Job Ad        17593 non-null  category\n",
      " 22  Dutch Requirement in Job Ad_No       17593 non-null  int64   \n",
      " 23  Dutch Requirement in Job Ad_Yes      17593 non-null  int64   \n",
      " 24  English Requirement in Job Ad_No     17593 non-null  int64   \n",
      " 25  English Requirement in Job Ad_Yes    17593 non-null  int64   \n",
      " 26  Sector Code                          17593 non-null  object  \n",
      " 27  Sector                               17593 non-null  object  \n",
      " 28  Keywords Count                       17593 non-null  float64 \n",
      " 29  Gender_Female_n                      17593 non-null  float64 \n",
      " 30  Gender_Female_% per Sector           17593 non-null  float64 \n",
      " 31  Gender_Female_% per Social Category  17593 non-null  float64 \n",
      " 32  Gender_Female_% per Workforce        17593 non-null  float64 \n",
      " 33  Gender_Male_n                        17593 non-null  float64 \n",
      " 34  Gender_Male_% per Sector             17593 non-null  float64 \n",
      " 35  Gender_Male_% per Social Category    17593 non-null  float64 \n",
      " 36  Gender_Male_% per Workforce          17593 non-null  float64 \n",
      " 37  Gender                               17593 non-null  object  \n",
      " 38  Age_Older_n                          17593 non-null  float64 \n",
      " 39  Age_Older_% per Sector               17593 non-null  float64 \n",
      " 40  Age_Older_% per Social Category      17593 non-null  float64 \n",
      " 41  Age_Older_% per Workforce            17593 non-null  float64 \n",
      " 42  Age_Younger_n                        17593 non-null  float64 \n",
      " 43  Age_Younger_% per Sector             17593 non-null  float64 \n",
      " 44  Age_Younger_% per Social Category    17593 non-null  float64 \n",
      " 45  Age_Younger_% per Workforce          17593 non-null  float64 \n",
      " 46  Age                                  17593 non-null  object  \n",
      " 47  Sector_n                             17593 non-null  float64 \n",
      " 48  % Sector per Workforce               17593 non-null  float64 \n",
      "dtypes: category(2), float64(21), int64(4), object(22)\n",
      "memory usage: 6.3+ MB\n"
     ]
    }
   ],
   "source": [
    "df_jobs.info()\n"
   ]
  },
  {
   "cell_type": "code",
   "execution_count": 73,
   "metadata": {},
   "outputs": [],
   "source": [
    "df_jobs['Sector Job Advertisement Count'] = df_jobs['Sector'].map(df_jobs.groupby('Sector')['Job ID'].count().to_dict())\n"
   ]
  },
  {
   "cell_type": "code",
   "execution_count": 74,
   "metadata": {},
   "outputs": [
    {
     "data": {
      "text/plain": [
       "0    1787\n",
       "1    1787\n",
       "2    1787\n",
       "3    1787\n",
       "4    1787\n",
       "Name: Sector Job Advertisement Count, dtype: int64"
      ]
     },
     "execution_count": 74,
     "metadata": {},
     "output_type": "execute_result"
    }
   ],
   "source": [
    "df_jobs['Sector Job Advertisement Count'].head()\n"
   ]
  },
  {
   "cell_type": "code",
   "execution_count": 75,
   "metadata": {},
   "outputs": [
    {
     "data": {
      "text/plain": [
       "Sector                                Sector Job Advertisement Count\n",
       "Information and communication         2895                              2895\n",
       "Commercial services                   1787                              1787\n",
       "Culture, recreation, other services   1477                              1477\n",
       "Transportation and storage            1465                              1465\n",
       "Education                             1411                              1411\n",
       "Health and social work activities     1362                              1362\n",
       "Accommodation and food serving        1287                              1287\n",
       "Manufacturing                         1083                              1083\n",
       "Renting and other business support    1064                              1064\n",
       "Other service activities              1032                              1032\n",
       "Agriculture and industry              458                                458\n",
       "Business services                     418                                418\n",
       "Renting, buying, selling real estate  362                                362\n",
       "Industry (no construction), energy    315                                315\n",
       "Water supply and waste management     284                                284\n",
       "Financial institutions                269                                269\n",
       "Energy supply                         249                                249\n",
       "Construction                          225                                225\n",
       "Government and care                   150                                150\n",
       "Name: count, dtype: int64"
      ]
     },
     "execution_count": 75,
     "metadata": {},
     "output_type": "execute_result"
    }
   ],
   "source": [
    "df_jobs[['Sector', 'Sector Job Advertisement Count']].value_counts()\n"
   ]
  },
  {
   "cell_type": "code",
   "execution_count": 76,
   "metadata": {},
   "outputs": [
    {
     "data": {
      "text/plain": [
       "count   17593.000\n",
       "mean     1459.523\n",
       "std       762.235\n",
       "min       150.000\n",
       "25%      1064.000\n",
       "50%      1411.000\n",
       "75%      1787.000\n",
       "max      2895.000\n",
       "Name: Sector Job Advertisement Count, dtype: float64"
      ]
     },
     "execution_count": 76,
     "metadata": {},
     "output_type": "execute_result"
    }
   ],
   "source": [
    "df_jobs['Sector Job Advertisement Count'].describe()\n"
   ]
  },
  {
   "cell_type": "code",
   "execution_count": 77,
   "metadata": {},
   "outputs": [],
   "source": [
    "df_jobs['Sector Gender Designation Job Advertisement Count'] = df_jobs['Gender'].map(df_jobs.groupby('Gender')['Job ID'].count().to_dict())\n"
   ]
  },
  {
   "cell_type": "code",
   "execution_count": 78,
   "metadata": {},
   "outputs": [
    {
     "data": {
      "text/plain": [
       "0    6664\n",
       "1    6664\n",
       "2    6664\n",
       "3    6664\n",
       "4    6664\n",
       "Name: Sector Gender Designation Job Advertisement Count, dtype: int64"
      ]
     },
     "execution_count": 78,
     "metadata": {},
     "output_type": "execute_result"
    }
   ],
   "source": [
    "df_jobs['Sector Gender Designation Job Advertisement Count'].head()\n"
   ]
  },
  {
   "cell_type": "code",
   "execution_count": 79,
   "metadata": {},
   "outputs": [
    {
     "data": {
      "text/plain": [
       "Gender        Sector Gender Designation Job Advertisement Count\n",
       "Male          6974                                                 6974\n",
       "Mixed Gender  6664                                                 6664\n",
       "Female        3955                                                 3955\n",
       "Name: count, dtype: int64"
      ]
     },
     "execution_count": 79,
     "metadata": {},
     "output_type": "execute_result"
    }
   ],
   "source": [
    "df_jobs[['Gender', 'Sector Gender Designation Job Advertisement Count']].value_counts()\n"
   ]
  },
  {
   "cell_type": "code",
   "execution_count": 80,
   "metadata": {},
   "outputs": [
    {
     "data": {
      "text/plain": [
       "count   17593.000\n",
       "mean     6177.889\n",
       "std      1204.843\n",
       "min      3955.000\n",
       "25%      6664.000\n",
       "50%      6664.000\n",
       "75%      6974.000\n",
       "max      6974.000\n",
       "Name: Sector Gender Designation Job Advertisement Count, dtype: float64"
      ]
     },
     "execution_count": 80,
     "metadata": {},
     "output_type": "execute_result"
    }
   ],
   "source": [
    "df_jobs['Sector Gender Designation Job Advertisement Count'].describe()\n"
   ]
  },
  {
   "cell_type": "code",
   "execution_count": 81,
   "metadata": {},
   "outputs": [],
   "source": [
    "df_jobs['Sector Age Designation Job Advertisement Count'] = df_jobs['Age'].map(df_jobs.groupby('Age')['Job ID'].count().to_dict())\n"
   ]
  },
  {
   "cell_type": "code",
   "execution_count": 82,
   "metadata": {},
   "outputs": [
    {
     "data": {
      "text/plain": [
       "0    11464\n",
       "1    11464\n",
       "2    11464\n",
       "3    11464\n",
       "4    11464\n",
       "Name: Sector Age Designation Job Advertisement Count, dtype: int64"
      ]
     },
     "execution_count": 82,
     "metadata": {},
     "output_type": "execute_result"
    }
   ],
   "source": [
    "df_jobs['Sector Age Designation Job Advertisement Count'].head()\n"
   ]
  },
  {
   "cell_type": "code",
   "execution_count": 83,
   "metadata": {},
   "outputs": [
    {
     "data": {
      "text/plain": [
       "Age        Sector Age Designation Job Advertisement Count\n",
       "Mixed Age  11464                                             11464\n",
       "Older      3778                                               3778\n",
       "Younger    2351                                               2351\n",
       "Name: count, dtype: int64"
      ]
     },
     "execution_count": 83,
     "metadata": {},
     "output_type": "execute_result"
    }
   ],
   "source": [
    "df_jobs[['Age', 'Sector Age Designation Job Advertisement Count']].value_counts()\n"
   ]
  },
  {
   "cell_type": "code",
   "execution_count": 84,
   "metadata": {},
   "outputs": [
    {
     "data": {
      "text/plain": [
       "count   17593.000\n",
       "mean     8595.679\n",
       "std      3944.278\n",
       "min      2351.000\n",
       "25%      3778.000\n",
       "50%     11464.000\n",
       "75%     11464.000\n",
       "max     11464.000\n",
       "Name: Sector Age Designation Job Advertisement Count, dtype: float64"
      ]
     },
     "execution_count": 84,
     "metadata": {},
     "output_type": "execute_result"
    }
   ],
   "source": [
    "df_jobs['Sector Age Designation Job Advertisement Count'].describe()\n"
   ]
  },
  {
   "cell_type": "code",
   "execution_count": 85,
   "metadata": {},
   "outputs": [],
   "source": [
    "df_jobs = df_jobs.join(pd.get_dummies(df_jobs[['Gender', 'Age']], dtype='int64'))\n",
    "df_jobs = df_jobs.rename({'Gender_Mixed Gender': 'Gender_Mixed', 'Age_Mixed Age': 'Age_Mixed'}, axis='columns')\n"
   ]
  },
  {
   "cell_type": "code",
   "execution_count": 86,
   "metadata": {},
   "outputs": [
    {
     "data": {
      "text/plain": [
       "Index(['Search Keyword', 'Platform', 'Job ID', 'Job Title', 'Company Name', 'Location', 'Job Description', 'Rating', 'Employment Type', 'Company URL', 'Job URL', 'Job Age', 'Job Age Number', 'Collection Date', 'Data Row', 'Tracking ID', 'Industry', 'Job Date', 'Type of ownership', 'Language', 'Dutch Requirement in Job Ad', 'English Requirement in Job Ad', 'Dutch Requirement in Job Ad_No', 'Dutch Requirement in Job Ad_Yes', 'English Requirement in Job Ad_No', 'English Requirement in Job Ad_Yes', 'Sector Code', 'Sector', 'Keywords Count', 'Gender_Female_n', 'Gender_Female_% per Sector', 'Gender_Female_% per Social Category', 'Gender_Female_% per Workforce', 'Gender_Male_n', 'Gender_Male_% per Sector', 'Gender_Male_% per Social Category', 'Gender_Male_% per Workforce', 'Gender', 'Age_Older_n', 'Age_Older_% per Sector', 'Age_Older_% per Social Category', 'Age_Older_% per Workforce', 'Age_Younger_n', 'Age_Younger_% per Sector', 'Age_Younger_% per Social Category', 'Age_Younger_% per Workforce', 'Age', 'Sector_n', '% Sector per Workforce', 'Sector Job Advertisement Count', 'Sector Gender Designation Job Advertisement Count', 'Sector Age Designation Job Advertisement Count', 'Gender_Female', 'Gender_Male', 'Gender_Mixed', 'Age_Mixed', 'Age_Older', 'Age_Younger'], dtype='object')"
      ]
     },
     "execution_count": 86,
     "metadata": {},
     "output_type": "execute_result"
    }
   ],
   "source": [
    "df_jobs.columns\n"
   ]
  },
  {
   "cell_type": "code",
   "execution_count": 87,
   "metadata": {},
   "outputs": [],
   "source": [
    "df_jobs = categorize_df_gender_age(df_jobs)\n"
   ]
  },
  {
   "cell_type": "code",
   "execution_count": 88,
   "metadata": {},
   "outputs": [],
   "source": [
    "df_jobs['Interaction_Female_Older_% per Sector'] = df_jobs['Gender_Female_% per Sector'] * df_jobs['Age_Older_% per Sector']\n",
    "df_jobs['Interaction_Female_Younger_% per Sector'] = df_jobs['Gender_Female_% per Sector'] * df_jobs['Age_Younger_% per Sector']\n",
    "df_jobs['Interaction_Male_Older_% per Sector'] = df_jobs['Gender_Male_% per Sector'] * df_jobs['Age_Older_% per Sector']\n",
    "df_jobs['Interaction_Male_Younger_% per Sector'] = df_jobs['Gender_Male_% per Sector'] * df_jobs['Age_Younger_% per Sector']\n"
   ]
  },
  {
   "cell_type": "code",
   "execution_count": 89,
   "metadata": {},
   "outputs": [
    {
     "data": {
      "text/plain": [
       "Index(['Search Keyword', 'Platform', 'Job ID', 'Job Title', 'Company Name', 'Location', 'Job Description', 'Rating', 'Employment Type', 'Company URL', 'Job URL', 'Job Age', 'Job Age Number', 'Collection Date', 'Data Row', 'Tracking ID', 'Industry', 'Job Date', 'Type of ownership', 'Language', 'Dutch Requirement in Job Ad', 'English Requirement in Job Ad', 'Dutch Requirement in Job Ad_No', 'Dutch Requirement in Job Ad_Yes', 'English Requirement in Job Ad_No', 'English Requirement in Job Ad_Yes', 'Sector Code', 'Sector', 'Keywords Count', 'Gender_Female_n', 'Gender_Female_% per Sector', 'Gender_Female_% per Social Category', 'Gender_Female_% per Workforce', 'Gender_Male_n', 'Gender_Male_% per Sector', 'Gender_Male_% per Social Category', 'Gender_Male_% per Workforce', 'Gender', 'Age_Older_n', 'Age_Older_% per Sector', 'Age_Older_% per Social Category', 'Age_Older_% per Workforce', 'Age_Younger_n', 'Age_Younger_% per Sector', 'Age_Younger_% per Social Category', 'Age_Younger_% per Workforce', 'Age', 'Sector_n', '% Sector per Workforce', 'Sector Job Advertisement Count', 'Sector Gender Designation Job Advertisement Count', 'Sector Age Designation Job Advertisement Count', 'Gender_Female', 'Gender_Male', 'Gender_Mixed', 'Age_Mixed', 'Age_Older', 'Age_Younger', 'Gender_Num', 'Age_Num', 'Interaction_Female_Older_% per Sector', 'Interaction_Female_Younger_% per Sector', 'Interaction_Male_Older_% per Sector', 'Interaction_Male_Younger_% per Sector'], dtype='object')"
      ]
     },
     "execution_count": 89,
     "metadata": {},
     "output_type": "execute_result"
    }
   ],
   "source": [
    "df_jobs.columns\n"
   ]
  },
  {
   "cell_type": "code",
   "execution_count": 90,
   "metadata": {},
   "outputs": [
    {
     "name": "stdout",
     "output_type": "stream",
     "text": [
      "\n",
      "DF INFO:\n",
      "\n",
      "<class 'pandas.core.frame.DataFrame'>\n",
      "RangeIndex: 17593 entries, 0 to 17592\n",
      "Data columns (total 64 columns):\n",
      " #   Column                                             Non-Null Count  Dtype   \n",
      "---  ------                                             --------------  -----   \n",
      " 0   Search Keyword                                     17593 non-null  object  \n",
      " 1   Platform                                           17593 non-null  object  \n",
      " 2   Job ID                                             17593 non-null  object  \n",
      " 3   Job Title                                          17593 non-null  object  \n",
      " 4   Company Name                                       17591 non-null  object  \n",
      " 5   Location                                           17593 non-null  object  \n",
      " 6   Job Description                                    17593 non-null  object  \n",
      " 7   Rating                                             3780 non-null   float64 \n",
      " 8   Employment Type                                    17011 non-null  object  \n",
      " 9   Company URL                                        15954 non-null  object  \n",
      " 10  Job URL                                            17593 non-null  object  \n",
      " 11  Job Age                                            17593 non-null  object  \n",
      " 12  Job Age Number                                     17593 non-null  object  \n",
      " 13  Collection Date                                    17593 non-null  object  \n",
      " 14  Data Row                                           13810 non-null  float64 \n",
      " 15  Tracking ID                                        13810 non-null  object  \n",
      " 16  Industry                                           14395 non-null  object  \n",
      " 17  Job Date                                           13813 non-null  object  \n",
      " 18  Type of ownership                                  582 non-null    object  \n",
      " 19  Language                                           17593 non-null  object  \n",
      " 20  Dutch Requirement in Job Ad                        17593 non-null  category\n",
      " 21  English Requirement in Job Ad                      17593 non-null  category\n",
      " 22  Dutch Requirement in Job Ad_No                     17593 non-null  int64   \n",
      " 23  Dutch Requirement in Job Ad_Yes                    17593 non-null  int64   \n",
      " 24  English Requirement in Job Ad_No                   17593 non-null  int64   \n",
      " 25  English Requirement in Job Ad_Yes                  17593 non-null  int64   \n",
      " 26  Sector Code                                        17593 non-null  object  \n",
      " 27  Sector                                             17593 non-null  object  \n",
      " 28  Keywords Count                                     17593 non-null  float64 \n",
      " 29  Gender_Female_n                                    17593 non-null  float64 \n",
      " 30  Gender_Female_% per Sector                         17593 non-null  float64 \n",
      " 31  Gender_Female_% per Social Category                17593 non-null  float64 \n",
      " 32  Gender_Female_% per Workforce                      17593 non-null  float64 \n",
      " 33  Gender_Male_n                                      17593 non-null  float64 \n",
      " 34  Gender_Male_% per Sector                           17593 non-null  float64 \n",
      " 35  Gender_Male_% per Social Category                  17593 non-null  float64 \n",
      " 36  Gender_Male_% per Workforce                        17593 non-null  float64 \n",
      " 37  Gender                                             17593 non-null  category\n",
      " 38  Age_Older_n                                        17593 non-null  float64 \n",
      " 39  Age_Older_% per Sector                             17593 non-null  float64 \n",
      " 40  Age_Older_% per Social Category                    17593 non-null  float64 \n",
      " 41  Age_Older_% per Workforce                          17593 non-null  float64 \n",
      " 42  Age_Younger_n                                      17593 non-null  float64 \n",
      " 43  Age_Younger_% per Sector                           17593 non-null  float64 \n",
      " 44  Age_Younger_% per Social Category                  17593 non-null  float64 \n",
      " 45  Age_Younger_% per Workforce                        17593 non-null  float64 \n",
      " 46  Age                                                17593 non-null  category\n",
      " 47  Sector_n                                           17593 non-null  float64 \n",
      " 48  % Sector per Workforce                             17593 non-null  float64 \n",
      " 49  Sector Job Advertisement Count                     17593 non-null  int64   \n",
      " 50  Sector Gender Designation Job Advertisement Count  17593 non-null  int64   \n",
      " 51  Sector Age Designation Job Advertisement Count     17593 non-null  int64   \n",
      " 52  Gender_Female                                      17593 non-null  int64   \n",
      " 53  Gender_Male                                        17593 non-null  int64   \n",
      " 54  Gender_Mixed                                       17593 non-null  int64   \n",
      " 55  Age_Mixed                                          17593 non-null  int64   \n",
      " 56  Age_Older                                          17593 non-null  int64   \n",
      " 57  Age_Younger                                        17593 non-null  int64   \n",
      " 58  Gender_Num                                         17593 non-null  int64   \n",
      " 59  Age_Num                                            17593 non-null  int64   \n",
      " 60  Interaction_Female_Older_% per Sector              17593 non-null  float64 \n",
      " 61  Interaction_Female_Younger_% per Sector            17593 non-null  float64 \n",
      " 62  Interaction_Male_Older_% per Sector                17593 non-null  float64 \n",
      " 63  Interaction_Male_Younger_% per Sector              17593 non-null  float64 \n",
      "dtypes: category(4), float64(25), int64(15), object(20)\n",
      "memory usage: 8.1+ MB\n",
      "====================\n",
      "Gender:\n",
      "--------------------\n",
      "Gender Counts:\n",
      "Gender\n",
      "Male            6974\n",
      "Mixed Gender    6664\n",
      "Female          3955\n",
      "Name: count, dtype: int64\n",
      "--------------------\n",
      "Gender Percentages:\n",
      "Gender\n",
      "Male           39.600\n",
      "Mixed Gender   37.900\n",
      "Female         22.500\n",
      "Name: proportion, dtype: float64\n",
      "--------------------\n",
      "Gender not available.\n",
      "====================\n",
      "Gender_Num:\n",
      "--------------------\n",
      "Gender_Num Counts:\n",
      "Gender_Num\n",
      "2    6974\n",
      "1    6664\n",
      "0    3955\n",
      "Name: count, dtype: int64\n",
      "--------------------\n",
      "Gender_Num Percentages:\n",
      "Gender_Num\n",
      "2   39.600\n",
      "1   37.900\n",
      "0   22.500\n",
      "Name: proportion, dtype: float64\n",
      "--------------------\n",
      "Min Gender_Num value: 0.0\n",
      "Max Gender_Num value: 2.0\n",
      "--------------------\n",
      "Gender_Num Mean: 1.172\n",
      "--------------------\n",
      "Gender_Num Standard Deviation: 0.769\n",
      "====================\n",
      "Gender_Female:\n",
      "--------------------\n",
      "Gender_Female Counts:\n",
      "Gender_Female\n",
      "0    13638\n",
      "1     3955\n",
      "Name: count, dtype: int64\n",
      "--------------------\n",
      "Gender_Female Percentages:\n",
      "Gender_Female\n",
      "0   77.500\n",
      "1   22.500\n",
      "Name: proportion, dtype: float64\n",
      "--------------------\n",
      "Min Gender_Female value: 0.0\n",
      "Max Gender_Female value: 1.0\n",
      "--------------------\n",
      "Gender_Female Mean: 0.225\n",
      "--------------------\n",
      "Gender_Female Standard Deviation: 0.417\n",
      "====================\n",
      "Gender_Mixed:\n",
      "--------------------\n",
      "Gender_Mixed Counts:\n",
      "Gender_Mixed\n",
      "0    10929\n",
      "1     6664\n",
      "Name: count, dtype: int64\n",
      "--------------------\n",
      "Gender_Mixed Percentages:\n",
      "Gender_Mixed\n",
      "0   62.100\n",
      "1   37.900\n",
      "Name: proportion, dtype: float64\n",
      "--------------------\n",
      "Min Gender_Mixed value: 0.0\n",
      "Max Gender_Mixed value: 1.0\n",
      "--------------------\n",
      "Gender_Mixed Mean: 0.379\n",
      "--------------------\n",
      "Gender_Mixed Standard Deviation: 0.485\n",
      "====================\n",
      "Gender_Male:\n",
      "--------------------\n",
      "Gender_Male Counts:\n",
      "Gender_Male\n",
      "0    10619\n",
      "1     6974\n",
      "Name: count, dtype: int64\n",
      "--------------------\n",
      "Gender_Male Percentages:\n",
      "Gender_Male\n",
      "0   60.400\n",
      "1   39.600\n",
      "Name: proportion, dtype: float64\n",
      "--------------------\n",
      "Min Gender_Male value: 0.0\n",
      "Max Gender_Male value: 1.0\n",
      "--------------------\n",
      "Gender_Male Mean: 0.396\n",
      "--------------------\n",
      "Gender_Male Standard Deviation: 0.489\n",
      "====================\n",
      "Gender_Female_n:\n",
      "--------------------\n",
      "Min Gender_Female_n value: 7.0\n",
      "Max Gender_Female_n value: 3970.0\n",
      "--------------------\n",
      "Gender_Female_n Mean: 637.846\n",
      "--------------------\n",
      "Gender_Female_n Standard Deviation: 1041.371\n",
      "====================\n",
      "Gender_Male_n:\n",
      "--------------------\n",
      "Min Gender_Male_n value: 21.0\n",
      "Max Gender_Male_n value: 4510.0\n",
      "--------------------\n",
      "Gender_Male_n Mean: 759.397\n",
      "--------------------\n",
      "Gender_Male_n Standard Deviation: 1302.576\n",
      "====================\n",
      "Gender_Female_% per Sector:\n",
      "--------------------\n",
      "Min Gender_Female_% per Sector value: 12.5\n",
      "Max Gender_Female_% per Sector value: 84.299\n",
      "--------------------\n",
      "Gender_Female_% per Sector Mean: 44.013\n",
      "--------------------\n",
      "Gender_Female_% per Sector Standard Deviation: 19.078\n",
      "====================\n",
      "Gender_Male_% per Sector:\n",
      "--------------------\n",
      "Min Gender_Male_% per Sector value: 15.632\n",
      "Max Gender_Male_% per Sector value: 87.5\n",
      "--------------------\n",
      "Gender_Male_% per Sector Mean: 55.942\n",
      "--------------------\n",
      "Gender_Male_% per Sector Standard Deviation: 19.11\n",
      "====================\n",
      "Age:\n",
      "--------------------\n",
      "Age Counts:\n",
      "Age\n",
      "Mixed Age    11464\n",
      "Older         3778\n",
      "Younger       2351\n",
      "Name: count, dtype: int64\n",
      "--------------------\n",
      "Age Percentages:\n",
      "Age\n",
      "Mixed Age   65.200\n",
      "Older       21.500\n",
      "Younger     13.400\n",
      "Name: proportion, dtype: float64\n",
      "--------------------\n",
      "Age not available.\n",
      "====================\n",
      "Age_Num:\n",
      "--------------------\n",
      "Age_Num Counts:\n",
      "Age_Num\n",
      "1    11464\n",
      "0     3778\n",
      "2     2351\n",
      "Name: count, dtype: int64\n",
      "--------------------\n",
      "Age_Num Percentages:\n",
      "Age_Num\n",
      "1   65.200\n",
      "0   21.500\n",
      "2   13.400\n",
      "Name: proportion, dtype: float64\n",
      "--------------------\n",
      "Min Age_Num value: 0.0\n",
      "Max Age_Num value: 2.0\n",
      "--------------------\n",
      "Age_Num Mean: 0.919\n",
      "--------------------\n",
      "Age_Num Standard Deviation: 0.585\n",
      "====================\n",
      "Age_Older:\n",
      "--------------------\n",
      "Age_Older Counts:\n",
      "Age_Older\n",
      "0    13815\n",
      "1     3778\n",
      "Name: count, dtype: int64\n",
      "--------------------\n",
      "Age_Older Percentages:\n",
      "Age_Older\n",
      "0   78.500\n",
      "1   21.500\n",
      "Name: proportion, dtype: float64\n",
      "--------------------\n",
      "Min Age_Older value: 0.0\n",
      "Max Age_Older value: 1.0\n",
      "--------------------\n",
      "Age_Older Mean: 0.215\n",
      "--------------------\n",
      "Age_Older Standard Deviation: 0.411\n",
      "====================\n",
      "Age_Mixed:\n",
      "--------------------\n",
      "Age_Mixed Counts:\n",
      "Age_Mixed\n",
      "1    11464\n",
      "0     6129\n",
      "Name: count, dtype: int64\n",
      "--------------------\n",
      "Age_Mixed Percentages:\n",
      "Age_Mixed\n",
      "1   65.200\n",
      "0   34.800\n",
      "Name: proportion, dtype: float64\n",
      "--------------------\n",
      "Min Age_Mixed value: 0.0\n",
      "Max Age_Mixed value: 1.0\n",
      "--------------------\n",
      "Age_Mixed Mean: 0.652\n",
      "--------------------\n",
      "Age_Mixed Standard Deviation: 0.476\n",
      "====================\n",
      "Age_Younger:\n",
      "--------------------\n",
      "Age_Younger Counts:\n",
      "Age_Younger\n",
      "0    15242\n",
      "1     2351\n",
      "Name: count, dtype: int64\n",
      "--------------------\n",
      "Age_Younger Percentages:\n",
      "Age_Younger\n",
      "0   86.600\n",
      "1   13.400\n",
      "Name: proportion, dtype: float64\n",
      "--------------------\n",
      "Min Age_Younger value: 0.0\n",
      "Max Age_Younger value: 1.0\n",
      "--------------------\n",
      "Age_Younger Mean: 0.134\n",
      "--------------------\n",
      "Age_Younger Standard Deviation: 0.34\n",
      "====================\n",
      "Age_Older_n:\n",
      "--------------------\n",
      "Min Age_Older_n value: 15.0\n",
      "Max Age_Older_n value: 2844.0\n",
      "--------------------\n",
      "Age_Older_n Mean: 528.901\n",
      "--------------------\n",
      "Age_Older_n Standard Deviation: 800.493\n",
      "====================\n",
      "Age_Younger_n:\n",
      "--------------------\n",
      "Min Age_Younger_n value: 13.0\n",
      "Max Age_Younger_n value: 5228.0\n",
      "--------------------\n",
      "Age_Younger_n Mean: 867.988\n",
      "--------------------\n",
      "Age_Younger_n Standard Deviation: 1509.184\n",
      "====================\n",
      "Age_Older_% per Sector:\n",
      "--------------------\n",
      "Min Age_Older_% per Sector value: 18.939\n",
      "Max Age_Older_% per Sector value: 58.333\n",
      "--------------------\n",
      "Age_Older_% per Sector Mean: 40.621\n",
      "--------------------\n",
      "Age_Older_% per Sector Standard Deviation: 10.082\n",
      "====================\n",
      "Age_Younger_% per Sector:\n",
      "--------------------\n",
      "Min Age_Younger_% per Sector value: 44.444\n",
      "Max Age_Younger_% per Sector value: 80.808\n",
      "--------------------\n",
      "Age_Younger_% per Sector Mean: 59.23\n",
      "--------------------\n",
      "Age_Younger_% per Sector Standard Deviation: 9.998\n",
      "====================\n",
      "Interaction_Female_Older_% per Sector:\n",
      "--------------------\n",
      "Min Interaction_Female_Older_% per Sector value: 595.238\n",
      "Max Interaction_Female_Older_% per Sector value: 3888.445\n",
      "--------------------\n",
      "Interaction_Female_Older_% per Sector Mean: 1769.6\n",
      "--------------------\n",
      "Interaction_Female_Older_% per Sector Standard Deviation: 927.161\n",
      "====================\n",
      "Interaction_Female_Younger_% per Sector:\n",
      "--------------------\n",
      "Min Interaction_Female_Younger_% per Sector value: 662.202\n",
      "Max Interaction_Female_Younger_% per Sector value: 4529.657\n",
      "--------------------\n",
      "Interaction_Female_Younger_% per Sector Mean: 2621.27\n",
      "--------------------\n",
      "Interaction_Female_Younger_% per Sector Standard Deviation: 1143.531\n",
      "====================\n",
      "Interaction_Male_Older_% per Sector:\n",
      "--------------------\n",
      "Min Interaction_Male_Older_% per Sector value: 721.036\n",
      "Max Interaction_Male_Older_% per Sector value: 4699.074\n",
      "--------------------\n",
      "Interaction_Male_Older_% per Sector Mean: 2291.106\n",
      "--------------------\n",
      "Interaction_Male_Older_% per Sector Standard Deviation: 1114.184\n",
      "====================\n",
      "Interaction_Male_Younger_% per Sector:\n",
      "--------------------\n",
      "Min Interaction_Male_Younger_% per Sector value: 839.936\n",
      "Max Interaction_Male_Younger_% per Sector value: 4869.203\n",
      "--------------------\n",
      "Interaction_Male_Younger_% per Sector Mean: 3298.628\n",
      "--------------------\n",
      "Interaction_Male_Younger_% per Sector Standard Deviation: 1166.297\n",
      "\n",
      "\n"
     ]
    }
   ],
   "source": [
    "get_df_info(df_jobs, ivs_all=ivs_all)\n"
   ]
  },
  {
   "cell_type": "code",
   "execution_count": 91,
   "metadata": {},
   "outputs": [
    {
     "name": "stdout",
     "output_type": "stream",
     "text": [
      "\n",
      "DF INFO:\n",
      "\n",
      "<class 'pandas.core.frame.DataFrame'>\n",
      "RangeIndex: 17593 entries, 0 to 17592\n",
      "Data columns (total 64 columns):\n",
      " #   Column                                             Non-Null Count  Dtype   \n",
      "---  ------                                             --------------  -----   \n",
      " 0   Search Keyword                                     17593 non-null  object  \n",
      " 1   Platform                                           17593 non-null  object  \n",
      " 2   Job ID                                             17593 non-null  object  \n",
      " 3   Job Title                                          17593 non-null  object  \n",
      " 4   Company Name                                       17591 non-null  object  \n",
      " 5   Location                                           17593 non-null  object  \n",
      " 6   Job Description                                    17593 non-null  object  \n",
      " 7   Rating                                             3780 non-null   float64 \n",
      " 8   Employment Type                                    17011 non-null  object  \n",
      " 9   Company URL                                        15954 non-null  object  \n",
      " 10  Job URL                                            17593 non-null  object  \n",
      " 11  Job Age                                            17593 non-null  object  \n",
      " 12  Job Age Number                                     17593 non-null  object  \n",
      " 13  Collection Date                                    17593 non-null  object  \n",
      " 14  Data Row                                           13810 non-null  float64 \n",
      " 15  Tracking ID                                        13810 non-null  object  \n",
      " 16  Industry                                           14395 non-null  object  \n",
      " 17  Job Date                                           13813 non-null  object  \n",
      " 18  Type of ownership                                  582 non-null    object  \n",
      " 19  Language                                           17593 non-null  object  \n",
      " 20  Dutch Requirement in Job Ad                        17593 non-null  category\n",
      " 21  English Requirement in Job Ad                      17593 non-null  category\n",
      " 22  Dutch Requirement in Job Ad_No                     17593 non-null  int64   \n",
      " 23  Dutch Requirement in Job Ad_Yes                    17593 non-null  int64   \n",
      " 24  English Requirement in Job Ad_No                   17593 non-null  int64   \n",
      " 25  English Requirement in Job Ad_Yes                  17593 non-null  int64   \n",
      " 26  Sector Code                                        17593 non-null  object  \n",
      " 27  Sector                                             17593 non-null  object  \n",
      " 28  Keywords Count                                     17593 non-null  float64 \n",
      " 29  Gender_Female_n                                    17593 non-null  float64 \n",
      " 30  Gender_Female_% per Sector                         17593 non-null  float64 \n",
      " 31  Gender_Female_% per Social Category                17593 non-null  float64 \n",
      " 32  Gender_Female_% per Workforce                      17593 non-null  float64 \n",
      " 33  Gender_Male_n                                      17593 non-null  float64 \n",
      " 34  Gender_Male_% per Sector                           17593 non-null  float64 \n",
      " 35  Gender_Male_% per Social Category                  17593 non-null  float64 \n",
      " 36  Gender_Male_% per Workforce                        17593 non-null  float64 \n",
      " 37  Gender                                             17593 non-null  category\n",
      " 38  Age_Older_n                                        17593 non-null  float64 \n",
      " 39  Age_Older_% per Sector                             17593 non-null  float64 \n",
      " 40  Age_Older_% per Social Category                    17593 non-null  float64 \n",
      " 41  Age_Older_% per Workforce                          17593 non-null  float64 \n",
      " 42  Age_Younger_n                                      17593 non-null  float64 \n",
      " 43  Age_Younger_% per Sector                           17593 non-null  float64 \n",
      " 44  Age_Younger_% per Social Category                  17593 non-null  float64 \n",
      " 45  Age_Younger_% per Workforce                        17593 non-null  float64 \n",
      " 46  Age                                                17593 non-null  category\n",
      " 47  Sector_n                                           17593 non-null  float64 \n",
      " 48  % Sector per Workforce                             17593 non-null  float64 \n",
      " 49  Sector Job Advertisement Count                     17593 non-null  int64   \n",
      " 50  Sector Gender Designation Job Advertisement Count  17593 non-null  int64   \n",
      " 51  Sector Age Designation Job Advertisement Count     17593 non-null  int64   \n",
      " 52  Gender_Female                                      17593 non-null  int64   \n",
      " 53  Gender_Male                                        17593 non-null  int64   \n",
      " 54  Gender_Mixed                                       17593 non-null  int64   \n",
      " 55  Age_Mixed                                          17593 non-null  int64   \n",
      " 56  Age_Older                                          17593 non-null  int64   \n",
      " 57  Age_Younger                                        17593 non-null  int64   \n",
      " 58  Gender_Num                                         17593 non-null  int64   \n",
      " 59  Age_Num                                            17593 non-null  int64   \n",
      " 60  Interaction_Female_Older_% per Sector              17593 non-null  float64 \n",
      " 61  Interaction_Female_Younger_% per Sector            17593 non-null  float64 \n",
      " 62  Interaction_Male_Older_% per Sector                17593 non-null  float64 \n",
      " 63  Interaction_Male_Younger_% per Sector              17593 non-null  float64 \n",
      "dtypes: category(4), float64(25), int64(15), object(20)\n",
      "memory usage: 8.1+ MB\n",
      "====================\n",
      "Warmth:\n",
      "--------------------\n",
      "Warmth not available.\n",
      "====================\n",
      "Competence:\n",
      "--------------------\n",
      "Competence not available.\n",
      "\n",
      "\n"
     ]
    }
   ],
   "source": [
    "get_df_info(df_jobs, ivs_all=dvs)\n"
   ]
  },
  {
   "cell_type": "code",
   "execution_count": 92,
   "metadata": {},
   "outputs": [
    {
     "data": {
      "text/plain": [
       "Gender\n",
       "Male            6974\n",
       "Mixed Gender    6664\n",
       "Female          3955\n",
       "Name: count, dtype: int64"
      ]
     },
     "execution_count": 92,
     "metadata": {},
     "output_type": "execute_result"
    }
   ],
   "source": [
    "df_jobs['Gender'].value_counts()\n"
   ]
  },
  {
   "cell_type": "code",
   "execution_count": 93,
   "metadata": {},
   "outputs": [
    {
     "data": {
      "text/plain": [
       "Gender_Female\n",
       "0    13638\n",
       "1     3955\n",
       "Name: count, dtype: int64"
      ]
     },
     "execution_count": 93,
     "metadata": {},
     "output_type": "execute_result"
    }
   ],
   "source": [
    "df_jobs['Gender_Female'].value_counts()\n"
   ]
  },
  {
   "cell_type": "code",
   "execution_count": 94,
   "metadata": {},
   "outputs": [
    {
     "data": {
      "text/plain": [
       "Gender_Num\n",
       "2    6974\n",
       "1    6664\n",
       "0    3955\n",
       "Name: count, dtype: int64"
      ]
     },
     "execution_count": 94,
     "metadata": {},
     "output_type": "execute_result"
    }
   ],
   "source": [
    "df_jobs['Gender_Num'].value_counts()\n"
   ]
  },
  {
   "cell_type": "code",
   "execution_count": 95,
   "metadata": {},
   "outputs": [
    {
     "data": {
      "text/plain": [
       "Platform\n",
       "LinkedIn     13813\n",
       "Indeed        3198\n",
       "Glassdoor      582\n",
       "Name: count, dtype: int64"
      ]
     },
     "execution_count": 95,
     "metadata": {},
     "output_type": "execute_result"
    }
   ],
   "source": [
    "df_jobs['Platform'].value_counts()\n"
   ]
  },
  {
   "cell_type": "code",
   "execution_count": 96,
   "metadata": {},
   "outputs": [],
   "source": [
    "df_jobs['Platform'] = df_jobs['Platform'].astype('category').cat.reorder_categories(platform_order, ordered=True)\n",
    "df_jobs['Platform'] = pd.Categorical(df_jobs['Platform'], categories=platform_order, ordered=True)\n",
    "df_jobs['Platform_Num'] = pd.to_numeric(df_jobs['Platform'].cat.codes).astype('int64')\n",
    "df_jobs = df_jobs.join(pd.get_dummies(df_jobs[['Platform']], dtype='int64'))\n"
   ]
  },
  {
   "cell_type": "code",
   "execution_count": 97,
   "metadata": {},
   "outputs": [
    {
     "data": {
      "text/plain": [
       "Platform_Num  Platform_LinkedIn  Platform_Indeed  Platform_Glassdoor\n",
       "0             1                  0                0                     13813\n",
       "1             0                  1                0                      3198\n",
       "2             0                  0                1                       582\n",
       "Name: count, dtype: int64"
      ]
     },
     "execution_count": 97,
     "metadata": {},
     "output_type": "execute_result"
    }
   ],
   "source": [
    "# LinkedIn=13818, Indeed=3198, Glassdoor=3198\n",
    "df_jobs[['Platform_Num', 'Platform_LinkedIn', 'Platform_Indeed', 'Platform_Glassdoor']].value_counts()\n"
   ]
  },
  {
   "cell_type": "code",
   "execution_count": 98,
   "metadata": {},
   "outputs": [],
   "source": [
    "assert len(df_jobs) > 0 and isinstance(df_jobs, pd.DataFrame), f'ERORR: LENGTH OF DF = {len(df_jobs)}'\n",
    "df_jobs.to_pickle(f'{df_save_dir}df_jobs_including_sector_genage_data.pkl')\n",
    "df_jobs.to_csv(f'{df_save_dir}df_jobs_including_sector_genage_data.csv', index=False)\n"
   ]
  },
  {
   "attachments": {},
   "cell_type": "markdown",
   "metadata": {},
   "source": [
    "# Use spacy to split job ads to sentences\n"
   ]
  },
  {
   "attachments": {},
   "cell_type": "markdown",
   "metadata": {},
   "source": [
    "### START HERE IF SOURCING FROM DF_JOBS_INCLUDING_SECTOR_GENAGE_DATA\n",
    "### PLEASE SET CORRECT DIRECTORY PATHS BELOW\n"
   ]
  },
  {
   "cell_type": "code",
   "execution_count": 99,
   "metadata": {},
   "outputs": [],
   "source": [
    "import os # type:ignore # isort:skip # fmt:skip # noqa # nopep8\n",
    "import sys # type:ignore # isort:skip # fmt:skip # noqa # nopep8\n",
    "from pathlib import Path # type:ignore # isort:skip # fmt:skip # noqa # nopep8\n",
    "\n",
    "mod = sys.modules[__name__]\n",
    "\n",
    "code_dir = None\n",
    "code_dir_name = 'Code'\n",
    "unwanted_subdir_name = 'Analysis'\n",
    "\n",
    "if code_dir_name not in str(Path.cwd()).split('/')[-1]:\n",
    "    for _ in range(5):\n",
    "\n",
    "        parent_path = str(Path.cwd().parents[_]).split('/')[-1]\n",
    "\n",
    "        if (code_dir_name in parent_path) and (unwanted_subdir_name not in parent_path):\n",
    "\n",
    "            code_dir = str(Path.cwd().parents[_])\n",
    "\n",
    "            if code_dir is not None:\n",
    "                break\n",
    "else:\n",
    "    code_dir = str(Path.cwd())\n",
    "sys.path.append(code_dir)\n",
    "\n",
    "# %load_ext autoreload\n",
    "# %autoreload 2\n"
   ]
  },
  {
   "cell_type": "code",
   "execution_count": 100,
   "metadata": {},
   "outputs": [],
   "source": [
    "from setup_module.imports import *  # type:ignore # isort:skip # fmt:skip # noqa # nopep8\n"
   ]
  },
  {
   "cell_type": "code",
   "execution_count": 101,
   "metadata": {},
   "outputs": [],
   "source": [
    "df_jobs = pd.read_pickle(f'{df_save_dir}df_jobs_including_sector_genage_data.pkl')\n"
   ]
  },
  {
   "cell_type": "code",
   "execution_count": 102,
   "metadata": {},
   "outputs": [
    {
     "name": "stdout",
     "output_type": "stream",
     "text": [
      "<class 'pandas.core.frame.DataFrame'>\n",
      "RangeIndex: 17593 entries, 0 to 17592\n",
      "Data columns (total 68 columns):\n",
      " #   Column                                             Non-Null Count  Dtype   \n",
      "---  ------                                             --------------  -----   \n",
      " 0   Search Keyword                                     17593 non-null  object  \n",
      " 1   Platform                                           17593 non-null  category\n",
      " 2   Job ID                                             17593 non-null  object  \n",
      " 3   Job Title                                          17593 non-null  object  \n",
      " 4   Company Name                                       17591 non-null  object  \n",
      " 5   Location                                           17593 non-null  object  \n",
      " 6   Job Description                                    17593 non-null  object  \n",
      " 7   Rating                                             3780 non-null   float64 \n",
      " 8   Employment Type                                    17011 non-null  object  \n",
      " 9   Company URL                                        15954 non-null  object  \n",
      " 10  Job URL                                            17593 non-null  object  \n",
      " 11  Job Age                                            17593 non-null  object  \n",
      " 12  Job Age Number                                     17593 non-null  object  \n",
      " 13  Collection Date                                    17593 non-null  object  \n",
      " 14  Data Row                                           13810 non-null  float64 \n",
      " 15  Tracking ID                                        13810 non-null  object  \n",
      " 16  Industry                                           14395 non-null  object  \n",
      " 17  Job Date                                           13813 non-null  object  \n",
      " 18  Type of ownership                                  582 non-null    object  \n",
      " 19  Language                                           17593 non-null  object  \n",
      " 20  Dutch Requirement in Job Ad                        17593 non-null  category\n",
      " 21  English Requirement in Job Ad                      17593 non-null  category\n",
      " 22  Dutch Requirement in Job Ad_No                     17593 non-null  int64   \n",
      " 23  Dutch Requirement in Job Ad_Yes                    17593 non-null  int64   \n",
      " 24  English Requirement in Job Ad_No                   17593 non-null  int64   \n",
      " 25  English Requirement in Job Ad_Yes                  17593 non-null  int64   \n",
      " 26  Sector Code                                        17593 non-null  object  \n",
      " 27  Sector                                             17593 non-null  object  \n",
      " 28  Keywords Count                                     17593 non-null  float64 \n",
      " 29  Gender_Female_n                                    17593 non-null  float64 \n",
      " 30  Gender_Female_% per Sector                         17593 non-null  float64 \n",
      " 31  Gender_Female_% per Social Category                17593 non-null  float64 \n",
      " 32  Gender_Female_% per Workforce                      17593 non-null  float64 \n",
      " 33  Gender_Male_n                                      17593 non-null  float64 \n",
      " 34  Gender_Male_% per Sector                           17593 non-null  float64 \n",
      " 35  Gender_Male_% per Social Category                  17593 non-null  float64 \n",
      " 36  Gender_Male_% per Workforce                        17593 non-null  float64 \n",
      " 37  Gender                                             17593 non-null  category\n",
      " 38  Age_Older_n                                        17593 non-null  float64 \n",
      " 39  Age_Older_% per Sector                             17593 non-null  float64 \n",
      " 40  Age_Older_% per Social Category                    17593 non-null  float64 \n",
      " 41  Age_Older_% per Workforce                          17593 non-null  float64 \n",
      " 42  Age_Younger_n                                      17593 non-null  float64 \n",
      " 43  Age_Younger_% per Sector                           17593 non-null  float64 \n",
      " 44  Age_Younger_% per Social Category                  17593 non-null  float64 \n",
      " 45  Age_Younger_% per Workforce                        17593 non-null  float64 \n",
      " 46  Age                                                17593 non-null  category\n",
      " 47  Sector_n                                           17593 non-null  float64 \n",
      " 48  % Sector per Workforce                             17593 non-null  float64 \n",
      " 49  Sector Job Advertisement Count                     17593 non-null  int64   \n",
      " 50  Sector Gender Designation Job Advertisement Count  17593 non-null  int64   \n",
      " 51  Sector Age Designation Job Advertisement Count     17593 non-null  int64   \n",
      " 52  Gender_Female                                      17593 non-null  int64   \n",
      " 53  Gender_Male                                        17593 non-null  int64   \n",
      " 54  Gender_Mixed                                       17593 non-null  int64   \n",
      " 55  Age_Mixed                                          17593 non-null  int64   \n",
      " 56  Age_Older                                          17593 non-null  int64   \n",
      " 57  Age_Younger                                        17593 non-null  int64   \n",
      " 58  Gender_Num                                         17593 non-null  int64   \n",
      " 59  Age_Num                                            17593 non-null  int64   \n",
      " 60  Interaction_Female_Older_% per Sector              17593 non-null  float64 \n",
      " 61  Interaction_Female_Younger_% per Sector            17593 non-null  float64 \n",
      " 62  Interaction_Male_Older_% per Sector                17593 non-null  float64 \n",
      " 63  Interaction_Male_Younger_% per Sector              17593 non-null  float64 \n",
      " 64  Platform_Num                                       17593 non-null  int64   \n",
      " 65  Platform_LinkedIn                                  17593 non-null  int64   \n",
      " 66  Platform_Indeed                                    17593 non-null  int64   \n",
      " 67  Platform_Glassdoor                                 17593 non-null  int64   \n",
      "dtypes: category(5), float64(25), int64(19), object(19)\n",
      "memory usage: 8.5+ MB\n"
     ]
    }
   ],
   "source": [
    "df_jobs.info()\n"
   ]
  },
  {
   "cell_type": "code",
   "execution_count": 103,
   "metadata": {},
   "outputs": [
    {
     "data": {
      "application/vnd.jupyter.widget-view+json": {
       "model_id": "5f00de894ab94cff8e4704abc1fa7f65",
       "version_major": 2,
       "version_minor": 0
      },
      "text/plain": [
       "progress-bar:   0%|          | 0/17593 [00:00<?, ?it/s]"
      ]
     },
     "metadata": {},
     "output_type": "display_data"
    }
   ],
   "source": [
    "df_jobs['Job Description'] = df_jobs['Job Description'].progress_apply(lambda x: unicodedata.normalize('NFKD', x.encode('ascii', 'ignore').decode('utf-8', 'ignore')))\n"
   ]
  },
  {
   "cell_type": "code",
   "execution_count": 104,
   "metadata": {},
   "outputs": [
    {
     "data": {
      "text/plain": [
       "0    About Our Client\\nThe Global KYC organisation ...\n",
       "1    Your role:\\n\\nWere in business to save our hom...\n",
       "2    During the past four years Colourful Rebel has...\n",
       "3    Job Description\\nWe are currently recruiting a...\n",
       "4    KARL LAGERFELD COMPANY PROFILE\\n\\nThe house of...\n",
       "Name: Job Description, dtype: object"
      ]
     },
     "execution_count": 104,
     "metadata": {},
     "output_type": "execute_result"
    }
   ],
   "source": [
    "df_jobs['Job Description'].head()\n"
   ]
  },
  {
   "cell_type": "code",
   "execution_count": 105,
   "metadata": {},
   "outputs": [
    {
     "name": "stdout",
     "output_type": "stream",
     "text": [
      "CPU times: user 7.16 ms, sys: 4.21 ms, total: 11.4 ms\n",
      "Wall time: 14.3 ms\n"
     ]
    }
   ],
   "source": [
    "%%time\n",
    "# Add sentencizer to spacy pipe and set custom punctuations\n",
    "with open(f'{data_dir}punctuations.txt', 'rb') as f:\n",
    "    custom_punct_chars = pickle.load(f)\n",
    "\n",
    "if 'sentencizer' not in nlp.pipe_names:\n",
    "    sentencizer = nlp.add_pipe('sentencizer')\n",
    "sentencizer.punct_chars.update(custom_punct_chars)\n",
    "\n",
    "if all(custom_punct_char in sentencizer.punct_chars for custom_punct_char in custom_punct_chars):\n",
    "    with open(f'{data_dir}punctuations.txt', 'wb') as f:\n",
    "        pickle.dump(sentencizer.punct_chars, f)\n",
    "\n",
    "with open(f'{data_dir}punctuations.txt', 'rb') as f:\n",
    "    custom_punct_chars = pickle.load(f)\n"
   ]
  },
  {
   "cell_type": "code",
   "execution_count": 106,
   "metadata": {},
   "outputs": [],
   "source": [
    "# Add special cases to spacy\n",
    "special_cases_dict = {\n",
    "    'incl.': [{65: 'incl', 67: 'including'}],\n",
    "    'incl. ': [{65: 'incl', 67: 'including'}],\n",
    "    '(incl.': [{65: 'incl', 67: 'including'}],\n",
    "    'etc.': [{65: 'etc', 67: 'et cetera'}],\n",
    "    'etc. ': [{65: 'etc', 67: 'et cetera'}],\n",
    "    'e.g.': [{65: 'e.g', 67: 'for example'}],\n",
    "    'e.g. ': [{65: 'e.g', 67: 'for example'}],\n",
    "    'andor ': [{65: 'andor', 67: 'and or'}],\n",
    "    'and/or ': [{65: 'andor', 67: 'and or'}],\n",
    "}\n",
    "\n",
    "nlp.tokenizer.rules.update(special_cases_dict)\n"
   ]
  },
  {
   "cell_type": "code",
   "execution_count": 107,
   "metadata": {},
   "outputs": [
    {
     "data": {
      "text/plain": [
       "0    About Our Client\\nThe Global KYC organisation ...\n",
       "1    Your role:\\n\\nWere in business to save our hom...\n",
       "2    During the past four years Colourful Rebel has...\n",
       "3    Job Description\\nWe are currently recruiting a...\n",
       "4    KARL LAGERFELD COMPANY PROFILE\\n\\nThe house of...\n",
       "Name: Job Description, dtype: object"
      ]
     },
     "execution_count": 107,
     "metadata": {},
     "output_type": "execute_result"
    }
   ],
   "source": [
    "df_jobs['Job Description'].head()\n"
   ]
  },
  {
   "cell_type": "code",
   "execution_count": 108,
   "metadata": {},
   "outputs": [
    {
     "data": {
      "text/plain": [
       "count                                                 17593\n",
       "unique                                                17593\n",
       "top       About Our Client\\nThe Global KYC organisation ...\n",
       "freq                                                      1\n",
       "Name: Job Description, dtype: object"
      ]
     },
     "execution_count": 108,
     "metadata": {},
     "output_type": "execute_result"
    }
   ],
   "source": [
    "df_jobs['Job Description'].describe()\n"
   ]
  },
  {
   "cell_type": "code",
   "execution_count": 109,
   "metadata": {},
   "outputs": [
    {
     "data": {
      "application/vnd.jupyter.widget-view+json": {
       "model_id": "a6e0aed788da4fbd907ce710212ac998",
       "version_major": 2,
       "version_minor": 0
      },
      "text/plain": [
       "progress-bar:   0%|          | 0/17593 [00:00<?, ?it/s]"
      ]
     },
     "metadata": {},
     "output_type": "display_data"
    },
    {
     "name": "stdout",
     "output_type": "stream",
     "text": [
      "CPU times: user 23min 43s, sys: 55.7 s, total: 24min 39s\n",
      "Wall time: 28min 43s\n"
     ]
    }
   ],
   "source": [
    "%%time\n",
    "# Spacy sentencize\n",
    "if all(custom_punct_char in sentencizer.punct_chars for custom_punct_char in custom_punct_chars):\n",
    "    df_jobs['Job Description spacy_sentencized'] = df_jobs['Job Description'].progress_apply(\n",
    "        lambda job_description: [\n",
    "            sent\n",
    "            for sentence in nlp(job_description).sents\n",
    "            for sent in re.split(pattern, sentence.text)\n",
    "            if sent is not None\n",
    "            and bool(sent) == True\n",
    "            and isinstance(sent, str)\n",
    "            and sent != '...'\n",
    "            and sent not in nan_list\n",
    "            and sent not in custom_punct_chars\n",
    "            and sent not in list(string.punctuation)\n",
    "            and sent not in list(string.whitespace)\n",
    "            ]\n",
    "    )\n",
    "\n",
    "assert len(df_jobs) > 0 and isinstance(df_jobs, pd.DataFrame), f'ERORR: LENGTH OF DF = {len(df_jobs)}'\n",
    "df_jobs.to_pickle(f'{df_save_dir}df_jobs_sentencized.pkl')\n",
    "df_jobs.to_csv(f'{df_save_dir}df_jobs_sentencized.csv', index=False)\n"
   ]
  },
  {
   "cell_type": "code",
   "execution_count": 110,
   "metadata": {},
   "outputs": [
    {
     "data": {
      "text/plain": [
       "17593"
      ]
     },
     "execution_count": 110,
     "metadata": {},
     "output_type": "execute_result"
    }
   ],
   "source": [
    "# len=17593\n",
    "len(df_jobs)\n"
   ]
  },
  {
   "cell_type": "code",
   "execution_count": 111,
   "metadata": {},
   "outputs": [
    {
     "data": {
      "text/plain": [
       "0    [About Our Client, The Global KYC organisation...\n",
       "1    [Your role, Were in business to save our home ...\n",
       "2    [During the past four years Colourful Rebel ha...\n",
       "3    [Job Description, We are currently recruiting ...\n",
       "4    [KARL LAGERFELD COMPANY PROFILE, The house of ...\n",
       "Name: Job Description spacy_sentencized, dtype: object"
      ]
     },
     "execution_count": 111,
     "metadata": {},
     "output_type": "execute_result"
    }
   ],
   "source": [
    "df_jobs['Job Description spacy_sentencized'].head()\n"
   ]
  },
  {
   "cell_type": "code",
   "execution_count": 112,
   "metadata": {},
   "outputs": [
    {
     "data": {
      "text/plain": [
       "count                                                 17593\n",
       "unique                                                17028\n",
       "top       [For our Global KYC Screening Pillar we are lo...\n",
       "freq                                                      3\n",
       "Name: Job Description spacy_sentencized, dtype: object"
      ]
     },
     "execution_count": 112,
     "metadata": {},
     "output_type": "execute_result"
    }
   ],
   "source": [
    "df_jobs['Job Description spacy_sentencized'].describe()\n"
   ]
  },
  {
   "cell_type": "code",
   "execution_count": 113,
   "metadata": {},
   "outputs": [
    {
     "data": {
      "application/vnd.jupyter.widget-view+json": {
       "model_id": "dce8ac05fc85455c8f82f25b0c633d07",
       "version_major": 2,
       "version_minor": 0
      },
      "text/plain": [
       "progress-bar:   0%|          | 0/17593 [00:00<?, ?it/s]"
      ]
     },
     "metadata": {},
     "output_type": "display_data"
    }
   ],
   "source": [
    "# Drop na, empty strings, punctuations, and keep only sentences of length more than 0\n",
    "df_jobs = df_jobs.dropna(subset=['Job Description spacy_sentencized'])\n",
    "df_jobs = df_jobs.loc[\n",
    "    (df_jobs['Job Description spacy_sentencized'].isnull() == False)\n",
    "    & (df_jobs['Job Description spacy_sentencized'].isna() == False)\n",
    "    & (df_jobs['Job Description spacy_sentencized'].notnull() == True)\n",
    "    & (df_jobs['Job Description spacy_sentencized'].notna() == True)\n",
    "    & (df_jobs['Job Description spacy_sentencized'].astype(bool) == True)\n",
    "    & (df_jobs['Job Description spacy_sentencized'].astype(str).progress_apply(len) > 0)\n",
    "    & (pd.isna(df_jobs['Job Description spacy_sentencized']) == False)\n",
    "    & (df_jobs['Job Description spacy_sentencized'].astype(str).isin(custom_punct_chars) == False)\n",
    "    & (df_jobs['Job Description spacy_sentencized'].astype(str).isin(non_whitespace_nan_list) == False)\n",
    "    & (df_jobs['Job Description spacy_sentencized'].astype(str).isin(list(string.punctuation)) == False)\n",
    "    & (df_jobs['Job Description spacy_sentencized'].astype(str).isin(list(string.whitespace)) == False)\n",
    "]\n",
    "df_jobs = df_jobs.dropna(subset=['Job Description spacy_sentencized'])\n"
   ]
  },
  {
   "cell_type": "code",
   "execution_count": 114,
   "metadata": {},
   "outputs": [
    {
     "data": {
      "text/plain": [
       "17593"
      ]
     },
     "execution_count": 114,
     "metadata": {},
     "output_type": "execute_result"
    }
   ],
   "source": [
    "# len=17593\n",
    "len(df_jobs)\n"
   ]
  },
  {
   "cell_type": "code",
   "execution_count": 115,
   "metadata": {},
   "outputs": [
    {
     "data": {
      "text/plain": [
       "0    [About Our Client, The Global KYC organisation...\n",
       "1    [Your role, Were in business to save our home ...\n",
       "2    [During the past four years Colourful Rebel ha...\n",
       "3    [Job Description, We are currently recruiting ...\n",
       "4    [KARL LAGERFELD COMPANY PROFILE, The house of ...\n",
       "Name: Job Description spacy_sentencized, dtype: object"
      ]
     },
     "execution_count": 115,
     "metadata": {},
     "output_type": "execute_result"
    }
   ],
   "source": [
    "df_jobs['Job Description spacy_sentencized'].head()\n"
   ]
  },
  {
   "cell_type": "code",
   "execution_count": 116,
   "metadata": {},
   "outputs": [
    {
     "data": {
      "text/plain": [
       "count                                                 17593\n",
       "unique                                                17028\n",
       "top       [For our Global KYC Screening Pillar we are lo...\n",
       "freq                                                      3\n",
       "Name: Job Description spacy_sentencized, dtype: object"
      ]
     },
     "execution_count": 116,
     "metadata": {},
     "output_type": "execute_result"
    }
   ],
   "source": [
    "# count=17593, unique=17028\n",
    "df_jobs['Job Description spacy_sentencized'].describe()\n"
   ]
  },
  {
   "cell_type": "code",
   "execution_count": 117,
   "metadata": {},
   "outputs": [
    {
     "data": {
      "application/vnd.jupyter.widget-view+json": {
       "model_id": "4dd8fe1f92f04b80a8c2453eef8bc260",
       "version_major": 2,
       "version_minor": 0
      },
      "text/plain": [
       "progress-bar:   0%|          | 0/17593 [00:00<?, ?it/s]"
      ]
     },
     "metadata": {},
     "output_type": "display_data"
    },
    {
     "data": {
      "text/plain": [
       "1007"
      ]
     },
     "execution_count": 117,
     "metadata": {},
     "output_type": "execute_result"
    }
   ],
   "source": [
    "# sentences=1007\n",
    "df_jobs['Job Description spacy_sentencized'].progress_apply(len).max()\n"
   ]
  },
  {
   "cell_type": "code",
   "execution_count": 118,
   "metadata": {},
   "outputs": [
    {
     "data": {
      "application/vnd.jupyter.widget-view+json": {
       "model_id": "7e9cfc0b3f16493c845613fcfcdd77a1",
       "version_major": 2,
       "version_minor": 0
      },
      "text/plain": [
       "progress-bar:   0%|          | 0/17593 [00:00<?, ?it/s]"
      ]
     },
     "metadata": {},
     "output_type": "display_data"
    },
    {
     "data": {
      "text/plain": [
       "['A leading company in the yacht building industry is looking for a Structural Specialist who will be in charge of structural calculations and FEM analysis for different projects within the engineering department Your role will be challenging as you work on cuttingedge yacht designs and see them brought to life']"
      ]
     },
     "execution_count": 118,
     "metadata": {},
     "output_type": "execute_result"
    }
   ],
   "source": [
    "df_jobs['Job Description spacy_sentencized'].loc[df_jobs['Job Description spacy_sentencized'].progress_apply(len).idxmin()]\n"
   ]
  },
  {
   "cell_type": "code",
   "execution_count": 119,
   "metadata": {},
   "outputs": [
    {
     "data": {
      "application/vnd.jupyter.widget-view+json": {
       "model_id": "9fe03a731c0d4771984f22e1ca4d4fe8",
       "version_major": 2,
       "version_minor": 0
      },
      "text/plain": [
       "progress-bar:   0%|          | 0/17593 [00:00<?, ?it/s]"
      ]
     },
     "metadata": {},
     "output_type": "display_data"
    }
   ],
   "source": [
    "# Remove sentences with only punctuations, whitespace, and nan, etc from list of sentences\n",
    "with open(f'{data_dir}punctuations.txt', 'rb') as f:\n",
    "    custom_punct_chars = pickle.load(f)\n",
    "\n",
    "df_jobs['Job Description spacy_sentencized'] = df_jobs['Job Description spacy_sentencized'].progress_apply(\n",
    "    lambda job_sentences_list: [\n",
    "        sentence.strip()\n",
    "        for sentence in job_sentences_list\n",
    "        if sentence is not None\n",
    "        and len(sentence) > 5\n",
    "        and sentence not in nan_list\n",
    "        and sentence not in custom_punct_chars\n",
    "        and sentence not in list(string.punctuation)\n",
    "        and sentence not in list(string.whitespace)\n",
    "    ]\n",
    ")\n"
   ]
  },
  {
   "cell_type": "code",
   "execution_count": 120,
   "metadata": {},
   "outputs": [
    {
     "data": {
      "text/plain": [
       "0    [About Our Client, The Global KYC organisation...\n",
       "1    [Your role, Were in business to save our home ...\n",
       "2    [During the past four years Colourful Rebel ha...\n",
       "3    [Job Description, We are currently recruiting ...\n",
       "4    [KARL LAGERFELD COMPANY PROFILE, The house of ...\n",
       "Name: Job Description spacy_sentencized, dtype: object"
      ]
     },
     "execution_count": 120,
     "metadata": {},
     "output_type": "execute_result"
    }
   ],
   "source": [
    "df_jobs['Job Description spacy_sentencized'].head()\n"
   ]
  },
  {
   "cell_type": "code",
   "execution_count": 121,
   "metadata": {},
   "outputs": [
    {
     "data": {
      "text/plain": [
       "count                                                 17593\n",
       "unique                                                17000\n",
       "top       [THE PROFILEAbercrombie  Fitch Co is a leading...\n",
       "freq                                                      4\n",
       "Name: Job Description spacy_sentencized, dtype: object"
      ]
     },
     "execution_count": 121,
     "metadata": {},
     "output_type": "execute_result"
    }
   ],
   "source": [
    "# count=17593, unique=17000\n",
    "df_jobs['Job Description spacy_sentencized'].describe()\n"
   ]
  },
  {
   "cell_type": "code",
   "execution_count": 122,
   "metadata": {},
   "outputs": [
    {
     "data": {
      "application/vnd.jupyter.widget-view+json": {
       "model_id": "317ae28a5bda4afcbfc4d54e44d98faf",
       "version_major": 2,
       "version_minor": 0
      },
      "text/plain": [
       "progress-bar:   0%|          | 0/17593 [00:00<?, ?it/s]"
      ]
     },
     "metadata": {},
     "output_type": "display_data"
    }
   ],
   "source": [
    "# Drop na, empty strings, punctuations, and keep only sentences of length more than 0\n",
    "df_jobs = df_jobs.dropna(subset=['Job Description spacy_sentencized'])\n",
    "df_jobs = df_jobs.loc[\n",
    "    (df_jobs['Job Description spacy_sentencized'].isnull() == False)\n",
    "    & (df_jobs['Job Description spacy_sentencized'].isna() == False)\n",
    "    & (df_jobs['Job Description spacy_sentencized'].notnull() == True)\n",
    "    & (df_jobs['Job Description spacy_sentencized'].notna() == True)\n",
    "    & (df_jobs['Job Description spacy_sentencized'].astype(bool) == True)\n",
    "    & (df_jobs['Job Description spacy_sentencized'].astype(str).progress_apply(len) > 0)\n",
    "    & (pd.isna(df_jobs['Job Description spacy_sentencized']) == False)\n",
    "    & (df_jobs['Job Description spacy_sentencized'].astype(str).isin(custom_punct_chars) == False)\n",
    "    & (df_jobs['Job Description spacy_sentencized'].astype(str).isin(non_whitespace_nan_list) == False)\n",
    "    & (df_jobs['Job Description spacy_sentencized'].astype(str).isin(list(string.punctuation)) == False)\n",
    "    & (df_jobs['Job Description spacy_sentencized'].astype(str).isin(list(string.whitespace)) == False)\n",
    "]\n",
    "df_jobs = df_jobs.dropna(subset=['Job Description spacy_sentencized'])\n"
   ]
  },
  {
   "cell_type": "code",
   "execution_count": 123,
   "metadata": {},
   "outputs": [
    {
     "data": {
      "text/plain": [
       "17592"
      ]
     },
     "execution_count": 123,
     "metadata": {},
     "output_type": "execute_result"
    }
   ],
   "source": [
    "# len=17592\n",
    "len(df_jobs)\n"
   ]
  },
  {
   "cell_type": "code",
   "execution_count": 124,
   "metadata": {},
   "outputs": [
    {
     "name": "stdout",
     "output_type": "stream",
     "text": [
      "<class 'pandas.core.frame.DataFrame'>\n",
      "Index: 17592 entries, 0 to 17592\n",
      "Data columns (total 69 columns):\n",
      " #   Column                                             Non-Null Count  Dtype   \n",
      "---  ------                                             --------------  -----   \n",
      " 0   Search Keyword                                     17592 non-null  object  \n",
      " 1   Platform                                           17592 non-null  category\n",
      " 2   Job ID                                             17592 non-null  object  \n",
      " 3   Job Title                                          17592 non-null  object  \n",
      " 4   Company Name                                       17590 non-null  object  \n",
      " 5   Location                                           17592 non-null  object  \n",
      " 6   Job Description                                    17592 non-null  object  \n",
      " 7   Rating                                             3780 non-null   float64 \n",
      " 8   Employment Type                                    17010 non-null  object  \n",
      " 9   Company URL                                        15954 non-null  object  \n",
      " 10  Job URL                                            17592 non-null  object  \n",
      " 11  Job Age                                            17592 non-null  object  \n",
      " 12  Job Age Number                                     17592 non-null  object  \n",
      " 13  Collection Date                                    17592 non-null  object  \n",
      " 14  Data Row                                           13809 non-null  float64 \n",
      " 15  Tracking ID                                        13809 non-null  object  \n",
      " 16  Industry                                           14394 non-null  object  \n",
      " 17  Job Date                                           13812 non-null  object  \n",
      " 18  Type of ownership                                  582 non-null    object  \n",
      " 19  Language                                           17592 non-null  object  \n",
      " 20  Dutch Requirement in Job Ad                        17592 non-null  category\n",
      " 21  English Requirement in Job Ad                      17592 non-null  category\n",
      " 22  Dutch Requirement in Job Ad_No                     17592 non-null  int64   \n",
      " 23  Dutch Requirement in Job Ad_Yes                    17592 non-null  int64   \n",
      " 24  English Requirement in Job Ad_No                   17592 non-null  int64   \n",
      " 25  English Requirement in Job Ad_Yes                  17592 non-null  int64   \n",
      " 26  Sector Code                                        17592 non-null  object  \n",
      " 27  Sector                                             17592 non-null  object  \n",
      " 28  Keywords Count                                     17592 non-null  float64 \n",
      " 29  Gender_Female_n                                    17592 non-null  float64 \n",
      " 30  Gender_Female_% per Sector                         17592 non-null  float64 \n",
      " 31  Gender_Female_% per Social Category                17592 non-null  float64 \n",
      " 32  Gender_Female_% per Workforce                      17592 non-null  float64 \n",
      " 33  Gender_Male_n                                      17592 non-null  float64 \n",
      " 34  Gender_Male_% per Sector                           17592 non-null  float64 \n",
      " 35  Gender_Male_% per Social Category                  17592 non-null  float64 \n",
      " 36  Gender_Male_% per Workforce                        17592 non-null  float64 \n",
      " 37  Gender                                             17592 non-null  category\n",
      " 38  Age_Older_n                                        17592 non-null  float64 \n",
      " 39  Age_Older_% per Sector                             17592 non-null  float64 \n",
      " 40  Age_Older_% per Social Category                    17592 non-null  float64 \n",
      " 41  Age_Older_% per Workforce                          17592 non-null  float64 \n",
      " 42  Age_Younger_n                                      17592 non-null  float64 \n",
      " 43  Age_Younger_% per Sector                           17592 non-null  float64 \n",
      " 44  Age_Younger_% per Social Category                  17592 non-null  float64 \n",
      " 45  Age_Younger_% per Workforce                        17592 non-null  float64 \n",
      " 46  Age                                                17592 non-null  category\n",
      " 47  Sector_n                                           17592 non-null  float64 \n",
      " 48  % Sector per Workforce                             17592 non-null  float64 \n",
      " 49  Sector Job Advertisement Count                     17592 non-null  int64   \n",
      " 50  Sector Gender Designation Job Advertisement Count  17592 non-null  int64   \n",
      " 51  Sector Age Designation Job Advertisement Count     17592 non-null  int64   \n",
      " 52  Gender_Female                                      17592 non-null  int64   \n",
      " 53  Gender_Male                                        17592 non-null  int64   \n",
      " 54  Gender_Mixed                                       17592 non-null  int64   \n",
      " 55  Age_Mixed                                          17592 non-null  int64   \n",
      " 56  Age_Older                                          17592 non-null  int64   \n",
      " 57  Age_Younger                                        17592 non-null  int64   \n",
      " 58  Gender_Num                                         17592 non-null  int64   \n",
      " 59  Age_Num                                            17592 non-null  int64   \n",
      " 60  Interaction_Female_Older_% per Sector              17592 non-null  float64 \n",
      " 61  Interaction_Female_Younger_% per Sector            17592 non-null  float64 \n",
      " 62  Interaction_Male_Older_% per Sector                17592 non-null  float64 \n",
      " 63  Interaction_Male_Younger_% per Sector              17592 non-null  float64 \n",
      " 64  Platform_Num                                       17592 non-null  int64   \n",
      " 65  Platform_LinkedIn                                  17592 non-null  int64   \n",
      " 66  Platform_Indeed                                    17592 non-null  int64   \n",
      " 67  Platform_Glassdoor                                 17592 non-null  int64   \n",
      " 68  Job Description spacy_sentencized                  17592 non-null  object  \n",
      "dtypes: category(5), float64(25), int64(19), object(20)\n",
      "memory usage: 8.8+ MB\n"
     ]
    }
   ],
   "source": [
    "df_jobs.info()\n"
   ]
  },
  {
   "cell_type": "code",
   "execution_count": 125,
   "metadata": {},
   "outputs": [
    {
     "data": {
      "text/plain": [
       "0    [About Our Client, The Global KYC organisation...\n",
       "1    [Your role, Were in business to save our home ...\n",
       "2    [During the past four years Colourful Rebel ha...\n",
       "3    [Job Description, We are currently recruiting ...\n",
       "4    [KARL LAGERFELD COMPANY PROFILE, The house of ...\n",
       "Name: Job Description spacy_sentencized, dtype: object"
      ]
     },
     "execution_count": 125,
     "metadata": {},
     "output_type": "execute_result"
    }
   ],
   "source": [
    "df_jobs['Job Description spacy_sentencized'].head()\n"
   ]
  },
  {
   "cell_type": "code",
   "execution_count": 126,
   "metadata": {},
   "outputs": [
    {
     "data": {
      "text/plain": [
       "count                                                 17592\n",
       "unique                                                16999\n",
       "top       [THE PROFILEAbercrombie  Fitch Co is a leading...\n",
       "freq                                                      4\n",
       "Name: Job Description spacy_sentencized, dtype: object"
      ]
     },
     "execution_count": 126,
     "metadata": {},
     "output_type": "execute_result"
    }
   ],
   "source": [
    "# count=17592, unique=16999\n",
    "df_jobs['Job Description spacy_sentencized'].describe()\n"
   ]
  },
  {
   "cell_type": "code",
   "execution_count": 127,
   "metadata": {},
   "outputs": [],
   "source": [
    "assert len(df_jobs) > 0 and isinstance(df_jobs, pd.DataFrame), f'ERORR: LENGTH OF DF = {len(df_jobs)}'\n",
    "df_jobs.to_pickle(f'{df_save_dir}df_jobs_sentencized.pkl')\n",
    "df_jobs.to_csv(f'{df_save_dir}df_jobs_sentencized.csv', index=False)\n"
   ]
  },
  {
   "cell_type": "code",
   "execution_count": null,
   "metadata": {},
   "outputs": [],
   "source": []
  }
 ],
 "metadata": {
  "kernelspec": {
   "display_name": "Python 3",
   "language": "python",
   "name": "python3"
  },
  "language_info": {
   "codemirror_mode": {
    "name": "ipython",
    "version": 3
   },
   "file_extension": ".py",
   "mimetype": "text/x-python",
   "name": "python",
   "nbconvert_exporter": "python",
   "pygments_lexer": "ipython3",
   "version": "3.10.11"
  },
  "varInspector": {
   "cols": {
    "lenName": 16,
    "lenType": 16,
    "lenVar": 40
   },
   "kernels_config": {
    "python": {
     "delete_cmd_postfix": "",
     "delete_cmd_prefix": "del ",
     "library": "var_list.py",
     "varRefreshCmd": "print(var_dic_list())"
    },
    "r": {
     "delete_cmd_postfix": ") ",
     "delete_cmd_prefix": "rm(",
     "library": "var_list.r",
     "varRefreshCmd": "cat(var_dic_list()) "
    }
   },
   "types_to_exclude": [
    "module",
    "function",
    "builtin_function_or_method",
    "instance",
    "_Feature"
   ],
   "window_display": false
  },
  "widgets": {
   "application/vnd.jupyter.widget-state+json": {
    "state": {},
    "version_major": 2,
    "version_minor": 0
   }
  }
 },
 "nbformat": 4,
 "nbformat_minor": 4
}
