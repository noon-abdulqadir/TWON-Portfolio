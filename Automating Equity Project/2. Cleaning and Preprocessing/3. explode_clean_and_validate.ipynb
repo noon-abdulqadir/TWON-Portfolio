{
 "cells": [
  {
   "cell_type": "markdown",
   "id": "6373c116",
   "metadata": {},
   "source": [
    "# ATTN: This script should be run AFTER spacy sentence splitting is completed.\n"
   ]
  },
  {
   "attachments": {},
   "cell_type": "markdown",
   "id": "993064a6",
   "metadata": {},
   "source": [
    "# Explode DF on sentences\n"
   ]
  },
  {
   "cell_type": "markdown",
   "id": "c744a550",
   "metadata": {},
   "source": [
    "### START HERE IF SOURCING FROM DF_JOBS_SENTENCIZED\n",
    "### PLEASE SET CORRECT DIRECTORY PATHS BELOW\n"
   ]
  },
  {
   "cell_type": "code",
   "execution_count": 1,
   "id": "b997d96c",
   "metadata": {},
   "outputs": [],
   "source": [
    "import os # type:ignore # isort:skip # fmt:skip # noqa # nopep8\n",
    "import sys # type:ignore # isort:skip # fmt:skip # noqa # nopep8\n",
    "from pathlib import Path # type:ignore # isort:skip # fmt:skip # noqa # nopep8\n",
    "\n",
    "mod = sys.modules[__name__]\n",
    "\n",
    "code_dir = None\n",
    "code_dir_name = 'Code'\n",
    "unwanted_subdir_name = 'Analysis'\n",
    "\n",
    "if code_dir_name not in str(Path.cwd()).split('/')[-1]:\n",
    "    for _ in range(5):\n",
    "\n",
    "        parent_path = str(Path.cwd().parents[_]).split('/')[-1]\n",
    "\n",
    "        if (code_dir_name in parent_path) and (unwanted_subdir_name not in parent_path):\n",
    "\n",
    "            code_dir = str(Path.cwd().parents[_])\n",
    "\n",
    "            if code_dir is not None:\n",
    "                break\n",
    "else:\n",
    "    code_dir = str(Path.cwd())\n",
    "sys.path.append(code_dir)\n",
    "\n",
    "# %load_ext autoreload\n",
    "# %autoreload 2\n"
   ]
  },
  {
   "cell_type": "code",
   "execution_count": 2,
   "id": "dc6c9e4c",
   "metadata": {},
   "outputs": [
    {
     "name": "stderr",
     "output_type": "stream",
     "text": [
      "/opt/homebrew/Caskroom/mambaforge/base/envs/Automating_Equity1/lib/python3.10/site-packages/outdated/utils.py:14: OutdatedPackageWarning: The package pingouin is out of date. Your version is 0.5.3, the latest is 0.5.4.\n",
      "Set the environment variable OUTDATED_IGNORE=1 to disable these warnings.\n",
      "  return warn(\n"
     ]
    },
    {
     "name": "stdout",
     "output_type": "stream",
     "text": [
      "Using MPS\n"
     ]
    },
    {
     "data": {
      "application/vnd.jupyter.widget-view+json": {
       "model_id": "fd2f2d1990e84a92b24c957abf3d1f81",
       "version_major": 2,
       "version_minor": 0
      },
      "text/plain": [
       "0it [00:00, ?it/s]"
      ]
     },
     "metadata": {},
     "output_type": "display_data"
    },
    {
     "data": {
      "text/plain": [
       "<Figure size 640x480 with 0 Axes>"
      ]
     },
     "metadata": {},
     "output_type": "display_data"
    }
   ],
   "source": [
    "from setup_module.imports import * # type:ignore # isort:skip # fmt:skip # noqa # nopep8\n"
   ]
  },
  {
   "cell_type": "code",
   "execution_count": 3,
   "id": "3d31a583",
   "metadata": {},
   "outputs": [],
   "source": [
    "df_jobs = pd.read_pickle(f'{df_save_dir}df_jobs_sentencized.pkl')\n"
   ]
  },
  {
   "cell_type": "code",
   "execution_count": 4,
   "id": "1899a0d9",
   "metadata": {},
   "outputs": [
    {
     "name": "stdout",
     "output_type": "stream",
     "text": [
      "<class 'pandas.core.frame.DataFrame'>\n",
      "Index: 17592 entries, 0 to 17592\n",
      "Data columns (total 69 columns):\n",
      " #   Column                                             Non-Null Count  Dtype   \n",
      "---  ------                                             --------------  -----   \n",
      " 0   Search Keyword                                     17592 non-null  object  \n",
      " 1   Platform                                           17592 non-null  category\n",
      " 2   Job ID                                             17592 non-null  object  \n",
      " 3   Job Title                                          17592 non-null  object  \n",
      " 4   Company Name                                       17590 non-null  object  \n",
      " 5   Location                                           17592 non-null  object  \n",
      " 6   Job Description                                    17592 non-null  object  \n",
      " 7   Rating                                             3780 non-null   float64 \n",
      " 8   Employment Type                                    17010 non-null  object  \n",
      " 9   Company URL                                        15954 non-null  object  \n",
      " 10  Job URL                                            17592 non-null  object  \n",
      " 11  Job Age                                            17592 non-null  object  \n",
      " 12  Job Age Number                                     17592 non-null  object  \n",
      " 13  Collection Date                                    17592 non-null  object  \n",
      " 14  Data Row                                           13809 non-null  float64 \n",
      " 15  Tracking ID                                        13809 non-null  object  \n",
      " 16  Industry                                           14394 non-null  object  \n",
      " 17  Job Date                                           13812 non-null  object  \n",
      " 18  Type of ownership                                  582 non-null    object  \n",
      " 19  Language                                           17592 non-null  object  \n",
      " 20  Dutch Requirement in Job Ad                        17592 non-null  category\n",
      " 21  English Requirement in Job Ad                      17592 non-null  category\n",
      " 22  Dutch Requirement in Job Ad_No                     17592 non-null  int64   \n",
      " 23  Dutch Requirement in Job Ad_Yes                    17592 non-null  int64   \n",
      " 24  English Requirement in Job Ad_No                   17592 non-null  int64   \n",
      " 25  English Requirement in Job Ad_Yes                  17592 non-null  int64   \n",
      " 26  Sector Code                                        17592 non-null  object  \n",
      " 27  Sector                                             17592 non-null  object  \n",
      " 28  Keywords Count                                     17592 non-null  float64 \n",
      " 29  Gender_Female_n                                    17592 non-null  float64 \n",
      " 30  Gender_Female_% per Sector                         17592 non-null  float64 \n",
      " 31  Gender_Female_% per Social Category                17592 non-null  float64 \n",
      " 32  Gender_Female_% per Workforce                      17592 non-null  float64 \n",
      " 33  Gender_Male_n                                      17592 non-null  float64 \n",
      " 34  Gender_Male_% per Sector                           17592 non-null  float64 \n",
      " 35  Gender_Male_% per Social Category                  17592 non-null  float64 \n",
      " 36  Gender_Male_% per Workforce                        17592 non-null  float64 \n",
      " 37  Gender                                             17592 non-null  category\n",
      " 38  Age_Older_n                                        17592 non-null  float64 \n",
      " 39  Age_Older_% per Sector                             17592 non-null  float64 \n",
      " 40  Age_Older_% per Social Category                    17592 non-null  float64 \n",
      " 41  Age_Older_% per Workforce                          17592 non-null  float64 \n",
      " 42  Age_Younger_n                                      17592 non-null  float64 \n",
      " 43  Age_Younger_% per Sector                           17592 non-null  float64 \n",
      " 44  Age_Younger_% per Social Category                  17592 non-null  float64 \n",
      " 45  Age_Younger_% per Workforce                        17592 non-null  float64 \n",
      " 46  Age                                                17592 non-null  category\n",
      " 47  Sector_n                                           17592 non-null  float64 \n",
      " 48  % Sector per Workforce                             17592 non-null  float64 \n",
      " 49  Sector Job Advertisement Count                     17592 non-null  int64   \n",
      " 50  Sector Gender Designation Job Advertisement Count  17592 non-null  int64   \n",
      " 51  Sector Age Designation Job Advertisement Count     17592 non-null  int64   \n",
      " 52  Gender_Female                                      17592 non-null  int64   \n",
      " 53  Gender_Male                                        17592 non-null  int64   \n",
      " 54  Gender_Mixed                                       17592 non-null  int64   \n",
      " 55  Age_Mixed                                          17592 non-null  int64   \n",
      " 56  Age_Older                                          17592 non-null  int64   \n",
      " 57  Age_Younger                                        17592 non-null  int64   \n",
      " 58  Gender_Num                                         17592 non-null  int64   \n",
      " 59  Age_Num                                            17592 non-null  int64   \n",
      " 60  Interaction_Female_Older_% per Sector              17592 non-null  float64 \n",
      " 61  Interaction_Female_Younger_% per Sector            17592 non-null  float64 \n",
      " 62  Interaction_Male_Older_% per Sector                17592 non-null  float64 \n",
      " 63  Interaction_Male_Younger_% per Sector              17592 non-null  float64 \n",
      " 64  Platform_Num                                       17592 non-null  int64   \n",
      " 65  Platform_LinkedIn                                  17592 non-null  int64   \n",
      " 66  Platform_Indeed                                    17592 non-null  int64   \n",
      " 67  Platform_Glassdoor                                 17592 non-null  int64   \n",
      " 68  Job Description spacy_sentencized                  17592 non-null  object  \n",
      "dtypes: category(5), float64(25), int64(19), object(20)\n",
      "memory usage: 8.8+ MB\n"
     ]
    }
   ],
   "source": [
    "# len=17599\n",
    "df_jobs.info()\n"
   ]
  },
  {
   "cell_type": "code",
   "execution_count": 5,
   "id": "ade74c2a",
   "metadata": {
    "scrolled": false
   },
   "outputs": [
    {
     "name": "stdout",
     "output_type": "stream",
     "text": [
      "\n",
      "DF INFO:\n",
      "\n",
      "<class 'pandas.core.frame.DataFrame'>\n",
      "Index: 17592 entries, 0 to 17592\n",
      "Data columns (total 69 columns):\n",
      " #   Column                                             Non-Null Count  Dtype   \n",
      "---  ------                                             --------------  -----   \n",
      " 0   Search Keyword                                     17592 non-null  object  \n",
      " 1   Platform                                           17592 non-null  category\n",
      " 2   Job ID                                             17592 non-null  object  \n",
      " 3   Job Title                                          17592 non-null  object  \n",
      " 4   Company Name                                       17590 non-null  object  \n",
      " 5   Location                                           17592 non-null  object  \n",
      " 6   Job Description                                    17592 non-null  object  \n",
      " 7   Rating                                             3780 non-null   float64 \n",
      " 8   Employment Type                                    17010 non-null  object  \n",
      " 9   Company URL                                        15954 non-null  object  \n",
      " 10  Job URL                                            17592 non-null  object  \n",
      " 11  Job Age                                            17592 non-null  object  \n",
      " 12  Job Age Number                                     17592 non-null  object  \n",
      " 13  Collection Date                                    17592 non-null  object  \n",
      " 14  Data Row                                           13809 non-null  float64 \n",
      " 15  Tracking ID                                        13809 non-null  object  \n",
      " 16  Industry                                           14394 non-null  object  \n",
      " 17  Job Date                                           13812 non-null  object  \n",
      " 18  Type of ownership                                  582 non-null    object  \n",
      " 19  Language                                           17592 non-null  object  \n",
      " 20  Dutch Requirement in Job Ad                        17592 non-null  category\n",
      " 21  English Requirement in Job Ad                      17592 non-null  category\n",
      " 22  Dutch Requirement in Job Ad_No                     17592 non-null  int64   \n",
      " 23  Dutch Requirement in Job Ad_Yes                    17592 non-null  int64   \n",
      " 24  English Requirement in Job Ad_No                   17592 non-null  int64   \n",
      " 25  English Requirement in Job Ad_Yes                  17592 non-null  int64   \n",
      " 26  Sector Code                                        17592 non-null  object  \n",
      " 27  Sector                                             17592 non-null  object  \n",
      " 28  Keywords Count                                     17592 non-null  float64 \n",
      " 29  Gender_Female_n                                    17592 non-null  float64 \n",
      " 30  Gender_Female_% per Sector                         17592 non-null  float64 \n",
      " 31  Gender_Female_% per Social Category                17592 non-null  float64 \n",
      " 32  Gender_Female_% per Workforce                      17592 non-null  float64 \n",
      " 33  Gender_Male_n                                      17592 non-null  float64 \n",
      " 34  Gender_Male_% per Sector                           17592 non-null  float64 \n",
      " 35  Gender_Male_% per Social Category                  17592 non-null  float64 \n",
      " 36  Gender_Male_% per Workforce                        17592 non-null  float64 \n",
      " 37  Gender                                             17592 non-null  category\n",
      " 38  Age_Older_n                                        17592 non-null  float64 \n",
      " 39  Age_Older_% per Sector                             17592 non-null  float64 \n",
      " 40  Age_Older_% per Social Category                    17592 non-null  float64 \n",
      " 41  Age_Older_% per Workforce                          17592 non-null  float64 \n",
      " 42  Age_Younger_n                                      17592 non-null  float64 \n",
      " 43  Age_Younger_% per Sector                           17592 non-null  float64 \n",
      " 44  Age_Younger_% per Social Category                  17592 non-null  float64 \n",
      " 45  Age_Younger_% per Workforce                        17592 non-null  float64 \n",
      " 46  Age                                                17592 non-null  category\n",
      " 47  Sector_n                                           17592 non-null  float64 \n",
      " 48  % Sector per Workforce                             17592 non-null  float64 \n",
      " 49  Sector Job Advertisement Count                     17592 non-null  int64   \n",
      " 50  Sector Gender Designation Job Advertisement Count  17592 non-null  int64   \n",
      " 51  Sector Age Designation Job Advertisement Count     17592 non-null  int64   \n",
      " 52  Gender_Female                                      17592 non-null  int64   \n",
      " 53  Gender_Male                                        17592 non-null  int64   \n",
      " 54  Gender_Mixed                                       17592 non-null  int64   \n",
      " 55  Age_Mixed                                          17592 non-null  int64   \n",
      " 56  Age_Older                                          17592 non-null  int64   \n",
      " 57  Age_Younger                                        17592 non-null  int64   \n",
      " 58  Gender_Num                                         17592 non-null  int64   \n",
      " 59  Age_Num                                            17592 non-null  int64   \n",
      " 60  Interaction_Female_Older_% per Sector              17592 non-null  float64 \n",
      " 61  Interaction_Female_Younger_% per Sector            17592 non-null  float64 \n",
      " 62  Interaction_Male_Older_% per Sector                17592 non-null  float64 \n",
      " 63  Interaction_Male_Younger_% per Sector              17592 non-null  float64 \n",
      " 64  Platform_Num                                       17592 non-null  int64   \n",
      " 65  Platform_LinkedIn                                  17592 non-null  int64   \n",
      " 66  Platform_Indeed                                    17592 non-null  int64   \n",
      " 67  Platform_Glassdoor                                 17592 non-null  int64   \n",
      " 68  Job Description spacy_sentencized                  17592 non-null  object  \n",
      "dtypes: category(5), float64(25), int64(19), object(20)\n",
      "memory usage: 8.8+ MB\n",
      "====================\n",
      "Gender:\n",
      "--------------------\n",
      "Gender Counts:\n",
      "Gender\n",
      "Male            6974\n",
      "Mixed Gender    6664\n",
      "Female          3954\n",
      "Name: count, dtype: int64\n",
      "--------------------\n",
      "Gender Percentages:\n",
      "Gender\n",
      "Male           39.600\n",
      "Mixed Gender   37.900\n",
      "Female         22.500\n",
      "Name: proportion, dtype: float64\n",
      "--------------------\n",
      "Gender not available.\n",
      "====================\n",
      "Gender_Num:\n",
      "--------------------\n",
      "Gender_Num Counts:\n",
      "Gender_Num\n",
      "2    6974\n",
      "1    6664\n",
      "0    3954\n",
      "Name: count, dtype: int64\n",
      "--------------------\n",
      "Gender_Num Percentages:\n",
      "Gender_Num\n",
      "2   39.600\n",
      "1   37.900\n",
      "0   22.500\n",
      "Name: proportion, dtype: float64\n",
      "--------------------\n",
      "Min Gender_Num value: 0.0\n",
      "Max Gender_Num value: 2.0\n",
      "--------------------\n",
      "Gender_Num Mean: 1.172\n",
      "--------------------\n",
      "Gender_Num Standard Deviation: 0.769\n",
      "====================\n",
      "Gender_Female:\n",
      "--------------------\n",
      "Gender_Female Counts:\n",
      "Gender_Female\n",
      "0    13638\n",
      "1     3954\n",
      "Name: count, dtype: int64\n",
      "--------------------\n",
      "Gender_Female Percentages:\n",
      "Gender_Female\n",
      "0   77.500\n",
      "1   22.500\n",
      "Name: proportion, dtype: float64\n",
      "--------------------\n",
      "Min Gender_Female value: 0.0\n",
      "Max Gender_Female value: 1.0\n",
      "--------------------\n",
      "Gender_Female Mean: 0.225\n",
      "--------------------\n",
      "Gender_Female Standard Deviation: 0.417\n",
      "====================\n",
      "Gender_Mixed:\n",
      "--------------------\n",
      "Gender_Mixed Counts:\n",
      "Gender_Mixed\n",
      "0    10928\n",
      "1     6664\n",
      "Name: count, dtype: int64\n",
      "--------------------\n",
      "Gender_Mixed Percentages:\n",
      "Gender_Mixed\n",
      "0   62.100\n",
      "1   37.900\n",
      "Name: proportion, dtype: float64\n",
      "--------------------\n",
      "Min Gender_Mixed value: 0.0\n",
      "Max Gender_Mixed value: 1.0\n",
      "--------------------\n",
      "Gender_Mixed Mean: 0.379\n",
      "--------------------\n",
      "Gender_Mixed Standard Deviation: 0.485\n",
      "====================\n",
      "Gender_Male:\n",
      "--------------------\n",
      "Gender_Male Counts:\n",
      "Gender_Male\n",
      "0    10618\n",
      "1     6974\n",
      "Name: count, dtype: int64\n",
      "--------------------\n",
      "Gender_Male Percentages:\n",
      "Gender_Male\n",
      "0   60.400\n",
      "1   39.600\n",
      "Name: proportion, dtype: float64\n",
      "--------------------\n",
      "Min Gender_Male value: 0.0\n",
      "Max Gender_Male value: 1.0\n",
      "--------------------\n",
      "Gender_Male Mean: 0.396\n",
      "--------------------\n",
      "Gender_Male Standard Deviation: 0.489\n",
      "====================\n",
      "Gender_Female_n:\n",
      "--------------------\n",
      "Min Gender_Female_n value: 7.0\n",
      "Max Gender_Female_n value: 3970.0\n",
      "--------------------\n",
      "Gender_Female_n Mean: 637.877\n",
      "--------------------\n",
      "Gender_Female_n Standard Deviation: 1041.393\n",
      "====================\n",
      "Gender_Male_n:\n",
      "--------------------\n",
      "Min Gender_Male_n value: 21.0\n",
      "Max Gender_Male_n value: 4510.0\n",
      "--------------------\n",
      "Gender_Male_n Mean: 759.437\n",
      "--------------------\n",
      "Gender_Male_n Standard Deviation: 1302.602\n",
      "====================\n",
      "Gender_Female_% per Sector:\n",
      "--------------------\n",
      "Min Gender_Female_% per Sector value: 12.5\n",
      "Max Gender_Female_% per Sector value: 84.299\n",
      "--------------------\n",
      "Gender_Female_% per Sector Mean: 44.011\n",
      "--------------------\n",
      "Gender_Female_% per Sector Standard Deviation: 19.078\n",
      "====================\n",
      "Gender_Male_% per Sector:\n",
      "--------------------\n",
      "Min Gender_Male_% per Sector value: 15.632\n",
      "Max Gender_Male_% per Sector value: 87.5\n",
      "--------------------\n",
      "Gender_Male_% per Sector Mean: 55.944\n",
      "--------------------\n",
      "Gender_Male_% per Sector Standard Deviation: 19.11\n",
      "====================\n",
      "Age:\n",
      "--------------------\n",
      "Age Counts:\n",
      "Age\n",
      "Mixed Age    11463\n",
      "Older         3778\n",
      "Younger       2351\n",
      "Name: count, dtype: int64\n",
      "--------------------\n",
      "Age Percentages:\n",
      "Age\n",
      "Mixed Age   65.200\n",
      "Older       21.500\n",
      "Younger     13.400\n",
      "Name: proportion, dtype: float64\n",
      "--------------------\n",
      "Age not available.\n",
      "====================\n",
      "Age_Num:\n",
      "--------------------\n",
      "Age_Num Counts:\n",
      "Age_Num\n",
      "1    11463\n",
      "0     3778\n",
      "2     2351\n",
      "Name: count, dtype: int64\n",
      "--------------------\n",
      "Age_Num Percentages:\n",
      "Age_Num\n",
      "1   65.200\n",
      "0   21.500\n",
      "2   13.400\n",
      "Name: proportion, dtype: float64\n",
      "--------------------\n",
      "Min Age_Num value: 0.0\n",
      "Max Age_Num value: 2.0\n",
      "--------------------\n",
      "Age_Num Mean: 0.919\n",
      "--------------------\n",
      "Age_Num Standard Deviation: 0.585\n",
      "====================\n",
      "Age_Older:\n",
      "--------------------\n",
      "Age_Older Counts:\n",
      "Age_Older\n",
      "0    13814\n",
      "1     3778\n",
      "Name: count, dtype: int64\n",
      "--------------------\n",
      "Age_Older Percentages:\n",
      "Age_Older\n",
      "0   78.500\n",
      "1   21.500\n",
      "Name: proportion, dtype: float64\n",
      "--------------------\n",
      "Min Age_Older value: 0.0\n",
      "Max Age_Older value: 1.0\n",
      "--------------------\n",
      "Age_Older Mean: 0.215\n",
      "--------------------\n",
      "Age_Older Standard Deviation: 0.411\n",
      "====================\n",
      "Age_Mixed:\n",
      "--------------------\n",
      "Age_Mixed Counts:\n",
      "Age_Mixed\n",
      "1    11463\n",
      "0     6129\n",
      "Name: count, dtype: int64\n",
      "--------------------\n",
      "Age_Mixed Percentages:\n",
      "Age_Mixed\n",
      "1   65.200\n",
      "0   34.800\n",
      "Name: proportion, dtype: float64\n",
      "--------------------\n",
      "Min Age_Mixed value: 0.0\n",
      "Max Age_Mixed value: 1.0\n",
      "--------------------\n",
      "Age_Mixed Mean: 0.652\n",
      "--------------------\n",
      "Age_Mixed Standard Deviation: 0.476\n",
      "====================\n",
      "Age_Younger:\n",
      "--------------------\n",
      "Age_Younger Counts:\n",
      "Age_Younger\n",
      "0    15241\n",
      "1     2351\n",
      "Name: count, dtype: int64\n",
      "--------------------\n",
      "Age_Younger Percentages:\n",
      "Age_Younger\n",
      "0   86.600\n",
      "1   13.400\n",
      "Name: proportion, dtype: float64\n",
      "--------------------\n",
      "Min Age_Younger value: 0.0\n",
      "Max Age_Younger value: 1.0\n",
      "--------------------\n",
      "Age_Younger Mean: 0.134\n",
      "--------------------\n",
      "Age_Younger Standard Deviation: 0.34\n",
      "====================\n",
      "Age_Older_n:\n",
      "--------------------\n",
      "Min Age_Older_n value: 15.0\n",
      "Max Age_Older_n value: 2844.0\n",
      "--------------------\n",
      "Age_Older_n Mean: 528.928\n",
      "--------------------\n",
      "Age_Older_n Standard Deviation: 800.508\n",
      "====================\n",
      "Age_Younger_n:\n",
      "--------------------\n",
      "Min Age_Younger_n value: 13.0\n",
      "Max Age_Younger_n value: 5228.0\n",
      "--------------------\n",
      "Age_Younger_n Mean: 868.033\n",
      "--------------------\n",
      "Age_Younger_n Standard Deviation: 1509.215\n",
      "====================\n",
      "Age_Older_% per Sector:\n",
      "--------------------\n",
      "Min Age_Older_% per Sector value: 18.939\n",
      "Max Age_Older_% per Sector value: 58.333\n",
      "--------------------\n",
      "Age_Older_% per Sector Mean: 40.621\n",
      "--------------------\n",
      "Age_Older_% per Sector Standard Deviation: 10.082\n",
      "====================\n",
      "Age_Younger_% per Sector:\n",
      "--------------------\n",
      "Min Age_Younger_% per Sector value: 44.444\n",
      "Max Age_Younger_% per Sector value: 80.808\n",
      "--------------------\n",
      "Age_Younger_% per Sector Mean: 59.23\n",
      "--------------------\n",
      "Age_Younger_% per Sector Standard Deviation: 9.998\n",
      "====================\n",
      "Interaction_Female_Older_% per Sector:\n",
      "--------------------\n",
      "Min Interaction_Female_Older_% per Sector value: 595.238\n",
      "Max Interaction_Female_Older_% per Sector value: 3888.445\n",
      "--------------------\n",
      "Interaction_Female_Older_% per Sector Mean: 1769.545\n",
      "--------------------\n",
      "Interaction_Female_Older_% per Sector Standard Deviation: 927.158\n",
      "====================\n",
      "Interaction_Female_Younger_% per Sector:\n",
      "--------------------\n",
      "Min Interaction_Female_Younger_% per Sector value: 662.202\n",
      "Max Interaction_Female_Younger_% per Sector value: 4529.657\n",
      "--------------------\n",
      "Interaction_Female_Younger_% per Sector Mean: 2621.206\n",
      "--------------------\n",
      "Interaction_Female_Younger_% per Sector Standard Deviation: 1143.532\n",
      "====================\n",
      "Interaction_Male_Older_% per Sector:\n",
      "--------------------\n",
      "Min Interaction_Male_Older_% per Sector value: 721.036\n",
      "Max Interaction_Male_Older_% per Sector value: 4699.074\n",
      "--------------------\n",
      "Interaction_Male_Older_% per Sector Mean: 2291.155\n",
      "--------------------\n",
      "Interaction_Male_Older_% per Sector Standard Deviation: 1114.197\n",
      "====================\n",
      "Interaction_Male_Younger_% per Sector:\n",
      "--------------------\n",
      "Min Interaction_Male_Younger_% per Sector value: 839.936\n",
      "Max Interaction_Male_Younger_% per Sector value: 4869.203\n",
      "--------------------\n",
      "Interaction_Male_Younger_% per Sector Mean: 3298.706\n",
      "--------------------\n",
      "Interaction_Male_Younger_% per Sector Standard Deviation: 1166.285\n",
      "\n",
      "\n"
     ]
    }
   ],
   "source": [
    "# Job Ad info\n",
    "get_df_info(df_jobs, ivs_all=ivs_all)\n"
   ]
  },
  {
   "cell_type": "code",
   "execution_count": 6,
   "id": "dd7f42d8",
   "metadata": {},
   "outputs": [
    {
     "data": {
      "text/plain": [
       "0    [About Our Client, The Global KYC organisation...\n",
       "1    [Your role, Were in business to save our home ...\n",
       "2    [During the past four years Colourful Rebel ha...\n",
       "3    [Job Description, We are currently recruiting ...\n",
       "4    [KARL LAGERFELD COMPANY PROFILE, The house of ...\n",
       "Name: Job Description spacy_sentencized, dtype: object"
      ]
     },
     "execution_count": 6,
     "metadata": {},
     "output_type": "execute_result"
    }
   ],
   "source": [
    "df_jobs['Job Description spacy_sentencized'].head()\n"
   ]
  },
  {
   "cell_type": "code",
   "execution_count": 7,
   "id": "3ed9d0f9",
   "metadata": {},
   "outputs": [
    {
     "data": {
      "text/plain": [
       "count                                                 17592\n",
       "unique                                                16999\n",
       "top       [THE PROFILEAbercrombie  Fitch Co is a leading...\n",
       "freq                                                      4\n",
       "Name: Job Description spacy_sentencized, dtype: object"
      ]
     },
     "execution_count": 7,
     "metadata": {},
     "output_type": "execute_result"
    }
   ],
   "source": [
    "df_jobs['Job Description spacy_sentencized'].describe()\n"
   ]
  },
  {
   "cell_type": "code",
   "execution_count": 8,
   "id": "256dcb71",
   "metadata": {},
   "outputs": [],
   "source": [
    "# Explode df so that every row is one sentence\n",
    "df_jobs = df_jobs.explode('Job Description spacy_sentencized', ignore_index=True)\n"
   ]
  },
  {
   "cell_type": "code",
   "execution_count": 9,
   "id": "458b9f3b",
   "metadata": {},
   "outputs": [
    {
     "data": {
      "text/plain": [
       "408599"
      ]
     },
     "execution_count": 9,
     "metadata": {},
     "output_type": "execute_result"
    }
   ],
   "source": [
    "# len = 408599\n",
    "len(df_jobs)\n"
   ]
  },
  {
   "cell_type": "code",
   "execution_count": 10,
   "id": "2224df52",
   "metadata": {},
   "outputs": [
    {
     "name": "stdout",
     "output_type": "stream",
     "text": [
      "<class 'pandas.core.frame.DataFrame'>\n",
      "RangeIndex: 408599 entries, 0 to 408598\n",
      "Data columns (total 69 columns):\n",
      " #   Column                                             Non-Null Count   Dtype   \n",
      "---  ------                                             --------------   -----   \n",
      " 0   Search Keyword                                     408599 non-null  object  \n",
      " 1   Platform                                           408599 non-null  category\n",
      " 2   Job ID                                             408599 non-null  object  \n",
      " 3   Job Title                                          408599 non-null  object  \n",
      " 4   Company Name                                       408587 non-null  object  \n",
      " 5   Location                                           408599 non-null  object  \n",
      " 6   Job Description                                    408599 non-null  object  \n",
      " 7   Rating                                             224564 non-null  float64 \n",
      " 8   Employment Type                                    351502 non-null  object  \n",
      " 9   Company URL                                        399603 non-null  object  \n",
      " 10  Job URL                                            408599 non-null  object  \n",
      " 11  Job Age                                            408599 non-null  object  \n",
      " 12  Job Age Number                                     408599 non-null  object  \n",
      " 13  Collection Date                                    408599 non-null  object  \n",
      " 14  Data Row                                           183857 non-null  float64 \n",
      " 15  Tracking ID                                        183857 non-null  object  \n",
      " 16  Industry                                           241132 non-null  object  \n",
      " 17  Job Date                                           184035 non-null  object  \n",
      " 18  Type of ownership                                  57097 non-null   object  \n",
      " 19  Language                                           408599 non-null  object  \n",
      " 20  Dutch Requirement in Job Ad                        408599 non-null  category\n",
      " 21  English Requirement in Job Ad                      408599 non-null  category\n",
      " 22  Dutch Requirement in Job Ad_No                     408599 non-null  int64   \n",
      " 23  Dutch Requirement in Job Ad_Yes                    408599 non-null  int64   \n",
      " 24  English Requirement in Job Ad_No                   408599 non-null  int64   \n",
      " 25  English Requirement in Job Ad_Yes                  408599 non-null  int64   \n",
      " 26  Sector Code                                        408599 non-null  object  \n",
      " 27  Sector                                             408599 non-null  object  \n",
      " 28  Keywords Count                                     408599 non-null  float64 \n",
      " 29  Gender_Female_n                                    408599 non-null  float64 \n",
      " 30  Gender_Female_% per Sector                         408599 non-null  float64 \n",
      " 31  Gender_Female_% per Social Category                408599 non-null  float64 \n",
      " 32  Gender_Female_% per Workforce                      408599 non-null  float64 \n",
      " 33  Gender_Male_n                                      408599 non-null  float64 \n",
      " 34  Gender_Male_% per Sector                           408599 non-null  float64 \n",
      " 35  Gender_Male_% per Social Category                  408599 non-null  float64 \n",
      " 36  Gender_Male_% per Workforce                        408599 non-null  float64 \n",
      " 37  Gender                                             408599 non-null  category\n",
      " 38  Age_Older_n                                        408599 non-null  float64 \n",
      " 39  Age_Older_% per Sector                             408599 non-null  float64 \n",
      " 40  Age_Older_% per Social Category                    408599 non-null  float64 \n",
      " 41  Age_Older_% per Workforce                          408599 non-null  float64 \n",
      " 42  Age_Younger_n                                      408599 non-null  float64 \n",
      " 43  Age_Younger_% per Sector                           408599 non-null  float64 \n",
      " 44  Age_Younger_% per Social Category                  408599 non-null  float64 \n",
      " 45  Age_Younger_% per Workforce                        408599 non-null  float64 \n",
      " 46  Age                                                408599 non-null  category\n",
      " 47  Sector_n                                           408599 non-null  float64 \n",
      " 48  % Sector per Workforce                             408599 non-null  float64 \n",
      " 49  Sector Job Advertisement Count                     408599 non-null  int64   \n",
      " 50  Sector Gender Designation Job Advertisement Count  408599 non-null  int64   \n",
      " 51  Sector Age Designation Job Advertisement Count     408599 non-null  int64   \n",
      " 52  Gender_Female                                      408599 non-null  int64   \n",
      " 53  Gender_Male                                        408599 non-null  int64   \n",
      " 54  Gender_Mixed                                       408599 non-null  int64   \n",
      " 55  Age_Mixed                                          408599 non-null  int64   \n",
      " 56  Age_Older                                          408599 non-null  int64   \n",
      " 57  Age_Younger                                        408599 non-null  int64   \n",
      " 58  Gender_Num                                         408599 non-null  int64   \n",
      " 59  Age_Num                                            408599 non-null  int64   \n",
      " 60  Interaction_Female_Older_% per Sector              408599 non-null  float64 \n",
      " 61  Interaction_Female_Younger_% per Sector            408599 non-null  float64 \n",
      " 62  Interaction_Male_Older_% per Sector                408599 non-null  float64 \n",
      " 63  Interaction_Male_Younger_% per Sector              408599 non-null  float64 \n",
      " 64  Platform_Num                                       408599 non-null  int64   \n",
      " 65  Platform_LinkedIn                                  408599 non-null  int64   \n",
      " 66  Platform_Indeed                                    408599 non-null  int64   \n",
      " 67  Platform_Glassdoor                                 408599 non-null  int64   \n",
      " 68  Job Description spacy_sentencized                  408599 non-null  object  \n",
      "dtypes: category(5), float64(25), int64(19), object(20)\n",
      "memory usage: 201.5+ MB\n"
     ]
    }
   ],
   "source": [
    "df_jobs.info()\n"
   ]
  },
  {
   "cell_type": "code",
   "execution_count": 11,
   "id": "b92ee727",
   "metadata": {},
   "outputs": [
    {
     "data": {
      "text/plain": [
       "0                                     About Our Client\n",
       "1    The Global KYC organisation is part of ING's C...\n",
       "2    Its purpose is Enabling people and organisatio...\n",
       "3    Our Global KYC organisation is a first line of...\n",
       "4    In our Global KYC organisation you will be wor...\n",
       "Name: Job Description spacy_sentencized, dtype: object"
      ]
     },
     "execution_count": 11,
     "metadata": {},
     "output_type": "execute_result"
    }
   ],
   "source": [
    "df_jobs['Job Description spacy_sentencized'].head()\n"
   ]
  },
  {
   "cell_type": "code",
   "execution_count": 12,
   "id": "2c946c0b",
   "metadata": {},
   "outputs": [
    {
     "data": {
      "text/plain": [
       "408594    Your application will be screened closely and ...\n",
       "408595                 Tom is an equal opportunity employer\n",
       "408596    We celebrate diversity, thrive on each others ...\n",
       "408597    Naturally, we do not discriminate against any ...\n",
       "408598                     Ready to move the world forward?\n",
       "Name: Job Description spacy_sentencized, dtype: object"
      ]
     },
     "execution_count": 12,
     "metadata": {},
     "output_type": "execute_result"
    }
   ],
   "source": [
    "df_jobs['Job Description spacy_sentencized'].tail()\n"
   ]
  },
  {
   "cell_type": "code",
   "execution_count": 13,
   "id": "02ec54cd",
   "metadata": {},
   "outputs": [
    {
     "data": {
      "text/plain": [
       "count        408599\n",
       "unique       217755\n",
       "top       Amsterdam\n",
       "freq           1410\n",
       "Name: Job Description spacy_sentencized, dtype: object"
      ]
     },
     "execution_count": 13,
     "metadata": {},
     "output_type": "execute_result"
    }
   ],
   "source": [
    "df_jobs['Job Description spacy_sentencized'].describe()\n"
   ]
  },
  {
   "cell_type": "code",
   "execution_count": 14,
   "id": "7d562a68",
   "metadata": {},
   "outputs": [
    {
     "data": {
      "application/vnd.jupyter.widget-view+json": {
       "model_id": "6a8ad1ec19ae40feb4cc6dcf80ac1dac",
       "version_major": 2,
       "version_minor": 0
      },
      "text/plain": [
       "progress-bar:   0%|          | 0/408599 [00:00<?, ?it/s]"
      ]
     },
     "metadata": {},
     "output_type": "display_data"
    },
    {
     "data": {
      "text/plain": [
       "'This starts with performing the actual installation as per procedure and training at the customers site and is followed by troubleshooting, performing repairs, maintenance activities and installing upgrades to our system You will cooperate closely with our Sales team and thus contribute to ramping up our business In more detail, you and mount the Phenospex plant measurement systems and perform quality control checks to ensure correct functioning and customer satisfactionprovide support and training to the customer on the application of the automation technologies and user interfacesregularly interface with technical staff, such as Project Managers and Engineers, both at Phenospex and at the customers site to ensure that installation requirements on site are met in time before the installationdeliver troubleshooting and diagnostic support services to ensure that all products and services function properly and resolve technical support inquiries directlyinform customers on preventive maintenance and complete maintenance of the systems as requiredprovide the CCO with a detailed installation report upon project completionplan service assignments in assigned territories independently and combine trips to different service sites wiselyprovide support during trade showswork in close collaboration with the Sales  Service teamprovide training to relevant groups at Phenospexlog and keep records of all incoming issues and findings in the CRM system and internal databaseanalyze logs to spot common trends and underlying problemssupport the operations team with performing a variety of production development and repairrefurbishment workcomplete special assignments as requestedmaintain a safe and healthy work environment by following and complying with all health and safety policies, procedures and legislation in the workshop and on sitea degree in Biotechnology or Bioinformatics Engineering with focus on plants or a degree in Plant Physiology with a strong interest in technologya passion for working with your hands along with excellent technical and mechanical skillsfamiliarity with the Linux operating system and commands Debiana strong customer focus mentality and passion for challenges and troubleshootingstrong communication skills and good verbal and written English any other language is beneficialexcellent organizational skillsflexibility to travel on short notice and for longer periods of time worldwide roughly 50 of timea valid EU work permit and drivers license'"
      ]
     },
     "execution_count": 14,
     "metadata": {},
     "output_type": "execute_result"
    }
   ],
   "source": [
    "# Get longest sentence, sentence does not have any punctuation\n",
    "df_jobs['Job Description spacy_sentencized'].loc[df_jobs['Job Description spacy_sentencized'].progress_apply(len).idxmax()]\n"
   ]
  },
  {
   "cell_type": "code",
   "execution_count": 15,
   "id": "d3938c8a",
   "metadata": {},
   "outputs": [
    {
     "data": {
      "application/vnd.jupyter.widget-view+json": {
       "model_id": "83972dc73e3843f097a894162ed41621",
       "version_major": 2,
       "version_minor": 0
      },
      "text/plain": [
       "progress-bar:   0%|          | 0/408599 [00:00<?, ?it/s]"
      ]
     },
     "metadata": {},
     "output_type": "display_data"
    },
    {
     "data": {
      "text/plain": [
       "2497"
      ]
     },
     "execution_count": 15,
     "metadata": {},
     "output_type": "execute_result"
    }
   ],
   "source": [
    "# Get length of longest sentence, len=2497\n",
    "df_jobs['Job Description spacy_sentencized'].progress_apply(len).max()\n"
   ]
  },
  {
   "cell_type": "code",
   "execution_count": 16,
   "id": "a3f79b59",
   "metadata": {},
   "outputs": [
    {
     "data": {
      "application/vnd.jupyter.widget-view+json": {
       "model_id": "a27645c71d1b49c1ac41f0127fb82494",
       "version_major": 2,
       "version_minor": 0
      },
      "text/plain": [
       "progress-bar:   0%|          | 0/408599 [00:00<?, ?it/s]"
      ]
     },
     "metadata": {},
     "output_type": "display_data"
    },
    {
     "data": {
      "text/plain": [
       "4"
      ]
     },
     "execution_count": 16,
     "metadata": {},
     "output_type": "execute_result"
    }
   ],
   "source": [
    "# Get length of shortest sentence, len=4\n",
    "df_jobs['Job Description spacy_sentencized'].progress_apply(len).min()\n"
   ]
  },
  {
   "cell_type": "code",
   "execution_count": 17,
   "id": "bed13af6",
   "metadata": {},
   "outputs": [
    {
     "data": {
      "application/vnd.jupyter.widget-view+json": {
       "model_id": "b530d4737db744c184b6188608e321ca",
       "version_major": 2,
       "version_minor": 0
      },
      "text/plain": [
       "progress-bar:   0%|          | 0/408599 [00:00<?, ?it/s]"
      ]
     },
     "metadata": {},
     "output_type": "display_data"
    },
    {
     "data": {
      "text/plain": [
       "'Role'"
      ]
     },
     "execution_count": 17,
     "metadata": {},
     "output_type": "execute_result"
    }
   ],
   "source": [
    "# Get shortest sentence, its a punctuation (fullstop)\n",
    "df_jobs['Job Description spacy_sentencized'].loc[df_jobs['Job Description spacy_sentencized'].progress_apply(len).idxmin()]\n"
   ]
  },
  {
   "cell_type": "code",
   "execution_count": 18,
   "id": "85d2b6cc",
   "metadata": {},
   "outputs": [
    {
     "data": {
      "application/vnd.jupyter.widget-view+json": {
       "model_id": "9d350a03221c40f28e8214a0637b4eb1",
       "version_major": 2,
       "version_minor": 0
      },
      "text/plain": [
       "progress-bar:   0%|          | 0/408599 [00:00<?, ?it/s]"
      ]
     },
     "metadata": {},
     "output_type": "display_data"
    }
   ],
   "source": [
    "df_jobs['Job Description spacy_sentencized'] = df_jobs['Job Description spacy_sentencized'].progress_apply(lambda x: unicodedata.normalize('NFKD', x.encode('ascii', 'ignore').decode('utf-8', 'ignore')))\n"
   ]
  },
  {
   "cell_type": "code",
   "execution_count": 19,
   "id": "010e91c3",
   "metadata": {},
   "outputs": [],
   "source": [
    "assert len(df_jobs) > 0 and isinstance(df_jobs, pd.DataFrame), f'ERORR: LENGTH OF DF = {len(df_jobs)}'\n",
    "df_jobs.to_pickle(f'{df_save_dir}df_jobs_sentencized_exploded.pkl')\n",
    "df_jobs.to_csv(f'{df_save_dir}df_jobs_sentencized_exploded.csv', index=False)\n"
   ]
  },
  {
   "attachments": {},
   "cell_type": "markdown",
   "id": "175328e6",
   "metadata": {},
   "source": [
    "# Validate sentencization and get word frequencies\n"
   ]
  },
  {
   "attachments": {},
   "cell_type": "markdown",
   "id": "3b9448d8",
   "metadata": {},
   "source": [
    "### START HERE IF SOURCING FROM DF_JOBS_SENTENCIZED_EXPLODED\n",
    "### PLEASE SET CORRECT DIRECTORY PATHS BELOW"
   ]
  },
  {
   "cell_type": "code",
   "execution_count": 20,
   "id": "41d91301",
   "metadata": {},
   "outputs": [],
   "source": [
    "import os # type:ignore # isort:skip # fmt:skip # noqa # nopep8\n",
    "import sys # type:ignore # isort:skip # fmt:skip # noqa # nopep8\n",
    "from pathlib import Path # type:ignore # isort:skip # fmt:skip # noqa # nopep8\n",
    "\n",
    "mod = sys.modules[__name__]\n",
    "\n",
    "code_dir = None\n",
    "code_dir_name = 'Code'\n",
    "unwanted_subdir_name = 'Analysis'\n",
    "\n",
    "if code_dir_name not in str(Path.cwd()).split('/')[-1]:\n",
    "    for _ in range(5):\n",
    "\n",
    "        parent_path = str(Path.cwd().parents[_]).split('/')[-1]\n",
    "\n",
    "        if (code_dir_name in parent_path) and (unwanted_subdir_name not in parent_path):\n",
    "\n",
    "            code_dir = str(Path.cwd().parents[_])\n",
    "\n",
    "            if code_dir is not None:\n",
    "                break\n",
    "else:\n",
    "    code_dir = str(Path.cwd())\n",
    "sys.path.append(code_dir)\n",
    "\n",
    "# %load_ext autoreload\n",
    "# %autoreload 2\n"
   ]
  },
  {
   "cell_type": "code",
   "execution_count": 21,
   "id": "feb7e1eb",
   "metadata": {},
   "outputs": [],
   "source": [
    "from setup_module.imports import * # type:ignore # isort:skip # fmt:skip # noqa # nopep8\n"
   ]
  },
  {
   "cell_type": "code",
   "execution_count": 22,
   "id": "7a745185",
   "metadata": {},
   "outputs": [],
   "source": [
    "def get_word_num_and_frequency(row, text_col):\n",
    "\n",
    "    with open(f'{data_dir}punctuations.txt', 'rb') as f:\n",
    "        custom_punct_chars = pickle.load(f)\n",
    "    row[f'{text_col}_num_words'] = len(str(row[text_col]).split())\n",
    "    row[f'{text_col}_num_unique_words'] = len(set(str(row[text_col]).split()))\n",
    "    row[f'{text_col}_num_chars'] = len(str(row[text_col]))\n",
    "    row[f'{text_col}_num_chars_no_whitespact_and_punt'] = len(\n",
    "        [\n",
    "            c\n",
    "            for c in str(row[text_col])\n",
    "            if c not in custom_punct_chars and c not in list(string.punctuation) and c in list(string.printable) and c not in list(string.whitespace) and c != ' '\n",
    "        ]\n",
    "    )\n",
    "    row[f'{text_col}_num_punctuations'] = len(\n",
    "        [\n",
    "            c\n",
    "            for c in str(row[text_col])\n",
    "            if c in custom_punct_chars and c in list(string.punctuation) and c in list(string.printable) and c not in list(string.whitespace) and c != ' '\n",
    "        ]\n",
    "    )\n",
    "\n",
    "    return row\n"
   ]
  },
  {
   "cell_type": "code",
   "execution_count": 23,
   "id": "1786e5b8",
   "metadata": {},
   "outputs": [],
   "source": [
    "df_jobs = pd.read_pickle(f'{df_save_dir}df_jobs_sentencized_exploded.pkl')\n"
   ]
  },
  {
   "cell_type": "code",
   "execution_count": 24,
   "metadata": {},
   "outputs": [
    {
     "name": "stdout",
     "output_type": "stream",
     "text": [
      "<class 'pandas.core.frame.DataFrame'>\n",
      "RangeIndex: 408599 entries, 0 to 408598\n",
      "Data columns (total 69 columns):\n",
      " #   Column                                             Non-Null Count   Dtype   \n",
      "---  ------                                             --------------   -----   \n",
      " 0   Search Keyword                                     408599 non-null  object  \n",
      " 1   Platform                                           408599 non-null  category\n",
      " 2   Job ID                                             408599 non-null  object  \n",
      " 3   Job Title                                          408599 non-null  object  \n",
      " 4   Company Name                                       408587 non-null  object  \n",
      " 5   Location                                           408599 non-null  object  \n",
      " 6   Job Description                                    408599 non-null  object  \n",
      " 7   Rating                                             224564 non-null  float64 \n",
      " 8   Employment Type                                    351502 non-null  object  \n",
      " 9   Company URL                                        399603 non-null  object  \n",
      " 10  Job URL                                            408599 non-null  object  \n",
      " 11  Job Age                                            408599 non-null  object  \n",
      " 12  Job Age Number                                     408599 non-null  object  \n",
      " 13  Collection Date                                    408599 non-null  object  \n",
      " 14  Data Row                                           183857 non-null  float64 \n",
      " 15  Tracking ID                                        183857 non-null  object  \n",
      " 16  Industry                                           241132 non-null  object  \n",
      " 17  Job Date                                           184035 non-null  object  \n",
      " 18  Type of ownership                                  57097 non-null   object  \n",
      " 19  Language                                           408599 non-null  object  \n",
      " 20  Dutch Requirement in Job Ad                        408599 non-null  category\n",
      " 21  English Requirement in Job Ad                      408599 non-null  category\n",
      " 22  Dutch Requirement in Job Ad_No                     408599 non-null  int64   \n",
      " 23  Dutch Requirement in Job Ad_Yes                    408599 non-null  int64   \n",
      " 24  English Requirement in Job Ad_No                   408599 non-null  int64   \n",
      " 25  English Requirement in Job Ad_Yes                  408599 non-null  int64   \n",
      " 26  Sector Code                                        408599 non-null  object  \n",
      " 27  Sector                                             408599 non-null  object  \n",
      " 28  Keywords Count                                     408599 non-null  float64 \n",
      " 29  Gender_Female_n                                    408599 non-null  float64 \n",
      " 30  Gender_Female_% per Sector                         408599 non-null  float64 \n",
      " 31  Gender_Female_% per Social Category                408599 non-null  float64 \n",
      " 32  Gender_Female_% per Workforce                      408599 non-null  float64 \n",
      " 33  Gender_Male_n                                      408599 non-null  float64 \n",
      " 34  Gender_Male_% per Sector                           408599 non-null  float64 \n",
      " 35  Gender_Male_% per Social Category                  408599 non-null  float64 \n",
      " 36  Gender_Male_% per Workforce                        408599 non-null  float64 \n",
      " 37  Gender                                             408599 non-null  category\n",
      " 38  Age_Older_n                                        408599 non-null  float64 \n",
      " 39  Age_Older_% per Sector                             408599 non-null  float64 \n",
      " 40  Age_Older_% per Social Category                    408599 non-null  float64 \n",
      " 41  Age_Older_% per Workforce                          408599 non-null  float64 \n",
      " 42  Age_Younger_n                                      408599 non-null  float64 \n",
      " 43  Age_Younger_% per Sector                           408599 non-null  float64 \n",
      " 44  Age_Younger_% per Social Category                  408599 non-null  float64 \n",
      " 45  Age_Younger_% per Workforce                        408599 non-null  float64 \n",
      " 46  Age                                                408599 non-null  category\n",
      " 47  Sector_n                                           408599 non-null  float64 \n",
      " 48  % Sector per Workforce                             408599 non-null  float64 \n",
      " 49  Sector Job Advertisement Count                     408599 non-null  int64   \n",
      " 50  Sector Gender Designation Job Advertisement Count  408599 non-null  int64   \n",
      " 51  Sector Age Designation Job Advertisement Count     408599 non-null  int64   \n",
      " 52  Gender_Female                                      408599 non-null  int64   \n",
      " 53  Gender_Male                                        408599 non-null  int64   \n",
      " 54  Gender_Mixed                                       408599 non-null  int64   \n",
      " 55  Age_Mixed                                          408599 non-null  int64   \n",
      " 56  Age_Older                                          408599 non-null  int64   \n",
      " 57  Age_Younger                                        408599 non-null  int64   \n",
      " 58  Gender_Num                                         408599 non-null  int64   \n",
      " 59  Age_Num                                            408599 non-null  int64   \n",
      " 60  Interaction_Female_Older_% per Sector              408599 non-null  float64 \n",
      " 61  Interaction_Female_Younger_% per Sector            408599 non-null  float64 \n",
      " 62  Interaction_Male_Older_% per Sector                408599 non-null  float64 \n",
      " 63  Interaction_Male_Younger_% per Sector              408599 non-null  float64 \n",
      " 64  Platform_Num                                       408599 non-null  int64   \n",
      " 65  Platform_LinkedIn                                  408599 non-null  int64   \n",
      " 66  Platform_Indeed                                    408599 non-null  int64   \n",
      " 67  Platform_Glassdoor                                 408599 non-null  int64   \n",
      " 68  Job Description spacy_sentencized                  408599 non-null  object  \n",
      "dtypes: category(5), float64(25), int64(19), object(20)\n",
      "memory usage: 201.5+ MB\n"
     ]
    }
   ],
   "source": [
    "df_jobs.info()\n"
   ]
  },
  {
   "cell_type": "code",
   "execution_count": 25,
   "id": "b5545a60",
   "metadata": {},
   "outputs": [
    {
     "data": {
      "application/vnd.jupyter.widget-view+json": {
       "model_id": "2212b8df2e4444e7b15dfa8e83d7e444",
       "version_major": 2,
       "version_minor": 0
      },
      "text/plain": [
       "progress-bar:   0%|          | 0/408599 [00:00<?, ?it/s]"
      ]
     },
     "metadata": {},
     "output_type": "display_data"
    }
   ],
   "source": [
    "df_jobs['Job Description spacy_sentencized'] = df_jobs['Job Description spacy_sentencized'].progress_apply(lambda x: unicodedata.normalize('NFKD', x.encode('ascii', 'ignore').decode('utf-8', 'ignore')))\n"
   ]
  },
  {
   "cell_type": "code",
   "execution_count": 26,
   "id": "1c2dc86e",
   "metadata": {},
   "outputs": [
    {
     "data": {
      "application/vnd.jupyter.widget-view+json": {
       "model_id": "341f5467f55f4f9daac93f093d3687eb",
       "version_major": 2,
       "version_minor": 0
      },
      "text/plain": [
       "progress-bar:   0%|          | 0/408599 [00:00<?, ?it/s]"
      ]
     },
     "metadata": {},
     "output_type": "display_data"
    }
   ],
   "source": [
    "df_jobs['Job Description spacy_sentencized'] = df_jobs[\n",
    "    'Job Description spacy_sentencized'\n",
    "].progress_apply(lambda x: x if isinstance(x, str) else ast.literal_eval(x))\n"
   ]
  },
  {
   "cell_type": "code",
   "execution_count": 27,
   "id": "0fc19a8c",
   "metadata": {},
   "outputs": [
    {
     "data": {
      "application/vnd.jupyter.widget-view+json": {
       "model_id": "e32634a391d941a0bbcce95ee36047db",
       "version_major": 2,
       "version_minor": 0
      },
      "text/plain": [
       "progress-bar:   0%|          | 0/408599 [00:00<?, ?it/s]"
      ]
     },
     "metadata": {},
     "output_type": "display_data"
    }
   ],
   "source": [
    "df_jobs['Job Description spacy_sentencized'] = df_jobs['Job Description spacy_sentencized'].progress_apply(lambda x: x if isinstance(x, str) else np.nan)\n"
   ]
  },
  {
   "cell_type": "code",
   "execution_count": 28,
   "id": "6aa352f0",
   "metadata": {},
   "outputs": [],
   "source": [
    "df_jobs['Job Description spacy_sentencized'] = df_jobs['Job Description spacy_sentencized'].astype(str)\n"
   ]
  },
  {
   "cell_type": "code",
   "execution_count": 29,
   "id": "ce705aea",
   "metadata": {},
   "outputs": [
    {
     "data": {
      "text/plain": [
       "408599"
      ]
     },
     "execution_count": 29,
     "metadata": {},
     "output_type": "execute_result"
    }
   ],
   "source": [
    "#len=408599\n",
    "len(df_jobs)\n"
   ]
  },
  {
   "cell_type": "code",
   "execution_count": 30,
   "id": "70db27d9",
   "metadata": {},
   "outputs": [
    {
     "data": {
      "application/vnd.jupyter.widget-view+json": {
       "model_id": "539a1757484a4ee5bc8c00f32dbe26d9",
       "version_major": 2,
       "version_minor": 0
      },
      "text/plain": [
       "progress-bar:   0%|          | 0/408599 [00:00<?, ?it/s]"
      ]
     },
     "metadata": {},
     "output_type": "display_data"
    }
   ],
   "source": [
    "df_jobs['Job Description spacy_sentencized'] = df_jobs[\n",
    "    'Job Description spacy_sentencized'\n",
    "].progress_apply(\n",
    "    lambda x: ' '.join(x.split()).strip()\n",
    "    if bool(x)\n",
    "    and isinstance(x, str)\n",
    "    and len(x.split()) > 0\n",
    "    else np.nan\n",
    ")\n"
   ]
  },
  {
   "cell_type": "code",
   "execution_count": 31,
   "id": "6dc34356",
   "metadata": {},
   "outputs": [
    {
     "data": {
      "application/vnd.jupyter.widget-view+json": {
       "model_id": "9860d0c51c324dd89ade709cfa2c7c32",
       "version_major": 2,
       "version_minor": 0
      },
      "text/plain": [
       "progress-bar:   0%|          | 0/408599 [00:00<?, ?it/s]"
      ]
     },
     "metadata": {},
     "output_type": "display_data"
    }
   ],
   "source": [
    "df_jobs['Job Description spacy_sentencized'] = df_jobs[\n",
    "    'Job Description spacy_sentencized'\n",
    "].progress_apply(\n",
    "    lambda x: ' '.join(re.split(pattern, x)).strip()\n",
    "    if bool(x)\n",
    "    and isinstance(x, str)\n",
    "    and len(x.split()) > 0\n",
    "    else np.nan\n",
    ")\n"
   ]
  },
  {
   "cell_type": "code",
   "execution_count": 32,
   "id": "47800934",
   "metadata": {},
   "outputs": [
    {
     "data": {
      "text/plain": [
       "408599"
      ]
     },
     "execution_count": 32,
     "metadata": {},
     "output_type": "execute_result"
    }
   ],
   "source": [
    "#len=408599\n",
    "len(df_jobs)\n"
   ]
  },
  {
   "cell_type": "code",
   "execution_count": 33,
   "id": "b1517bf3",
   "metadata": {},
   "outputs": [],
   "source": [
    "df_jobs = df_jobs.dropna(subset=['Job ID', 'Job Description spacy_sentencized'])\n"
   ]
  },
  {
   "cell_type": "code",
   "execution_count": 34,
   "id": "cbb522c9",
   "metadata": {},
   "outputs": [
    {
     "data": {
      "text/plain": [
       "408599"
      ]
     },
     "execution_count": 34,
     "metadata": {},
     "output_type": "execute_result"
    }
   ],
   "source": [
    "# len=408599\n",
    "len(df_jobs)\n"
   ]
  },
  {
   "cell_type": "code",
   "execution_count": 35,
   "id": "7cd29095",
   "metadata": {},
   "outputs": [
    {
     "data": {
      "application/vnd.jupyter.widget-view+json": {
       "model_id": "1162247858dc4805a52469a1a8ca1813",
       "version_major": 2,
       "version_minor": 0
      },
      "text/plain": [
       "progress-bar:   0%|          | 0/408599 [00:00<?, ?it/s]"
      ]
     },
     "metadata": {},
     "output_type": "display_data"
    }
   ],
   "source": [
    "# Drop na, empty strings, punctuations, and keep only sentences of length more than 0\n",
    "with open(f'{data_dir}punctuations.txt', 'rb') as f:\n",
    "    custom_punct_chars = pickle.load(f)\n",
    "\n",
    "df_jobs = df_jobs.dropna(subset=['Job Description'])\n",
    "df_jobs = df_jobs.loc[\n",
    "    (df_jobs['Job Description spacy_sentencized'].isnull() == False)\n",
    "    & (df_jobs['Job Description spacy_sentencized'].isna() == False)\n",
    "    & (df_jobs['Job Description spacy_sentencized'].notnull() == True)\n",
    "    & (df_jobs['Job Description spacy_sentencized'].notna() == True)\n",
    "    & (df_jobs['Job Description spacy_sentencized'].astype(bool) == True)\n",
    "    & (df_jobs['Job Description spacy_sentencized'].progress_apply(len) > 0)\n",
    "    & (pd.isna(df_jobs['Job Description spacy_sentencized']) == False)\n",
    "    & (df_jobs['Job Description spacy_sentencized'].astype(str).isin(custom_punct_chars) == False)\n",
    "    & (df_jobs['Job Description spacy_sentencized'].astype(str).isin(non_whitespace_nan_list) == False)\n",
    "    & (df_jobs['Job Description spacy_sentencized'].astype(str).isin(list(string.punctuation)) == False)\n",
    "    & (df_jobs['Job Description spacy_sentencized'].astype(str).isin(list(string.whitespace)) == False)\n",
    "]\n",
    "df_jobs = df_jobs.dropna(subset=['Job Description'])\n"
   ]
  },
  {
   "cell_type": "code",
   "execution_count": 36,
   "id": "0a7e681d",
   "metadata": {},
   "outputs": [
    {
     "data": {
      "text/plain": [
       "408599"
      ]
     },
     "execution_count": 36,
     "metadata": {},
     "output_type": "execute_result"
    }
   ],
   "source": [
    "# len=408599\n",
    "len(df_jobs)\n"
   ]
  },
  {
   "cell_type": "code",
   "execution_count": 37,
   "id": "32e9c3c5",
   "metadata": {},
   "outputs": [
    {
     "data": {
      "text/plain": [
       "0                                     About Our Client\n",
       "1    The Global KYC organisation is part of ING's C...\n",
       "2    Its purpose is Enabling people and organisatio...\n",
       "3    Our Global KYC organisation is a first line of...\n",
       "4    In our Global KYC organisation you will be wor...\n",
       "Name: Job Description spacy_sentencized, dtype: object"
      ]
     },
     "execution_count": 37,
     "metadata": {},
     "output_type": "execute_result"
    }
   ],
   "source": [
    "df_jobs['Job Description spacy_sentencized'].head()\n"
   ]
  },
  {
   "cell_type": "code",
   "execution_count": 38,
   "id": "41c40efc",
   "metadata": {},
   "outputs": [
    {
     "data": {
      "text/plain": [
       "count        408599\n",
       "unique       217622\n",
       "top       Amsterdam\n",
       "freq           1410\n",
       "Name: Job Description spacy_sentencized, dtype: object"
      ]
     },
     "execution_count": 38,
     "metadata": {},
     "output_type": "execute_result"
    }
   ],
   "source": [
    "df_jobs['Job Description spacy_sentencized'].describe()\n"
   ]
  },
  {
   "cell_type": "code",
   "execution_count": 39,
   "id": "0503a4e8",
   "metadata": {},
   "outputs": [],
   "source": [
    "df_jobs['Job Description spacy_sentencized'] = df_jobs['Job Description spacy_sentencized'].dropna()\n"
   ]
  },
  {
   "cell_type": "code",
   "execution_count": 40,
   "id": "19b1e42d",
   "metadata": {},
   "outputs": [
    {
     "data": {
      "text/plain": [
       "408599"
      ]
     },
     "execution_count": 40,
     "metadata": {},
     "output_type": "execute_result"
    }
   ],
   "source": [
    "# len=408599\n",
    "len(df_jobs)\n"
   ]
  },
  {
   "cell_type": "code",
   "execution_count": 41,
   "id": "d8bd1020",
   "metadata": {},
   "outputs": [
    {
     "data": {
      "text/plain": [
       "0                                     About Our Client\n",
       "1    The Global KYC organisation is part of ING's C...\n",
       "2    Its purpose is Enabling people and organisatio...\n",
       "3    Our Global KYC organisation is a first line of...\n",
       "4    In our Global KYC organisation you will be wor...\n",
       "Name: Job Description spacy_sentencized, dtype: object"
      ]
     },
     "execution_count": 41,
     "metadata": {},
     "output_type": "execute_result"
    }
   ],
   "source": [
    "df_jobs['Job Description spacy_sentencized'].head()\n"
   ]
  },
  {
   "cell_type": "code",
   "execution_count": 42,
   "id": "8b43c29f",
   "metadata": {},
   "outputs": [
    {
     "data": {
      "text/plain": [
       "count        408599\n",
       "unique       217622\n",
       "top       Amsterdam\n",
       "freq           1410\n",
       "Name: Job Description spacy_sentencized, dtype: object"
      ]
     },
     "execution_count": 42,
     "metadata": {},
     "output_type": "execute_result"
    }
   ],
   "source": [
    "# count=408599, unique=217622\n",
    "df_jobs['Job Description spacy_sentencized'].describe()\n"
   ]
  },
  {
   "cell_type": "code",
   "execution_count": 43,
   "id": "794d6f3c",
   "metadata": {},
   "outputs": [
    {
     "name": "stderr",
     "output_type": "stream",
     "text": [
      "408599it [3:01:49, 37.45it/s] "
     ]
    },
    {
     "name": "stdout",
     "output_type": "stream",
     "text": [
      "CPU times: user 2h 31min 59s, sys: 20min 30s, total: 2h 52min 29s\n",
      "Wall time: 3h 1min 49s\n"
     ]
    },
    {
     "name": "stderr",
     "output_type": "stream",
     "text": [
      "\n"
     ]
    }
   ],
   "source": [
    "%%time\n",
    "with open(f'{data_dir}punctuations.txt', 'rb') as f:\n",
    "    custom_punct_chars = pickle.load(f)\n",
    "\n",
    "for idx, row in tqdm.tqdm(df_jobs['Job Description spacy_sentencized'].items()):\n",
    "    cleaned_job_sentence = row.split()\n",
    "    cleaned_job_sentence = list(\n",
    "        filter(\n",
    "            lambda items: (\n",
    "                item is not None\n",
    "                and isinstance(item, str)\n",
    "                and item not in nan_list\n",
    "                and item not in list(string.whitespace)\n",
    "                and item in list(string.printable)\n",
    "                for item in items\n",
    "            ),\n",
    "            cleaned_job_sentence\n",
    "        )\n",
    "    )\n",
    "    cleaned_job_sentence = ' '.join(cleaned_job_sentence).strip()\n",
    "\n",
    "    if len(cleaned_job_sentence.split()) > 2:\n",
    "        df_jobs.loc[idx, 'Job Description spacy_sentencized'] = cleaned_job_sentence\n",
    "    else:\n",
    "        df_jobs = df_jobs.drop(idx)\n"
   ]
  },
  {
   "cell_type": "code",
   "execution_count": 44,
   "id": "ca6e0b77",
   "metadata": {},
   "outputs": [
    {
     "data": {
      "text/plain": [
       "347914"
      ]
     },
     "execution_count": 44,
     "metadata": {},
     "output_type": "execute_result"
    }
   ],
   "source": [
    "# len = 347914\n",
    "len(df_jobs)\n"
   ]
  },
  {
   "cell_type": "code",
   "execution_count": 45,
   "id": "95891a51",
   "metadata": {},
   "outputs": [
    {
     "data": {
      "text/plain": [
       "0                                     About Our Client\n",
       "1    The Global KYC organisation is part of ING's C...\n",
       "2    Its purpose is Enabling people and organisatio...\n",
       "3    Our Global KYC organisation is a first line of...\n",
       "4    In our Global KYC organisation you will be wor...\n",
       "Name: Job Description spacy_sentencized, dtype: object"
      ]
     },
     "execution_count": 45,
     "metadata": {},
     "output_type": "execute_result"
    }
   ],
   "source": [
    "df_jobs['Job Description spacy_sentencized'].head()\n"
   ]
  },
  {
   "cell_type": "code",
   "execution_count": 46,
   "id": "f0d396b3",
   "metadata": {},
   "outputs": [
    {
     "data": {
      "text/plain": [
       "count            347914\n",
       "unique           202343\n",
       "top       What we offer\n",
       "freq                484\n",
       "Name: Job Description spacy_sentencized, dtype: object"
      ]
     },
     "execution_count": 46,
     "metadata": {},
     "output_type": "execute_result"
    }
   ],
   "source": [
    "# count=347914, unique=202343\n",
    "df_jobs['Job Description spacy_sentencized'].describe()\n"
   ]
  },
  {
   "cell_type": "code",
   "execution_count": 47,
   "id": "5ea0e092",
   "metadata": {},
   "outputs": [],
   "source": [
    "df_jobs['Job Description spacy_sentencized'] = df_jobs['Job Description spacy_sentencized'].dropna()\n"
   ]
  },
  {
   "cell_type": "code",
   "execution_count": 48,
   "id": "0c639a80",
   "metadata": {},
   "outputs": [
    {
     "data": {
      "application/vnd.jupyter.widget-view+json": {
       "model_id": "790ab2d0c47b43aa953f37aee046b5d5",
       "version_major": 2,
       "version_minor": 0
      },
      "text/plain": [
       "progress-bar:   0%|          | 0/347914 [00:00<?, ?it/s]"
      ]
     },
     "metadata": {},
     "output_type": "display_data"
    }
   ],
   "source": [
    "df_jobs['Job Description spacy_sentencized'] = df_jobs['Job Description spacy_sentencized'].progress_apply(lambda x: unicodedata.normalize('NFKD', x.encode('ascii', 'ignore').decode('utf-8', 'ignore')))\n"
   ]
  },
  {
   "cell_type": "code",
   "execution_count": 49,
   "id": "e34a03dc",
   "metadata": {},
   "outputs": [
    {
     "data": {
      "text/plain": [
       "347914"
      ]
     },
     "execution_count": 49,
     "metadata": {},
     "output_type": "execute_result"
    }
   ],
   "source": [
    "# len = 347914\n",
    "len(df_jobs)\n"
   ]
  },
  {
   "cell_type": "code",
   "execution_count": 50,
   "id": "3ae1dcc7",
   "metadata": {},
   "outputs": [
    {
     "data": {
      "text/plain": [
       "0                                     About Our Client\n",
       "1    The Global KYC organisation is part of ING's C...\n",
       "2    Its purpose is Enabling people and organisatio...\n",
       "3    Our Global KYC organisation is a first line of...\n",
       "4    In our Global KYC organisation you will be wor...\n",
       "Name: Job Description spacy_sentencized, dtype: object"
      ]
     },
     "execution_count": 50,
     "metadata": {},
     "output_type": "execute_result"
    }
   ],
   "source": [
    "df_jobs['Job Description spacy_sentencized'].head()\n"
   ]
  },
  {
   "cell_type": "code",
   "execution_count": 51,
   "id": "dbc2f7ff",
   "metadata": {},
   "outputs": [
    {
     "data": {
      "text/plain": [
       "count            347914\n",
       "unique           202343\n",
       "top       What we offer\n",
       "freq                484\n",
       "Name: Job Description spacy_sentencized, dtype: object"
      ]
     },
     "execution_count": 51,
     "metadata": {},
     "output_type": "execute_result"
    }
   ],
   "source": [
    "# count=347914, unique=202343\n",
    "df_jobs['Job Description spacy_sentencized'].describe()\n"
   ]
  },
  {
   "cell_type": "code",
   "execution_count": 52,
   "id": "61de05bb",
   "metadata": {},
   "outputs": [],
   "source": [
    "# Remove duplicate sentences from the same job ad\n",
    "df_jobs = df_jobs.drop_duplicates(subset=['Job ID', 'Job Description spacy_sentencized'])\n"
   ]
  },
  {
   "cell_type": "code",
   "execution_count": 53,
   "id": "75385881",
   "metadata": {},
   "outputs": [
    {
     "data": {
      "text/plain": [
       "307318"
      ]
     },
     "execution_count": 53,
     "metadata": {},
     "output_type": "execute_result"
    }
   ],
   "source": [
    "# len = 307318\n",
    "len(df_jobs)\n"
   ]
  },
  {
   "cell_type": "code",
   "execution_count": 54,
   "id": "004beb18",
   "metadata": {},
   "outputs": [
    {
     "data": {
      "text/plain": [
       "count            307318\n",
       "unique           202343\n",
       "top       What we offer\n",
       "freq                404\n",
       "Name: Job Description spacy_sentencized, dtype: object"
      ]
     },
     "execution_count": 54,
     "metadata": {},
     "output_type": "execute_result"
    }
   ],
   "source": [
    "# count=307318, unique=202343\n",
    "df_jobs['Job Description spacy_sentencized'].describe()\n"
   ]
  },
  {
   "cell_type": "code",
   "execution_count": 55,
   "id": "85d25bc1",
   "metadata": {},
   "outputs": [],
   "source": [
    "df_jobs['Job Description spacy_sentencized'] = df_jobs['Job Description spacy_sentencized'].dropna()\n"
   ]
  },
  {
   "cell_type": "code",
   "execution_count": 56,
   "id": "06530ffb",
   "metadata": {},
   "outputs": [
    {
     "data": {
      "text/plain": [
       "307318"
      ]
     },
     "execution_count": 56,
     "metadata": {},
     "output_type": "execute_result"
    }
   ],
   "source": [
    "# len=307318\n",
    "len(df_jobs)\n"
   ]
  },
  {
   "cell_type": "code",
   "execution_count": 57,
   "id": "6479fa85",
   "metadata": {},
   "outputs": [
    {
     "data": {
      "text/plain": [
       "0                                     About Our Client\n",
       "1    The Global KYC organisation is part of ING's C...\n",
       "2    Its purpose is Enabling people and organisatio...\n",
       "3    Our Global KYC organisation is a first line of...\n",
       "4    In our Global KYC organisation you will be wor...\n",
       "Name: Job Description spacy_sentencized, dtype: object"
      ]
     },
     "execution_count": 57,
     "metadata": {},
     "output_type": "execute_result"
    }
   ],
   "source": [
    "df_jobs['Job Description spacy_sentencized'].head()\n"
   ]
  },
  {
   "cell_type": "code",
   "execution_count": 58,
   "id": "f731381d",
   "metadata": {},
   "outputs": [
    {
     "data": {
      "application/vnd.jupyter.widget-view+json": {
       "model_id": "101688cf71a24e389dab10451eeeca21",
       "version_major": 2,
       "version_minor": 0
      },
      "text/plain": [
       "progress-bar:   0%|          | 0/307318 [00:00<?, ?it/s]"
      ]
     },
     "metadata": {},
     "output_type": "display_data"
    }
   ],
   "source": [
    "# Drop na, empty strings, punctuations, and keep only sentences of length more than 0\n",
    "with open(f'{data_dir}punctuations.txt', 'rb') as f:\n",
    "    custom_punct_chars = pickle.load(f)\n",
    "\n",
    "df_jobs = df_jobs.dropna(subset=['Job Description spacy_sentencized'])\n",
    "df_jobs = df_jobs.loc[\n",
    "    (df_jobs['Job Description spacy_sentencized'].isnull() == False)\n",
    "    & (df_jobs['Job Description spacy_sentencized'].isna() == False)\n",
    "    & (df_jobs['Job Description spacy_sentencized'].notnull() == True)\n",
    "    & (df_jobs['Job Description spacy_sentencized'].notna() == True)\n",
    "    & (df_jobs['Job Description spacy_sentencized'].astype(bool) == True)\n",
    "    & (df_jobs['Job Description spacy_sentencized'].astype(str).progress_apply(len) > 0)\n",
    "    & (pd.isna(df_jobs['Job Description spacy_sentencized']) == False)\n",
    "]\n"
   ]
  },
  {
   "cell_type": "code",
   "execution_count": 59,
   "id": "4afc36eb",
   "metadata": {},
   "outputs": [
    {
     "data": {
      "text/plain": [
       "307318"
      ]
     },
     "execution_count": 59,
     "metadata": {},
     "output_type": "execute_result"
    }
   ],
   "source": [
    "# len=307318\n",
    "len(df_jobs)\n"
   ]
  },
  {
   "cell_type": "code",
   "execution_count": 60,
   "id": "cd546cec",
   "metadata": {},
   "outputs": [
    {
     "data": {
      "text/plain": [
       "count            307318\n",
       "unique           202343\n",
       "top       What we offer\n",
       "freq                404\n",
       "Name: Job Description spacy_sentencized, dtype: object"
      ]
     },
     "execution_count": 60,
     "metadata": {},
     "output_type": "execute_result"
    }
   ],
   "source": [
    "# count=307318, unique=202343\n",
    "df_jobs['Job Description spacy_sentencized'].describe()\n"
   ]
  },
  {
   "cell_type": "code",
   "execution_count": 61,
   "id": "488f6a5a",
   "metadata": {},
   "outputs": [
    {
     "data": {
      "application/vnd.jupyter.widget-view+json": {
       "model_id": "2881103cdf874cb682364b2dc45d8057",
       "version_major": 2,
       "version_minor": 0
      },
      "text/plain": [
       "progress-bar:   0%|          | 0/307318 [00:00<?, ?it/s]"
      ]
     },
     "metadata": {},
     "output_type": "display_data"
    }
   ],
   "source": [
    "df_jobs['Job Description spacy_sentencized'] = df_jobs['Job Description spacy_sentencized'].progress_apply(lambda x: ' '.join(re.split(pattern, x)))\n"
   ]
  },
  {
   "cell_type": "code",
   "execution_count": 62,
   "id": "6ebd2583",
   "metadata": {},
   "outputs": [
    {
     "data": {
      "application/vnd.jupyter.widget-view+json": {
       "model_id": "c3522211044c4b498a0ccb97c3f08d6a",
       "version_major": 2,
       "version_minor": 0
      },
      "text/plain": [
       "progress-bar:   0%|          | 0/307318 [00:00<?, ?it/s]"
      ]
     },
     "metadata": {},
     "output_type": "display_data"
    },
    {
     "data": {
      "text/plain": [
       "'This starts with performing the actual installation as per procedure and training at the customers site and is followed by troubleshooting, performing repairs, maintenance activities and installing upgrades to our system You will cooperate closely with our Sales team and thus contribute to ramping up our business In more detail, you and mount the Phenospex plant measurement systems and perform quality control checks to ensure correct functioning and customer satisfactionprovide support and training to the customer on the application of the automation technologies and user interfacesregularly interface with technical staff, such as Project Managers and Engineers, both at Phenospex and at the customers site to ensure that installation requirements on site are met in time before the installationdeliver troubleshooting and diagnostic support services to ensure that all products and services function properly and resolve technical support inquiries directlyinform customers on preventive maintenance and complete maintenance of the systems as requiredprovide the CCO with a detailed installation report upon project completionplan service assignments in assigned territories independently and combine trips to different service sites wiselyprovide support during trade showswork in close collaboration with the Sales Service teamprovide training to relevant groups at Phenospexlog and keep records of all incoming issues and findings in the CRM system and internal databaseanalyze logs to spot common trends and underlying problemssupport the operations team with performing a variety of production development and repairrefurbishment workcomplete special assignments as requestedmaintain a safe and healthy work environment by following and complying with all health and safety policies, procedures and legislation in the workshop and on sitea degree in Biotechnology or Bioinformatics Engineering with focus on plants or a degree in Plant Physiology with a strong interest in technologya passion for working with your hands along with excellent technical and mechanical skillsfamiliarity with the Linux operating system and commands Debiana strong customer focus mentality and passion for challenges and troubleshootingstrong communication skills and good verbal and written English any other language is beneficialexcellent organizational skillsflexibility to travel on short notice and for longer periods of time worldwide roughly 50 of timea valid EU work permit and drivers license'"
      ]
     },
     "execution_count": 62,
     "metadata": {},
     "output_type": "execute_result"
    }
   ],
   "source": [
    "# Get the longest sentence\n",
    "df_jobs['Job Description spacy_sentencized'].loc[df_jobs['Job Description spacy_sentencized'].progress_apply(len).idxmax()]\n"
   ]
  },
  {
   "cell_type": "code",
   "execution_count": 63,
   "id": "01e9fc82",
   "metadata": {},
   "outputs": [
    {
     "data": {
      "application/vnd.jupyter.widget-view+json": {
       "model_id": "4b6d3ff4c19643c0853717ac7f05e0ba",
       "version_major": 2,
       "version_minor": 0
      },
      "text/plain": [
       "progress-bar:   0%|          | 0/307318 [00:00<?, ?it/s]"
      ]
     },
     "metadata": {},
     "output_type": "display_data"
    },
    {
     "data": {
      "text/plain": [
       "2496"
      ]
     },
     "execution_count": 63,
     "metadata": {},
     "output_type": "execute_result"
    }
   ],
   "source": [
    "# len=2496\n",
    "df_jobs['Job Description spacy_sentencized'].progress_apply(len).max()\n"
   ]
  },
  {
   "cell_type": "code",
   "execution_count": 64,
   "id": "994e6919",
   "metadata": {},
   "outputs": [
    {
     "data": {
      "application/vnd.jupyter.widget-view+json": {
       "model_id": "6c9459c994b84fdc8861aa2f5f35de21",
       "version_major": 2,
       "version_minor": 0
      },
      "text/plain": [
       "progress-bar:   0%|          | 0/307318 [00:00<?, ?it/s]"
      ]
     },
     "metadata": {},
     "output_type": "display_data"
    },
    {
     "data": {
      "text/plain": [
       "'24 x 7'"
      ]
     },
     "execution_count": 64,
     "metadata": {},
     "output_type": "execute_result"
    }
   ],
   "source": [
    "# Get the shortest sentence\n",
    "df_jobs['Job Description spacy_sentencized'].loc[df_jobs['Job Description spacy_sentencized'].progress_apply(len).idxmin()]\n"
   ]
  },
  {
   "cell_type": "code",
   "execution_count": 65,
   "id": "2c8092c0",
   "metadata": {},
   "outputs": [
    {
     "data": {
      "application/vnd.jupyter.widget-view+json": {
       "model_id": "4c9a1669e3254fedb104922014575535",
       "version_major": 2,
       "version_minor": 0
      },
      "text/plain": [
       "progress-bar:   0%|          | 0/307318 [00:00<?, ?it/s]"
      ]
     },
     "metadata": {},
     "output_type": "display_data"
    },
    {
     "data": {
      "text/plain": [
       "6"
      ]
     },
     "execution_count": 65,
     "metadata": {},
     "output_type": "execute_result"
    }
   ],
   "source": [
    "# len=6\n",
    "df_jobs['Job Description spacy_sentencized'].progress_apply(len).min()\n"
   ]
  },
  {
   "cell_type": "code",
   "execution_count": 66,
   "id": "94345b75",
   "metadata": {},
   "outputs": [
    {
     "data": {
      "application/vnd.jupyter.widget-view+json": {
       "model_id": "fc0ed76ee26b44deb56f96c09afcad4c",
       "version_major": 2,
       "version_minor": 0
      },
      "text/plain": [
       "progress-bar:   0%|          | 0/307318 [00:00<?, ?it/s]"
      ]
     },
     "metadata": {},
     "output_type": "display_data"
    },
    {
     "name": "stdout",
     "output_type": "stream",
     "text": [
      "CPU times: user 4min 59s, sys: 14 s, total: 5min 13s\n",
      "Wall time: 6min 4s\n"
     ]
    }
   ],
   "source": [
    "%%time\n",
    "# Get sentence word frequencies\n",
    "df_jobs = df_jobs.progress_apply(\n",
    "    lambda row: get_word_num_and_frequency(\n",
    "        row=row, text_col='Job Description spacy_sentencized'\n",
    "    ),\n",
    "    axis='columns',\n",
    ")\n"
   ]
  },
  {
   "cell_type": "code",
   "execution_count": 67,
   "id": "c2d9a916",
   "metadata": {},
   "outputs": [
    {
     "data": {
      "text/html": [
       "<div>\n",
       "<style scoped>\n",
       "    .dataframe tbody tr th:only-of-type {\n",
       "        vertical-align: middle;\n",
       "    }\n",
       "\n",
       "    .dataframe tbody tr th {\n",
       "        vertical-align: top;\n",
       "    }\n",
       "\n",
       "    .dataframe thead th {\n",
       "        text-align: right;\n",
       "    }\n",
       "</style>\n",
       "<table border=\"1\" class=\"dataframe\">\n",
       "  <thead>\n",
       "    <tr style=\"text-align: center;\">\n",
       "      <th></th>\n",
       "      <th>Job Description spacy_sentencized</th>\n",
       "      <th>Job Description spacy_sentencized_num_words</th>\n",
       "      <th>Job Description spacy_sentencized_num_unique_words</th>\n",
       "      <th>Job Description spacy_sentencized_num_chars</th>\n",
       "      <th>Job Description spacy_sentencized_num_chars_no_whitespact_and_punt</th>\n",
       "    </tr>\n",
       "  </thead>\n",
       "  <tbody>\n",
       "    <tr>\n",
       "      <th>0</th>\n",
       "      <td>About Our Client</td>\n",
       "      <td>3</td>\n",
       "      <td>3</td>\n",
       "      <td>16</td>\n",
       "      <td>14</td>\n",
       "    </tr>\n",
       "    <tr>\n",
       "      <th>1</th>\n",
       "      <td>The Global KYC organisation is part of ING's C...</td>\n",
       "      <td>10</td>\n",
       "      <td>10</td>\n",
       "      <td>56</td>\n",
       "      <td>45</td>\n",
       "    </tr>\n",
       "    <tr>\n",
       "      <th>2</th>\n",
       "      <td>Its purpose is Enabling people and organisatio...</td>\n",
       "      <td>20</td>\n",
       "      <td>19</td>\n",
       "      <td>131</td>\n",
       "      <td>111</td>\n",
       "    </tr>\n",
       "    <tr>\n",
       "      <th>3</th>\n",
       "      <td>Our Global KYC organisation is a first line of...</td>\n",
       "      <td>34</td>\n",
       "      <td>31</td>\n",
       "      <td>239</td>\n",
       "      <td>203</td>\n",
       "    </tr>\n",
       "    <tr>\n",
       "      <th>4</th>\n",
       "      <td>In our Global KYC organisation you will be wor...</td>\n",
       "      <td>18</td>\n",
       "      <td>18</td>\n",
       "      <td>128</td>\n",
       "      <td>109</td>\n",
       "    </tr>\n",
       "  </tbody>\n",
       "</table>\n",
       "</div>"
      ],
      "text/plain": [
       "          Job Description spacy_sentencized           Job Description spacy_sentencized_num_words  Job Description spacy_sentencized_num_unique_words  Job Description spacy_sentencized_num_chars  Job Description spacy_sentencized_num_chars_no_whitespact_and_punt\n",
       "0                                   About Our Client                       3                                               3                                                16                                              14                                        \n",
       "1  The Global KYC organisation is part of ING's C...                      10                                              10                                                56                                              45                                        \n",
       "2  Its purpose is Enabling people and organisatio...                      20                                              19                                               131                                             111                                        \n",
       "3  Our Global KYC organisation is a first line of...                      34                                              31                                               239                                             203                                        \n",
       "4  In our Global KYC organisation you will be wor...                      18                                              18                                               128                                             109                                        "
      ]
     },
     "execution_count": 67,
     "metadata": {},
     "output_type": "execute_result"
    }
   ],
   "source": [
    "df_jobs[\n",
    "    [\n",
    "        'Job Description spacy_sentencized',\n",
    "        'Job Description spacy_sentencized_num_words', 'Job Description spacy_sentencized_num_unique_words',\n",
    "        'Job Description spacy_sentencized_num_chars', 'Job Description spacy_sentencized_num_chars_no_whitespact_and_punt'\n",
    "    ]\n",
    "].head()\n"
   ]
  },
  {
   "cell_type": "code",
   "execution_count": 68,
   "id": "b18b330c",
   "metadata": {},
   "outputs": [
    {
     "data": {
      "text/html": [
       "<div>\n",
       "<style scoped>\n",
       "    .dataframe tbody tr th:only-of-type {\n",
       "        vertical-align: middle;\n",
       "    }\n",
       "\n",
       "    .dataframe tbody tr th {\n",
       "        vertical-align: top;\n",
       "    }\n",
       "\n",
       "    .dataframe thead th {\n",
       "        text-align: right;\n",
       "    }\n",
       "</style>\n",
       "<table border=\"1\" class=\"dataframe\">\n",
       "  <thead>\n",
       "    <tr style=\"text-align: center;\">\n",
       "      <th></th>\n",
       "      <th>Job Description spacy_sentencized_num_words</th>\n",
       "      <th>Job Description spacy_sentencized_num_unique_words</th>\n",
       "      <th>Job Description spacy_sentencized_num_chars</th>\n",
       "      <th>Job Description spacy_sentencized_num_chars_no_whitespact_and_punt</th>\n",
       "    </tr>\n",
       "  </thead>\n",
       "  <tbody>\n",
       "    <tr>\n",
       "      <th>count</th>\n",
       "      <td>307318.000</td>\n",
       "      <td>307318.000</td>\n",
       "      <td>307318.000</td>\n",
       "      <td>307318.000</td>\n",
       "    </tr>\n",
       "    <tr>\n",
       "      <th>mean</th>\n",
       "      <td>17.664</td>\n",
       "      <td>15.810</td>\n",
       "      <td>114.089</td>\n",
       "      <td>95.837</td>\n",
       "    </tr>\n",
       "    <tr>\n",
       "      <th>std</th>\n",
       "      <td>16.449</td>\n",
       "      <td>12.764</td>\n",
       "      <td>107.738</td>\n",
       "      <td>90.356</td>\n",
       "    </tr>\n",
       "    <tr>\n",
       "      <th>min</th>\n",
       "      <td>3.000</td>\n",
       "      <td>2.000</td>\n",
       "      <td>6.000</td>\n",
       "      <td>1.000</td>\n",
       "    </tr>\n",
       "    <tr>\n",
       "      <th>25%</th>\n",
       "      <td>7.000</td>\n",
       "      <td>7.000</td>\n",
       "      <td>45.000</td>\n",
       "      <td>38.000</td>\n",
       "    </tr>\n",
       "    <tr>\n",
       "      <th>50%</th>\n",
       "      <td>13.000</td>\n",
       "      <td>12.000</td>\n",
       "      <td>84.000</td>\n",
       "      <td>70.000</td>\n",
       "    </tr>\n",
       "    <tr>\n",
       "      <th>75%</th>\n",
       "      <td>22.000</td>\n",
       "      <td>20.000</td>\n",
       "      <td>144.000</td>\n",
       "      <td>120.000</td>\n",
       "    </tr>\n",
       "    <tr>\n",
       "      <th>max</th>\n",
       "      <td>349.000</td>\n",
       "      <td>209.000</td>\n",
       "      <td>2496.000</td>\n",
       "      <td>2142.000</td>\n",
       "    </tr>\n",
       "  </tbody>\n",
       "</table>\n",
       "</div>"
      ],
      "text/plain": [
       "       Job Description spacy_sentencized_num_words  Job Description spacy_sentencized_num_unique_words  Job Description spacy_sentencized_num_chars  Job Description spacy_sentencized_num_chars_no_whitespact_and_punt\n",
       "count                  307318.000                                      307318.000                                       307318.000                                      307318.000                                     \n",
       "mean                       17.664                                          15.810                                          114.089                                          95.837                                     \n",
       "std                        16.449                                          12.764                                          107.738                                          90.356                                     \n",
       "min                         3.000                                           2.000                                            6.000                                           1.000                                     \n",
       "25%                         7.000                                           7.000                                           45.000                                          38.000                                     \n",
       "50%                        13.000                                          12.000                                           84.000                                          70.000                                     \n",
       "75%                        22.000                                          20.000                                          144.000                                         120.000                                     \n",
       "max                       349.000                                         209.000                                         2496.000                                        2142.000                                     "
      ]
     },
     "execution_count": 68,
     "metadata": {},
     "output_type": "execute_result"
    }
   ],
   "source": [
    "df_jobs[\n",
    "    [\n",
    "        'Job Description spacy_sentencized',\n",
    "        'Job Description spacy_sentencized_num_words', 'Job Description spacy_sentencized_num_unique_words',\n",
    "        'Job Description spacy_sentencized_num_chars', 'Job Description spacy_sentencized_num_chars_no_whitespact_and_punt'\n",
    "    ]\n",
    "].describe()\n"
   ]
  },
  {
   "cell_type": "code",
   "execution_count": 69,
   "id": "20c91bfe",
   "metadata": {},
   "outputs": [
    {
     "data": {
      "text/plain": [
       "349"
      ]
     },
     "execution_count": 69,
     "metadata": {},
     "output_type": "execute_result"
    }
   ],
   "source": [
    "# Get the longest sentence words = 349\n",
    "df_jobs['Job Description spacy_sentencized_num_words'].max()\n"
   ]
  },
  {
   "cell_type": "code",
   "execution_count": 70,
   "id": "169963d6",
   "metadata": {},
   "outputs": [
    {
     "data": {
      "text/plain": [
       "'This starts with performing the actual installation as per procedure and training at the customers site and is followed by troubleshooting, performing repairs, maintenance activities and installing upgrades to our system You will cooperate closely with our Sales team and thus contribute to ramping up our business In more detail, you and mount the Phenospex plant measurement systems and perform quality control checks to ensure correct functioning and customer satisfactionprovide support and training to the customer on the application of the automation technologies and user interfacesregularly interface with technical staff, such as Project Managers and Engineers, both at Phenospex and at the customers site to ensure that installation requirements on site are met in time before the installationdeliver troubleshooting and diagnostic support services to ensure that all products and services function properly and resolve technical support inquiries directlyinform customers on preventive maintenance and complete maintenance of the systems as requiredprovide the CCO with a detailed installation report upon project completionplan service assignments in assigned territories independently and combine trips to different service sites wiselyprovide support during trade showswork in close collaboration with the Sales Service teamprovide training to relevant groups at Phenospexlog and keep records of all incoming issues and findings in the CRM system and internal databaseanalyze logs to spot common trends and underlying problemssupport the operations team with performing a variety of production development and repairrefurbishment workcomplete special assignments as requestedmaintain a safe and healthy work environment by following and complying with all health and safety policies, procedures and legislation in the workshop and on sitea degree in Biotechnology or Bioinformatics Engineering with focus on plants or a degree in Plant Physiology with a strong interest in technologya passion for working with your hands along with excellent technical and mechanical skillsfamiliarity with the Linux operating system and commands Debiana strong customer focus mentality and passion for challenges and troubleshootingstrong communication skills and good verbal and written English any other language is beneficialexcellent organizational skillsflexibility to travel on short notice and for longer periods of time worldwide roughly 50 of timea valid EU work permit and drivers license'"
      ]
     },
     "execution_count": 70,
     "metadata": {},
     "output_type": "execute_result"
    }
   ],
   "source": [
    "# Get the sentence with the max words\n",
    "df_jobs['Job Description spacy_sentencized'].loc[df_jobs['Job Description spacy_sentencized_num_words'].idxmax()]\n"
   ]
  },
  {
   "cell_type": "code",
   "execution_count": 71,
   "id": "ad25b505",
   "metadata": {},
   "outputs": [
    {
     "data": {
      "text/plain": [
       "3"
      ]
     },
     "execution_count": 71,
     "metadata": {},
     "output_type": "execute_result"
    }
   ],
   "source": [
    "# Get the longest sentence words = 3\n",
    "df_jobs['Job Description spacy_sentencized_num_words'].min()\n"
   ]
  },
  {
   "cell_type": "code",
   "execution_count": 72,
   "id": "731d94bd",
   "metadata": {},
   "outputs": [
    {
     "data": {
      "text/plain": [
       "'About Our Client'"
      ]
     },
     "execution_count": 72,
     "metadata": {},
     "output_type": "execute_result"
    }
   ],
   "source": [
    "# Get the sentence with the min words\n",
    "df_jobs['Job Description spacy_sentencized'].loc[df_jobs['Job Description spacy_sentencized_num_words'].idxmin()]\n"
   ]
  },
  {
   "cell_type": "code",
   "execution_count": 73,
   "id": "5982abf7",
   "metadata": {},
   "outputs": [
    {
     "data": {
      "application/vnd.jupyter.widget-view+json": {
       "model_id": "c79a1f4dced747f58749c4563367c218",
       "version_major": 2,
       "version_minor": 0
      },
      "text/plain": [
       "progress-bar:   0%|          | 0/307318 [00:00<?, ?it/s]"
      ]
     },
     "metadata": {},
     "output_type": "display_data"
    },
    {
     "name": "stdout",
     "output_type": "stream",
     "text": [
      "CPU times: user 39min 16s, sys: 40.3 s, total: 39min 56s\n",
      "Wall time: 42min 45s\n"
     ]
    }
   ],
   "source": [
    "%%time\n",
    "# Get sentence word frequencies\n",
    "df_jobs = df_jobs.progress_apply(\n",
    "    lambda row: get_word_num_and_frequency(\n",
    "        row=row, text_col='Job Description'\n",
    "    ),\n",
    "    axis='columns',\n",
    ")\n"
   ]
  },
  {
   "cell_type": "code",
   "execution_count": 74,
   "id": "aa853d04",
   "metadata": {},
   "outputs": [
    {
     "data": {
      "text/html": [
       "<div>\n",
       "<style scoped>\n",
       "    .dataframe tbody tr th:only-of-type {\n",
       "        vertical-align: middle;\n",
       "    }\n",
       "\n",
       "    .dataframe tbody tr th {\n",
       "        vertical-align: top;\n",
       "    }\n",
       "\n",
       "    .dataframe thead th {\n",
       "        text-align: right;\n",
       "    }\n",
       "</style>\n",
       "<table border=\"1\" class=\"dataframe\">\n",
       "  <thead>\n",
       "    <tr style=\"text-align: center;\">\n",
       "      <th></th>\n",
       "      <th>Job Description spacy_sentencized</th>\n",
       "      <th>Job Description_num_words</th>\n",
       "      <th>Job Description_num_unique_words</th>\n",
       "      <th>Job Description_num_chars</th>\n",
       "      <th>Job Description_num_chars_no_whitespact_and_punt</th>\n",
       "    </tr>\n",
       "  </thead>\n",
       "  <tbody>\n",
       "    <tr>\n",
       "      <th>0</th>\n",
       "      <td>About Our Client</td>\n",
       "      <td>558</td>\n",
       "      <td>320</td>\n",
       "      <td>3876</td>\n",
       "      <td>3240</td>\n",
       "    </tr>\n",
       "    <tr>\n",
       "      <th>1</th>\n",
       "      <td>The Global KYC organisation is part of ING's C...</td>\n",
       "      <td>558</td>\n",
       "      <td>320</td>\n",
       "      <td>3876</td>\n",
       "      <td>3240</td>\n",
       "    </tr>\n",
       "    <tr>\n",
       "      <th>2</th>\n",
       "      <td>Its purpose is Enabling people and organisatio...</td>\n",
       "      <td>558</td>\n",
       "      <td>320</td>\n",
       "      <td>3876</td>\n",
       "      <td>3240</td>\n",
       "    </tr>\n",
       "    <tr>\n",
       "      <th>3</th>\n",
       "      <td>Our Global KYC organisation is a first line of...</td>\n",
       "      <td>558</td>\n",
       "      <td>320</td>\n",
       "      <td>3876</td>\n",
       "      <td>3240</td>\n",
       "    </tr>\n",
       "    <tr>\n",
       "      <th>4</th>\n",
       "      <td>In our Global KYC organisation you will be wor...</td>\n",
       "      <td>558</td>\n",
       "      <td>320</td>\n",
       "      <td>3876</td>\n",
       "      <td>3240</td>\n",
       "    </tr>\n",
       "  </tbody>\n",
       "</table>\n",
       "</div>"
      ],
      "text/plain": [
       "          Job Description spacy_sentencized           Job Description_num_words  Job Description_num_unique_words  Job Description_num_chars  Job Description_num_chars_no_whitespact_and_punt\n",
       "0                                   About Our Client             558                            320                          3876                                   3240                      \n",
       "1  The Global KYC organisation is part of ING's C...             558                            320                          3876                                   3240                      \n",
       "2  Its purpose is Enabling people and organisatio...             558                            320                          3876                                   3240                      \n",
       "3  Our Global KYC organisation is a first line of...             558                            320                          3876                                   3240                      \n",
       "4  In our Global KYC organisation you will be wor...             558                            320                          3876                                   3240                      "
      ]
     },
     "execution_count": 74,
     "metadata": {},
     "output_type": "execute_result"
    }
   ],
   "source": [
    "df_jobs[\n",
    "    [\n",
    "        'Job Description spacy_sentencized',\n",
    "        'Job Description_num_words', 'Job Description_num_unique_words',\n",
    "        'Job Description_num_chars', 'Job Description_num_chars_no_whitespact_and_punt'\n",
    "    ]\n",
    "].head()\n"
   ]
  },
  {
   "cell_type": "code",
   "execution_count": 75,
   "id": "e3ba7554",
   "metadata": {},
   "outputs": [
    {
     "data": {
      "text/html": [
       "<div>\n",
       "<style scoped>\n",
       "    .dataframe tbody tr th:only-of-type {\n",
       "        vertical-align: middle;\n",
       "    }\n",
       "\n",
       "    .dataframe tbody tr th {\n",
       "        vertical-align: top;\n",
       "    }\n",
       "\n",
       "    .dataframe thead th {\n",
       "        text-align: right;\n",
       "    }\n",
       "</style>\n",
       "<table border=\"1\" class=\"dataframe\">\n",
       "  <thead>\n",
       "    <tr style=\"text-align: center;\">\n",
       "      <th></th>\n",
       "      <th>Job Description_num_words</th>\n",
       "      <th>Job Description_num_unique_words</th>\n",
       "      <th>Job Description_num_chars</th>\n",
       "      <th>Job Description_num_chars_no_whitespact_and_punt</th>\n",
       "    </tr>\n",
       "  </thead>\n",
       "  <tbody>\n",
       "    <tr>\n",
       "      <th>count</th>\n",
       "      <td>307318.000</td>\n",
       "      <td>307318.000</td>\n",
       "      <td>307318.000</td>\n",
       "      <td>307318.000</td>\n",
       "    </tr>\n",
       "    <tr>\n",
       "      <th>mean</th>\n",
       "      <td>613.436</td>\n",
       "      <td>316.328</td>\n",
       "      <td>4090.296</td>\n",
       "      <td>3388.534</td>\n",
       "    </tr>\n",
       "    <tr>\n",
       "      <th>std</th>\n",
       "      <td>524.502</td>\n",
       "      <td>147.772</td>\n",
       "      <td>3624.483</td>\n",
       "      <td>3021.646</td>\n",
       "    </tr>\n",
       "    <tr>\n",
       "      <th>min</th>\n",
       "      <td>4.000</td>\n",
       "      <td>4.000</td>\n",
       "      <td>31.000</td>\n",
       "      <td>20.000</td>\n",
       "    </tr>\n",
       "    <tr>\n",
       "      <th>25%</th>\n",
       "      <td>354.000</td>\n",
       "      <td>213.000</td>\n",
       "      <td>2290.000</td>\n",
       "      <td>1892.000</td>\n",
       "    </tr>\n",
       "    <tr>\n",
       "      <th>50%</th>\n",
       "      <td>536.000</td>\n",
       "      <td>311.000</td>\n",
       "      <td>3557.000</td>\n",
       "      <td>2931.000</td>\n",
       "    </tr>\n",
       "    <tr>\n",
       "      <th>75%</th>\n",
       "      <td>751.000</td>\n",
       "      <td>408.000</td>\n",
       "      <td>4974.000</td>\n",
       "      <td>4126.000</td>\n",
       "    </tr>\n",
       "    <tr>\n",
       "      <th>max</th>\n",
       "      <td>10385.000</td>\n",
       "      <td>1107.000</td>\n",
       "      <td>66310.000</td>\n",
       "      <td>55654.000</td>\n",
       "    </tr>\n",
       "  </tbody>\n",
       "</table>\n",
       "</div>"
      ],
      "text/plain": [
       "       Job Description_num_words  Job Description_num_unique_words  Job Description_num_chars  Job Description_num_chars_no_whitespact_and_punt\n",
       "count         307318.000                     307318.000                    307318.000                             307318.000                   \n",
       "mean             613.436                        316.328                      4090.296                               3388.534                   \n",
       "std              524.502                        147.772                      3624.483                               3021.646                   \n",
       "min                4.000                          4.000                        31.000                                 20.000                   \n",
       "25%              354.000                        213.000                      2290.000                               1892.000                   \n",
       "50%              536.000                        311.000                      3557.000                               2931.000                   \n",
       "75%              751.000                        408.000                      4974.000                               4126.000                   \n",
       "max            10385.000                       1107.000                     66310.000                              55654.000                   "
      ]
     },
     "execution_count": 75,
     "metadata": {},
     "output_type": "execute_result"
    }
   ],
   "source": [
    "df_jobs[\n",
    "    [\n",
    "        'Job Description spacy_sentencized',\n",
    "        'Job Description_num_words', 'Job Description_num_unique_words',\n",
    "        'Job Description_num_chars', 'Job Description_num_chars_no_whitespact_and_punt'\n",
    "    ]\n",
    "].describe()\n"
   ]
  },
  {
   "cell_type": "code",
   "execution_count": 76,
   "id": "0d1edc4a",
   "metadata": {},
   "outputs": [
    {
     "data": {
      "text/plain": [
       "10385"
      ]
     },
     "execution_count": 76,
     "metadata": {},
     "output_type": "execute_result"
    }
   ],
   "source": [
    "# Get the longest sentence words = 349\n",
    "df_jobs['Job Description_num_words'].max()\n"
   ]
  },
  {
   "cell_type": "code",
   "execution_count": 77,
   "id": "2883a903",
   "metadata": {},
   "outputs": [
    {
     "data": {
      "text/plain": [
       "'Salesforce Marketing Cloud ConsultantGoalAs a Salesforce Marketing Cloud Consultant you will work with Nextview clients. The role is focused on Salesforce Marketing Cloud customer implementations, both technical as well as guiding our clients to get the most value from their Marketing Automation toolset. You will be advising customers, analyze client requirements, develop designs and implement Marketing Cloud solutions. In this role, youll be working in Nextviews Customer Practice.We are looking for resourceful individuals who will be able to lead a vision through analyzing business models and innovation with the ability to translate customer requirements into implementation plans. We are looking for excellent technical acumen, and the ability to convert plans into solutions that work in order to achieve customer success. We are looking for creative technical solutions and the ability to prioritise and manage customer relationships. You have great communication and presentation skills, are personable and very well able to work in a team. You will use your skills and expertise to work on various assignments together with your colleagues. You will be in contact with your clients and advise them based on your technical and functional experience. Building your work experience in projects and achieving certificates will have the opportunity to build your skills and grow further in your consultant role.Role responsibilitiesWe are looking for proactive consultants who:Understands the different marketing capabilities (paid owned earned media) and the role Salesforce Marketing Cloud can play in this area;Is able to translate customer requests into different marketing tactics that we can build for the customer;Has knowledge on AMP script, SQL, HTML and CSS;Has extensive knowledge on the possibilities of email marketing including reputation management and customer journey management;Has at least 2 years hands on experience with marketing Automation tooling such as Selligent IBM Adobe Marketing Cloud Marketo;Has proven implementation experience with Salesforce Marketing Cloud (email studio, journey builder, advertising studio, social studio) of at least two implementations;Has knowledge on best-practices such as A B testing, Salesforce data modelling in Marketing Cloud, et cetera;Is a data driven person that is eager to learn and onboard new marketing capabilities;Having experience with the Salesforce Lightning Platform (Sales Cloud & Service Cloud) and the connection between Marketing Cloud and said platform is a pre.CompetenciesCustomer Focus. You know how to work customer focused. Everything you do is to impress your customer and make the solution better than before. Not only the solution you offer, but in your communication as well. You are able to speak the language of the customer and have the right skills to know how we can create a positive impact.Leading. You are the expert. Others will see you as a professional. You can lead a team of professionals, but also know when to delegate tasks to the team. Motivating them at the right moment and having a sixth sense for situations and how to approach them. A great leader knows that results are made with a team.Building relationships. Building relationships is not only a commercial activity. Is this position its key to be successful. Because of your relation skills you are able to build your own team of professionals and to make sure that they are a right add to our culture and the customers. Because of your relations at our customers you are able to build out solutions and to build trust.Planning & Organising. To be successful in turbulent surroundings, you need to plan and organise your work as a pro. Inform others (like customers and colleagues) and make sure that everything is going as planned.What we offerWorking at Nextview means working in a playful, fast paced and diverse environment. We have our own Design Thinking Centers in Amsterdam and Eindhoven and will provide you with all necessary tools to work from any place you like. Not only has Nextview been named a Great Place to Work in 2017 and 2019 and 2020, but we are also a certified B Corp where we all work together as friends towards our bigger purpose: creating positive impact. We grab every opportunity to celebrate memorable moments, and at our own Nextview Academy you can follow several courses.Are you ready to take the next step in your career and be a part of a great team in a fast growing organisation? Apply below! Need to know more in detail? Contact Stef van den Oever via +31 6 20 09 08 63 or via e-mail: stef.van.den.oever@nextviewconsulting.comUnfortunately, this opportunity does not provide a visa sponsorship or a work permit for non-EU citizens. All applicants outside the Netherlands will not be taken into consideration.\\nSalesforce Marketing Cloud ConsultantGoalAs a Salesforce Marketing Cloud Consultant you will work with Nextview clients. The role is focused on Salesforce Marketing Cloud customer implementations, both technical as well as guiding our clients to get the most value from their Marketing Automation toolset. You will be advising customers, analyze client requirements, develop designs and implement Marketing Cloud solutions. In this role, youll be working in Nextviews Customer Practice.We are looking for resourceful individuals who will be able to lead a vision through analyzing business models and innovation with the ability to translate customer requirements into implementation plans. We are looking for excellent technical acumen, and the ability to convert plans into solutions that work in order to achieve customer success. We are looking for creative technical solutions and the ability to prioritise and manage customer relationships. You have great communication and presentation skills, are personable and very well able to work in a team. You will use your skills and expertise to work on various assignments together with your colleagues. You will be in contact with your clients and advise them based on your technical and functional experience. Building your work experience in projects and achieving certificates will have the opportunity to build your skills and grow further in your consultant role.Role responsibilitiesWe are looking for proactive consultants who:Understands the different marketing capabilities (paid owned earned media) and the role Salesforce Marketing Cloud can play in this area;Is able to translate customer requests into different marketing tactics that we can build for the customer;Has knowledge on AMP script, SQL, HTML and CSS;Has extensive knowledge on the possibilities of email marketing including reputation management and customer journey management;Has at least 2 years hands on experience with marketing Automation tooling such as Selligent IBM Adobe Marketing Cloud Marketo;Has proven implementation experience with Salesforce Marketing Cloud (email studio, journey builder, advertising studio, social studio) of at least two implementations;Has knowledge on best-practices such as A B testing, Salesforce data modelling in Marketing Cloud, et cetera;Is a data driven person that is eager to learn and onboard new marketing capabilities;Having experience with the Salesforce Lightning Platform (Sales Cloud & Service Cloud) and the connection between Marketing Cloud and said platform is a pre.CompetenciesCustomer Focus. You know how to work customer focused. Everything you do is to impress your customer and make the solution better than before. Not only the solution you offer, but in your communication as well. You are able to speak the language of the customer and have the right skills to know how we can create a positive impact.Leading. You are the expert. Others will see you as a professional. You can lead a team of professionals, but also know when to delegate tasks to the team. Motivating them at the right moment and having a sixth sense for situations and how to approach them. A great leader knows that results are made with a team.Building relationships. Building relationships is not only a commercial activity. Is this position its key to be successful. Because of your relation skills you are able to build your own team of professionals and to make sure that they are a right add to our culture and the customers. Because of your relations at our customers you are able to build out solutions and to build trust.Planning & Organising. To be successful in turbulent surroundings, you need to plan and organise your work as a pro. Inform others (like customers and colleagues) and make sure that everything is going as planned.What we offerWorking at Nextview means working in a playful, fast paced and diverse environment. We have our own Design Thinking Centers in Amsterdam and Eindhoven and will provide you with all necessary tools to work from any place you like. Not only has Nextview been named a Great Place to Work in 2017 and 2019 and 2020, but we are also a certified B Corp where we all work together as friends towards our bigger purpose: creating positive impact. We grab every opportunity to celebrate memorable moments, and at our own Nextview Academy you can follow several courses.Are you ready to take the next step in your career and be a part of a great team in a fast growing organisation? Apply below! Need to know more in detail? Contact Stef van den Oever via +31 6 20 09 08 63 or via e-mail: stef.van.den.oever@nextviewconsulting.comUnfortunately, this opportunity does not provide a visa sponsorship or a work permit for non-EU citizens. All applicants outside the Netherlands will not be taken into consideration.\\nSalesforce Marketing Cloud ConsultantGoalAs a Salesforce Marketing Cloud Consultant you will work with Nextview clients. The role is focused on Salesforce Marketing Cloud customer implementations, both technical as well as guiding our clients to get the most value from their Marketing Automation toolset. You will be advising customers, analyze client requirements, develop designs and implement Marketing Cloud solutions. In this role, youll be working in Nextviews Customer Practice.We are looking for resourceful individuals who will be able to lead a vision through analyzing business models and innovation with the ability to translate customer requirements into implementation plans. We are looking for excellent technical acumen, and the ability to convert plans into solutions that work in order to achieve customer success. We are looking for creative technical solutions and the ability to prioritise and manage customer relationships. You have great communication and presentation skills, are personable and very well able to work in a team. You will use your skills and expertise to work on various assignments together with your colleagues. You will be in contact with your clients and advise them based on your technical and functional experience. Building your work experience in projects and achieving certificates will have the opportunity to build your skills and grow further in your consultant role.Role responsibilitiesWe are looking for proactive consultants who:Understands the different marketing capabilities (paid owned earned media) and the role Salesforce Marketing Cloud can play in this area;Is able to translate customer requests into different marketing tactics that we can build for the customer;Has knowledge on AMP script, SQL, HTML and CSS;Has extensive knowledge on the possibilities of email marketing including reputation management and customer journey management;Has at least 2 years hands on experience with marketing Automation tooling such as Selligent IBM Adobe Marketing Cloud Marketo;Has proven implementation experience with Salesforce Marketing Cloud (email studio, journey builder, advertising studio, social studio) of at least two implementations;Has knowledge on best-practices such as A B testing, Salesforce data modelling in Marketing Cloud, et cetera;Is a data driven person that is eager to learn and onboard new marketing capabilities;Having experience with the Salesforce Lightning Platform (Sales Cloud & Service Cloud) and the connection between Marketing Cloud and said platform is a pre.CompetenciesCustomer Focus. You know how to work customer focused. Everything you do is to impress your customer and make the solution better than before. Not only the solution you offer, but in your communication as well. You are able to speak the language of the customer and have the right skills to know how we can create a positive impact.Leading. You are the expert. Others will see you as a professional. You can lead a team of professionals, but also know when to delegate tasks to the team. Motivating them at the right moment and having a sixth sense for situations and how to approach them. A great leader knows that results are made with a team.Building relationships. Building relationships is not only a commercial activity. Is this position its key to be successful. Because of your relation skills you are able to build your own team of professionals and to make sure that they are a right add to our culture and the customers. Because of your relations at our customers you are able to build out solutions and to build trust.Planning & Organising. To be successful in turbulent surroundings, you need to plan and organise your work as a pro. Inform others (like customers and colleagues) and make sure that everything is going as planned.What we offerWorking at Nextview means working in a playful, fast paced and diverse environment. We have our own Design Thinking Centers in Amsterdam and Eindhoven and will provide you with all necessary tools to work from any place you like. Not only has Nextview been named a Great Place to Work in 2017 and 2019 and 2020, but we are also a certified B Corp where we all work together as friends towards our bigger purpose: creating positive impact. We grab every opportunity to celebrate memorable moments, and at our own Nextview Academy you can follow several courses.Are you ready to take the next step in your career and be a part of a great team in a fast growing organisation? Apply below! Need to know more in detail? Contact Stef van den Oever via +31 6 20 09 08 63 or via e-mail: stef.van.den.oever@nextviewconsulting.comUnfortunately, this opportunity does not provide a visa sponsorship or a work permit for non-EU citizens. All applicants outside the Netherlands will not be taken into consideration.\\nSalesforce Marketing Cloud ConsultantGoalAs a Salesforce Marketing Cloud Consultant you will work with Nextview clients. The role is focused on Salesforce Marketing Cloud customer implementations, both technical as well as guiding our clients to get the most value from their Marketing Automation toolset. You will be advising customers, analyze client requirements, develop designs and implement Marketing Cloud solutions. In this role, youll be working in Nextviews Customer Practice.We are looking for resourceful individuals who will be able to lead a vision through analyzing business models and innovation with the ability to translate customer requirements into implementation plans. We are looking for excellent technical acumen, and the ability to convert plans into solutions that work in order to achieve customer success. We are looking for creative technical solutions and the ability to prioritise and manage customer relationships. You have great communication and presentation skills, are personable and very well able to work in a team. You will use your skills and expertise to work on various assignments together with your colleagues. You will be in contact with your clients and advise them based on your technical and functional experience. Building your work experience in projects and achieving certificates will have the opportunity to build your skills and grow further in your consultant role.Role responsibilitiesWe are looking for proactive consultants who:Understands the different marketing capabilities (paid owned earned media) and the role Salesforce Marketing Cloud can play in this area;Is able to translate customer requests into different marketing tactics that we can build for the customer;Has knowledge on AMP script, SQL, HTML and CSS;Has extensive knowledge on the possibilities of email marketing including reputation management and customer journey management;Has at least 2 years hands on experience with marketing Automation tooling such as Selligent IBM Adobe Marketing Cloud Marketo;Has proven implementation experience with Salesforce Marketing Cloud (email studio, journey builder, advertising studio, social studio) of at least two implementations;Has knowledge on best-practices such as A B testing, Salesforce data modelling in Marketing Cloud, et cetera;Is a data driven person that is eager to learn and onboard new marketing capabilities;Having experience with the Salesforce Lightning Platform (Sales Cloud & Service Cloud) and the connection between Marketing Cloud and said platform is a pre.CompetenciesCustomer Focus. You know how to work customer focused. Everything you do is to impress your customer and make the solution better than before. Not only the solution you offer, but in your communication as well. You are able to speak the language of the customer and have the right skills to know how we can create a positive impact.Leading. You are the expert. Others will see you as a professional. You can lead a team of professionals, but also know when to delegate tasks to the team. Motivating them at the right moment and having a sixth sense for situations and how to approach them. A great leader knows that results are made with a team.Building relationships. Building relationships is not only a commercial activity. Is this position its key to be successful. Because of your relation skills you are able to build your own team of professionals and to make sure that they are a right add to our culture and the customers. Because of your relations at our customers you are able to build out solutions and to build trust.Planning & Organising. To be successful in turbulent surroundings, you need to plan and organise your work as a pro. Inform others (like customers and colleagues) and make sure that everything is going as planned.What we offerWorking at Nextview means working in a playful, fast paced and diverse environment. We have our own Design Thinking Centers in Amsterdam and Eindhoven and will provide you with all necessary tools to work from any place you like. Not only has Nextview been named a Great Place to Work in 2017 and 2019 and 2020, but we are also a certified B Corp where we all work together as friends towards our bigger purpose: creating positive impact. We grab every opportunity to celebrate memorable moments, and at our own Nextview Academy you can follow several courses.Are you ready to take the next step in your career and be a part of a great team in a fast growing organisation? Apply below! Need to know more in detail? Contact Stef van den Oever via +31 6 20 09 08 63 or via e-mail: stef.van.den.oever@nextviewconsulting.comUnfortunately, this opportunity does not provide a visa sponsorship or a work permit for non-EU citizens. All applicants outside the Netherlands will not be taken into consideration.\\nSalesforce Marketing Cloud Consultant\\nSalesforce Marketing Cloud Consultant\\nSalesforce Marketing Cloud Consultant\\nSalesforce Marketing Cloud Consultant\\nSalesforce Marketing Cloud Consultant\\nSalesforce Marketing Cloud Consultant\\nSalesforce Marketing Cloud Consultant\\n\\n\\nGoalAs a Salesforce Marketing Cloud Consultant you will work with Nextview clients. The role is focused on Salesforce Marketing Cloud customer implementations, both technical as well as guiding our clients to get the most value from their Marketing Automation toolset. You will be advising customers, analyze client requirements, develop designs and implement Marketing Cloud solutions. In this role, youll be working in Nextviews Customer Practice.We are looking for resourceful individuals who will be able to lead a vision through analyzing business models and innovation with the ability to translate customer requirements into implementation plans. We are looking for excellent technical acumen, and the ability to convert plans into solutions that work in order to achieve customer success. We are looking for creative technical solutions and the ability to prioritise and manage customer relationships. You have great communication and presentation skills, are personable and very well able to work in a team. You will use your skills and expertise to work on various assignments together with your colleagues. You will be in contact with your clients and advise them based on your technical and functional experience. Building your work experience in projects and achieving certificates will have the opportunity to build your skills and grow further in your consultant role.\\nGoalAs a Salesforce Marketing Cloud Consultant you will work with Nextview clients. The role is focused on Salesforce Marketing Cloud customer implementations, both technical as well as guiding our clients to get the most value from their Marketing Automation toolset. You will be advising customers, analyze client requirements, develop designs and implement Marketing Cloud solutions. In this role, youll be working in Nextviews Customer Practice.We are looking for resourceful individuals who will be able to lead a vision through analyzing business models and innovation with the ability to translate customer requirements into implementation plans. We are looking for excellent technical acumen, and the ability to convert plans into solutions that work in order to achieve customer success. We are looking for creative technical solutions and the ability to prioritise and manage customer relationships. You have great communication and presentation skills, are personable and very well able to work in a team. You will use your skills and expertise to work on various assignments together with your colleagues. You will be in contact with your clients and advise them based on your technical and functional experience. Building your work experience in projects and achieving certificates will have the opportunity to build your skills and grow further in your consultant role.\\nGoalAs a Salesforce Marketing Cloud Consultant you will work with Nextview clients. The role is focused on Salesforce Marketing Cloud customer implementations, both technical as well as guiding our clients to get the most value from their Marketing Automation toolset. You will be advising customers, analyze client requirements, develop designs and implement Marketing Cloud solutions. In this role, youll be working in Nextviews Customer Practice.We are looking for resourceful individuals who will be able to lead a vision through analyzing business models and innovation with the ability to translate customer requirements into implementation plans. We are looking for excellent technical acumen, and the ability to convert plans into solutions that work in order to achieve customer success. We are looking for creative technical solutions and the ability to prioritise and manage customer relationships. You have great communication and presentation skills, are personable and very well able to work in a team. You will use your skills and expertise to work on various assignments together with your colleagues. You will be in contact with your clients and advise them based on your technical and functional experience. Building your work experience in projects and achieving certificates will have the opportunity to build your skills and grow further in your consultant role.\\nGoalAs a Salesforce Marketing Cloud Consultant you will work with Nextview clients. The role is focused on Salesforce Marketing Cloud customer implementations, both technical as well as guiding our clients to get the most value from their Marketing Automation toolset. You will be advising customers, analyze client requirements, develop designs and implement Marketing Cloud solutions. In this role, youll be working in Nextviews Customer Practice.We are looking for resourceful individuals who will be able to lead a vision through analyzing business models and innovation with the ability to translate customer requirements into implementation plans. We are looking for excellent technical acumen, and the ability to convert plans into solutions that work in order to achieve customer success. We are looking for creative technical solutions and the ability to prioritise and manage customer relationships. You have great communication and presentation skills, are personable and very well able to work in a team. You will use your skills and expertise to work on various assignments together with your colleagues. You will be in contact with your clients and advise them based on your technical and functional experience. Building your work experience in projects and achieving certificates will have the opportunity to build your skills and grow further in your consultant role.\\nGoalAs a Salesforce Marketing Cloud Consultant you will work with Nextview clients. The role is focused on Salesforce Marketing Cloud customer implementations, both technical as well as guiding our clients to get the most value from their Marketing Automation toolset. You will be advising customers, analyze client requirements, develop designs and implement Marketing Cloud solutions. In this role, youll be working in Nextviews Customer Practice.We are looking for resourceful individuals who will be able to lead a vision through analyzing business models and innovation with the ability to translate customer requirements into implementation plans. We are looking for excellent technical acumen, and the ability to convert plans into solutions that work in order to achieve customer success. We are looking for creative technical solutions and the ability to prioritise and manage customer relationships. You have great communication and presentation skills, are personable and very well able to work in a team. You will use your skills and expertise to work on various assignments together with your colleagues. You will be in contact with your clients and advise them based on your technical and functional experience. Building your work experience in projects and achieving certificates will have the opportunity to build your skills and grow further in your consultant role.\\nAs a Salesforce Marketing Cloud Consultant you will work with Nextview clients. The role is focused on Salesforce Marketing Cloud customer implementations, both technical as well as guiding our clients to get the most value from their Marketing Automation toolset. You will be advising customers, analyze client requirements, develop designs and implement Marketing Cloud solutions. In this role, youll be working in Nextviews Customer Practice.We are looking for resourceful individuals who will be able to lead a vision through analyzing business models and innovation with the ability to translate customer requirements into implementation plans. We are looking for excellent technical acumen, and the ability to convert plans into solutions that work in order to achieve customer success. We are looking for creative technical solutions and the ability to prioritise and manage customer relationships. You have great communication and presentation skills, are personable and very well able to work in a team. You will use your skills and expertise to work on various assignments together with your colleagues. You will be in contact with your clients and advise them based on your technical and functional experience. Building your work experience in projects and achieving certificates will have the opportunity to build your skills and grow further in your consultant role.\\nAs a Salesforce Marketing Cloud Consultant you will work with Nextview clients. The role is focused on Salesforce Marketing Cloud customer implementations, both technical as well as guiding our clients to get the most value from their Marketing Automation toolset. You will be advising customers, analyze client requirements, develop designs and implement Marketing Cloud solutions. In this role, youll be working in Nextviews Customer Practice.We are looking for resourceful individuals who will be able to lead a vision through analyzing business models and innovation with the ability to translate customer requirements into implementation plans. We are looking for excellent technical acumen, and the ability to convert plans into solutions that work in order to achieve customer success. We are looking for creative technical solutions and the ability to prioritise and manage customer relationships. You have great communication and presentation skills, are personable and very well able to work in a team. You will use your skills and expertise to work on various assignments together with your colleagues. You will be in contact with your clients and advise them based on your technical and functional experience. Building your work experience in projects and achieving certificates will have the opportunity to build your skills and grow further in your consultant role.\\nWe are looking for resourceful individuals who will be able to lead a vision through analyzing business models and innovation with the ability to translate customer requirements into implementation plans. We are looking for excellent technical acumen, and the ability to convert plans into solutions that work in order to achieve customer success. We are looking for creative technical solutions and the ability to prioritise and manage customer relationships. You have great communication and presentation skills, are personable and very well able to work in a team. You will use your skills and expertise to work on various assignments together with your colleagues. You will be in contact with your clients and advise them based on your technical and functional experience. Building your work experience in projects and achieving certificates will have the opportunity to build your skills and grow further in your consultant role.\\n\\nRole responsibilitiesWe are looking for proactive consultants who:Understands the different marketing capabilities (paid owned earned media) and the role Salesforce Marketing Cloud can play in this area;Is able to translate customer requests into different marketing tactics that we can build for the customer;Has knowledge on AMP script, SQL, HTML and CSS;Has extensive knowledge on the possibilities of email marketing including reputation management and customer journey management;Has at least 2 years hands on experience with marketing Automation tooling such as Selligent IBM Adobe Marketing Cloud Marketo;Has proven implementation experience with Salesforce Marketing Cloud (email studio, journey builder, advertising studio, social studio) of at least two implementations;Has knowledge on best-practices such as A B testing, Salesforce data modelling in Marketing Cloud, et cetera;Is a data driven person that is eager to learn and onboard new marketing capabilities;Having experience with the Salesforce Lightning Platform (Sales Cloud & Service Cloud) and the connection between Marketing Cloud and said platform is a pre.\\nRole responsibilitiesWe are looking for proactive consultants who:Understands the different marketing capabilities (paid owned earned media) and the role Salesforce Marketing Cloud can play in this area;Is able to translate customer requests into different marketing tactics that we can build for the customer;Has knowledge on AMP script, SQL, HTML and CSS;Has extensive knowledge on the possibilities of email marketing including reputation management and customer journey management;Has at least 2 years hands on experience with marketing Automation tooling such as Selligent IBM Adobe Marketing Cloud Marketo;Has proven implementation experience with Salesforce Marketing Cloud (email studio, journey builder, advertising studio, social studio) of at least two implementations;Has knowledge on best-practices such as A B testing, Salesforce data modelling in Marketing Cloud, et cetera;Is a data driven person that is eager to learn and onboard new marketing capabilities;Having experience with the Salesforce Lightning Platform (Sales Cloud & Service Cloud) and the connection between Marketing Cloud and said platform is a pre.\\nRole responsibilitiesWe are looking for proactive consultants who:Understands the different marketing capabilities (paid owned earned media) and the role Salesforce Marketing Cloud can play in this area;Is able to translate customer requests into different marketing tactics that we can build for the customer;Has knowledge on AMP script, SQL, HTML and CSS;Has extensive knowledge on the possibilities of email marketing including reputation management and customer journey management;Has at least 2 years hands on experience with marketing Automation tooling such as Selligent IBM Adobe Marketing Cloud Marketo;Has proven implementation experience with Salesforce Marketing Cloud (email studio, journey builder, advertising studio, social studio) of at least two implementations;Has knowledge on best-practices such as A B testing, Salesforce data modelling in Marketing Cloud, et cetera;Is a data driven person that is eager to learn and onboard new marketing capabilities;Having experience with the Salesforce Lightning Platform (Sales Cloud & Service Cloud) and the connection between Marketing Cloud and said platform is a pre.\\nRole responsibilitiesWe are looking for proactive consultants who:Understands the different marketing capabilities (paid owned earned media) and the role Salesforce Marketing Cloud can play in this area;Is able to translate customer requests into different marketing tactics that we can build for the customer;Has knowledge on AMP script, SQL, HTML and CSS;Has extensive knowledge on the possibilities of email marketing including reputation management and customer journey management;Has at least 2 years hands on experience with marketing Automation tooling such as Selligent IBM Adobe Marketing Cloud Marketo;Has proven implementation experience with Salesforce Marketing Cloud (email studio, journey builder, advertising studio, social studio) of at least two implementations;Has knowledge on best-practices such as A B testing, Salesforce data modelling in Marketing Cloud, et cetera;Is a data driven person that is eager to learn and onboard new marketing capabilities;Having experience with the Salesforce Lightning Platform (Sales Cloud & Service Cloud) and the connection between Marketing Cloud and said platform is a pre.\\nRole responsibilitiesWe are looking for proactive consultants who:Understands the different marketing capabilities (paid owned earned media) and the role Salesforce Marketing Cloud can play in this area;Is able to translate customer requests into different marketing tactics that we can build for the customer;Has knowledge on AMP script, SQL, HTML and CSS;Has extensive knowledge on the possibilities of email marketing including reputation management and customer journey management;Has at least 2 years hands on experience with marketing Automation tooling such as Selligent IBM Adobe Marketing Cloud Marketo;Has proven implementation experience with Salesforce Marketing Cloud (email studio, journey builder, advertising studio, social studio) of at least two implementations;Has knowledge on best-practices such as A B testing, Salesforce data modelling in Marketing Cloud, et cetera;Is a data driven person that is eager to learn and onboard new marketing capabilities;Having experience with the Salesforce Lightning Platform (Sales Cloud & Service Cloud) and the connection between Marketing Cloud and said platform is a pre.\\nRole responsibilitiesWe are looking for proactive consultants who:Understands the different marketing capabilities (paid owned earned media) and the role Salesforce Marketing Cloud can play in this area;Is able to translate customer requests into different marketing tactics that we can build for the customer;Has knowledge on AMP script, SQL, HTML and CSS;Has extensive knowledge on the possibilities of email marketing including reputation management and customer journey management;Has at least 2 years hands on experience with marketing Automation tooling such as Selligent IBM Adobe Marketing Cloud Marketo;Has proven implementation experience with Salesforce Marketing Cloud (email studio, journey builder, advertising studio, social studio) of at least two implementations;Has knowledge on best-practices such as A B testing, Salesforce data modelling in Marketing Cloud, et cetera;Is a data driven person that is eager to learn and onboard new marketing capabilities;Having experience with the Salesforce Lightning Platform (Sales Cloud & Service Cloud) and the connection between Marketing Cloud and said platform is a pre.\\nRole responsibilitiesWe are looking for proactive consultants who:Understands the different marketing capabilities (paid owned earned media) and the role Salesforce Marketing Cloud can play in this area;Is able to translate customer requests into different marketing tactics that we can build for the customer;Has knowledge on AMP script, SQL, HTML and CSS;Has extensive knowledge on the possibilities of email marketing including reputation management and customer journey management;Has at least 2 years hands on experience with marketing Automation tooling such as Selligent IBM Adobe Marketing Cloud Marketo;Has proven implementation experience with Salesforce Marketing Cloud (email studio, journey builder, advertising studio, social studio) of at least two implementations;Has knowledge on best-practices such as A B testing, Salesforce data modelling in Marketing Cloud, et cetera;Is a data driven person that is eager to learn and onboard new marketing capabilities;Having experience with the Salesforce Lightning Platform (Sales Cloud & Service Cloud) and the connection between Marketing Cloud and said platform is a pre.\\nRole responsibilitiesWe are looking for proactive consultants who:Understands the different marketing capabilities (paid owned earned media) and the role Salesforce Marketing Cloud can play in this area;Is able to translate customer requests into different marketing tactics that we can build for the customer;Has knowledge on AMP script, SQL, HTML and CSS;Has extensive knowledge on the possibilities of email marketing including reputation management and customer journey management;Has at least 2 years hands on experience with marketing Automation tooling such as Selligent IBM Adobe Marketing Cloud Marketo;Has proven implementation experience with Salesforce Marketing Cloud (email studio, journey builder, advertising studio, social studio) of at least two implementations;Has knowledge on best-practices such as A B testing, Salesforce data modelling in Marketing Cloud, et cetera;Is a data driven person that is eager to learn and onboard new marketing capabilities;Having experience with the Salesforce Lightning Platform (Sales Cloud & Service Cloud) and the connection between Marketing Cloud and said platform is a pre.\\nRole responsibilitiesWe are looking for proactive consultants who:Understands the different marketing capabilities (paid owned earned media) and the role Salesforce Marketing Cloud can play in this area;Is able to translate customer requests into different marketing tactics that we can build for the customer;Has knowledge on AMP script, SQL, HTML and CSS;Has extensive knowledge on the possibilities of email marketing including reputation management and customer journey management;Has at least 2 years hands on experience with marketing Automation tooling such as Selligent IBM Adobe Marketing Cloud Marketo;Has proven implementation experience with Salesforce Marketing Cloud (email studio, journey builder, advertising studio, social studio) of at least two implementations;Has knowledge on best-practices such as A B testing, Salesforce data modelling in Marketing Cloud, et cetera;Is a data driven person that is eager to learn and onboard new marketing capabilities;Having experience with the Salesforce Lightning Platform (Sales Cloud & Service Cloud) and the connection between Marketing Cloud and said platform is a pre.\\nRole responsibilitiesWe are looking for proactive consultants who:Understands the different marketing capabilities (paid owned earned media) and the role Salesforce Marketing Cloud can play in this area;Is able to translate customer requests into different marketing tactics that we can build for the customer;Has knowledge on AMP script, SQL, HTML and CSS;Has extensive knowledge on the possibilities of email marketing including reputation management and customer journey management;Has at least 2 years hands on experience with marketing Automation tooling such as Selligent IBM Adobe Marketing Cloud Marketo;Has proven implementation experience with Salesforce Marketing Cloud (email studio, journey builder, advertising studio, social studio) of at least two implementations;Has knowledge on best-practices such as A B testing, Salesforce data modelling in Marketing Cloud, et cetera;Is a data driven person that is eager to learn and onboard new marketing capabilities;Having experience with the Salesforce Lightning Platform (Sales Cloud & Service Cloud) and the connection between Marketing Cloud and said platform is a pre.\\nWe are looking for proactive consultants who:Understands the different marketing capabilities (paid owned earned media) and the role Salesforce Marketing Cloud can play in this area;Is able to translate customer requests into different marketing tactics that we can build for the customer;Has knowledge on AMP script, SQL, HTML and CSS;Has extensive knowledge on the possibilities of email marketing including reputation management and customer journey management;Has at least 2 years hands on experience with marketing Automation tooling such as Selligent IBM Adobe Marketing Cloud Marketo;Has proven implementation experience with Salesforce Marketing Cloud (email studio, journey builder, advertising studio, social studio) of at least two implementations;Has knowledge on best-practices such as A B testing, Salesforce data modelling in Marketing Cloud, et cetera;Is a data driven person that is eager to learn and onboard new marketing capabilities;Having experience with the Salesforce Lightning Platform (Sales Cloud & Service Cloud) and the connection between Marketing Cloud and said platform is a pre.\\nWe are looking for proactive consultants who:Understands the different marketing capabilities (paid owned earned media) and the role Salesforce Marketing Cloud can play in this area;Is able to translate customer requests into different marketing tactics that we can build for the customer;Has knowledge on AMP script, SQL, HTML and CSS;Has extensive knowledge on the possibilities of email marketing including reputation management and customer journey management;Has at least 2 years hands on experience with marketing Automation tooling such as Selligent IBM Adobe Marketing Cloud Marketo;Has proven implementation experience with Salesforce Marketing Cloud (email studio, journey builder, advertising studio, social studio) of at least two implementations;Has knowledge on best-practices such as A B testing, Salesforce data modelling in Marketing Cloud, et cetera;Is a data driven person that is eager to learn and onboard new marketing capabilities;Having experience with the Salesforce Lightning Platform (Sales Cloud & Service Cloud) and the connection between Marketing Cloud and said platform is a pre.\\n\\nCompetenciesCustomer Focus. You know how to work customer focused. Everything you do is to impress your customer and make the solution better than before. Not only the solution you offer, but in your communication as well. You are able to speak the language of the customer and have the right skills to know how we can create a positive impact.Leading. You are the expert. Others will see you as a professional. You can lead a team of professionals, but also know when to delegate tasks to the team. Motivating them at the right moment and having a sixth sense for situations and how to approach them. A great leader knows that results are made with a team.Building relationships. Building relationships is not only a commercial activity. Is this position its key to be successful. Because of your relation skills you are able to build your own team of professionals and to make sure that they are a right add to our culture and the customers. Because of your relations at our customers you are able to build out solutions and to build trust.Planning & Organising. To be successful in turbulent surroundings, you need to plan and organise your work as a pro. Inform others (like customers and colleagues) and make sure that everything is going as planned.\\nCompetenciesCustomer Focus. You know how to work customer focused. Everything you do is to impress your customer and make the solution better than before. Not only the solution you offer, but in your communication as well. You are able to speak the language of the customer and have the right skills to know how we can create a positive impact.Leading. You are the expert. Others will see you as a professional. You can lead a team of professionals, but also know when to delegate tasks to the team. Motivating them at the right moment and having a sixth sense for situations and how to approach them. A great leader knows that results are made with a team.Building relationships. Building relationships is not only a commercial activity. Is this position its key to be successful. Because of your relation skills you are able to build your own team of professionals and to make sure that they are a right add to our culture and the customers. Because of your relations at our customers you are able to build out solutions and to build trust.Planning & Organising. To be successful in turbulent surroundings, you need to plan and organise your work as a pro. Inform others (like customers and colleagues) and make sure that everything is going as planned.\\nCompetenciesCustomer Focus. You know how to work customer focused. Everything you do is to impress your customer and make the solution better than before. Not only the solution you offer, but in your communication as well. You are able to speak the language of the customer and have the right skills to know how we can create a positive impact.Leading. You are the expert. Others will see you as a professional. You can lead a team of professionals, but also know when to delegate tasks to the team. Motivating them at the right moment and having a sixth sense for situations and how to approach them. A great leader knows that results are made with a team.Building relationships. Building relationships is not only a commercial activity. Is this position its key to be successful. Because of your relation skills you are able to build your own team of professionals and to make sure that they are a right add to our culture and the customers. Because of your relations at our customers you are able to build out solutions and to build trust.Planning & Organising. To be successful in turbulent surroundings, you need to plan and organise your work as a pro. Inform others (like customers and colleagues) and make sure that everything is going as planned.\\nCompetenciesCustomer Focus. You know how to work customer focused. Everything you do is to impress your customer and make the solution better than before. Not only the solution you offer, but in your communication as well. You are able to speak the language of the customer and have the right skills to know how we can create a positive impact.Leading. You are the expert. Others will see you as a professional. You can lead a team of professionals, but also know when to delegate tasks to the team. Motivating them at the right moment and having a sixth sense for situations and how to approach them. A great leader knows that results are made with a team.Building relationships. Building relationships is not only a commercial activity. Is this position its key to be successful. Because of your relation skills you are able to build your own team of professionals and to make sure that they are a right add to our culture and the customers. Because of your relations at our customers you are able to build out solutions and to build trust.Planning & Organising. To be successful in turbulent surroundings, you need to plan and organise your work as a pro. Inform others (like customers and colleagues) and make sure that everything is going as planned.\\nCompetenciesCustomer Focus. You know how to work customer focused. Everything you do is to impress your customer and make the solution better than before. Not only the solution you offer, but in your communication as well. You are able to speak the language of the customer and have the right skills to know how we can create a positive impact.Leading. You are the expert. Others will see you as a professional. You can lead a team of professionals, but also know when to delegate tasks to the team. Motivating them at the right moment and having a sixth sense for situations and how to approach them. A great leader knows that results are made with a team.Building relationships. Building relationships is not only a commercial activity. Is this position its key to be successful. Because of your relation skills you are able to build your own team of professionals and to make sure that they are a right add to our culture and the customers. Because of your relations at our customers you are able to build out solutions and to build trust.Planning & Organising. To be successful in turbulent surroundings, you need to plan and organise your work as a pro. Inform others (like customers and colleagues) and make sure that everything is going as planned.\\nCompetenciesCustomer Focus. You know how to work customer focused. Everything you do is to impress your customer and make the solution better than before. Not only the solution you offer, but in your communication as well. You are able to speak the language of the customer and have the right skills to know how we can create a positive impact.Leading. You are the expert. Others will see you as a professional. You can lead a team of professionals, but also know when to delegate tasks to the team. Motivating them at the right moment and having a sixth sense for situations and how to approach them. A great leader knows that results are made with a team.Building relationships. Building relationships is not only a commercial activity. Is this position its key to be successful. Because of your relation skills you are able to build your own team of professionals and to make sure that they are a right add to our culture and the customers. Because of your relations at our customers you are able to build out solutions and to build trust.Planning & Organising. To be successful in turbulent surroundings, you need to plan and organise your work as a pro. Inform others (like customers and colleagues) and make sure that everything is going as planned.\\nCompetenciesCustomer Focus. You know how to work customer focused. Everything you do is to impress your customer and make the solution better than before. Not only the solution you offer, but in your communication as well. You are able to speak the language of the customer and have the right skills to know how we can create a positive impact.Leading. You are the expert. Others will see you as a professional. You can lead a team of professionals, but also know when to delegate tasks to the team. Motivating them at the right moment and having a sixth sense for situations and how to approach them. A great leader knows that results are made with a team.Building relationships. Building relationships is not only a commercial activity. Is this position its key to be successful. Because of your relation skills you are able to build your own team of professionals and to make sure that they are a right add to our culture and the customers. Because of your relations at our customers you are able to build out solutions and to build trust.Planning & Organising. To be successful in turbulent surroundings, you need to plan and organise your work as a pro. Inform others (like customers and colleagues) and make sure that everything is going as planned.\\nCompetenciesCustomer Focus. You know how to work customer focused. Everything you do is to impress your customer and make the solution better than before. Not only the solution you offer, but in your communication as well. You are able to speak the language of the customer and have the right skills to know how we can create a positive impact.Leading. You are the expert. Others will see you as a professional. You can lead a team of professionals, but also know when to delegate tasks to the team. Motivating them at the right moment and having a sixth sense for situations and how to approach them. A great leader knows that results are made with a team.Building relationships. Building relationships is not only a commercial activity. Is this position its key to be successful. Because of your relation skills you are able to build your own team of professionals and to make sure that they are a right add to our culture and the customers. Because of your relations at our customers you are able to build out solutions and to build trust.Planning & Organising. To be successful in turbulent surroundings, you need to plan and organise your work as a pro. Inform others (like customers and colleagues) and make sure that everything is going as planned.\\nCompetenciesCustomer Focus. You know how to work customer focused. Everything you do is to impress your customer and make the solution better than before. Not only the solution you offer, but in your communication as well. You are able to speak the language of the customer and have the right skills to know how we can create a positive impact.Leading. You are the expert. Others will see you as a professional. You can lead a team of professionals, but also know when to delegate tasks to the team. Motivating them at the right moment and having a sixth sense for situations and how to approach them. A great leader knows that results are made with a team.Building relationships. Building relationships is not only a commercial activity. Is this position its key to be successful. Because of your relation skills you are able to build your own team of professionals and to make sure that they are a right add to our culture and the customers. Because of your relations at our customers you are able to build out solutions and to build trust.Planning & Organising. To be successful in turbulent surroundings, you need to plan and organise your work as a pro. Inform others (like customers and colleagues) and make sure that everything is going as planned.\\nCompetenciesCustomer Focus. You know how to work customer focused. Everything you do is to impress your customer and make the solution better than before. Not only the solution you offer, but in your communication as well. You are able to speak the language of the customer and have the right skills to know how we can create a positive impact.Leading. You are the expert. Others will see you as a professional. You can lead a team of professionals, but also know when to delegate tasks to the team. Motivating them at the right moment and having a sixth sense for situations and how to approach them. A great leader knows that results are made with a team.Building relationships. Building relationships is not only a commercial activity. Is this position its key to be successful. Because of your relation skills you are able to build your own team of professionals and to make sure that they are a right add to our culture and the customers. Because of your relations at our customers you are able to build out solutions and to build trust.Planning & Organising. To be successful in turbulent surroundings, you need to plan and organise your work as a pro. Inform others (like customers and colleagues) and make sure that everything is going as planned.\\nCustomer Focus. You know how to work customer focused. Everything you do is to impress your customer and make the solution better than before. Not only the solution you offer, but in your communication as well. You are able to speak the language of the customer and have the right skills to know how we can create a positive impact.Leading. You are the expert. Others will see you as a professional. You can lead a team of professionals, but also know when to delegate tasks to the team. Motivating them at the right moment and having a sixth sense for situations and how to approach them. A great leader knows that results are made with a team.Building relationships. Building relationships is not only a commercial activity. Is this position its key to be successful. Because of your relation skills you are able to build your own team of professionals and to make sure that they are a right add to our culture and the customers. Because of your relations at our customers you are able to build out solutions and to build trust.Planning & Organising. To be successful in turbulent surroundings, you need to plan and organise your work as a pro. Inform others (like customers and colleagues) and make sure that everything is going as planned.\\nCustomer Focus. You know how to work customer focused. Everything you do is to impress your customer and make the solution better than before. Not only the solution you offer, but in your communication as well. You are able to speak the language of the customer and have the right skills to know how we can create a positive impact.Leading. You are the expert. Others will see you as a professional. You can lead a team of professionals, but also know when to delegate tasks to the team. Motivating them at the right moment and having a sixth sense for situations and how to approach them. A great leader knows that results are made with a team.Building relationships. Building relationships is not only a commercial activity. Is this position its key to be successful. Because of your relation skills you are able to build your own team of professionals and to make sure that they are a right add to our culture and the customers. Because of your relations at our customers you are able to build out solutions and to build trust.Planning & Organising. To be successful in turbulent surroundings, you need to plan and organise your work as a pro. Inform others (like customers and colleagues) and make sure that everything is going as planned.\\n\\nWhat we offerWorking at Nextview means working in a playful, fast paced and diverse environment. We have our own Design Thinking Centers in Amsterdam and Eindhoven and will provide you with all necessary tools to work from any place you like. Not only has Nextview been named a Great Place to Work in 2017 and 2019 and 2020, but we are also a certified B Corp where we all work together as friends towards our bigger purpose: creating positive impact. We grab every opportunity to celebrate memorable moments, and at our own Nextview Academy you can follow several courses.Are you ready to take the next step in your career and be a part of a great team in a fast growing organisation? Apply below! Need to know more in detail? Contact Stef van den Oever via +31 6 20 09 08 63 or via e-mail: stef.van.den.oever@nextviewconsulting.comUnfortunately, this opportunity does not provide a visa sponsorship or a work permit for non-EU citizens. All applicants outside the Netherlands will not be taken into consideration.\\nWhat we offerWorking at Nextview means working in a playful, fast paced and diverse environment. We have our own Design Thinking Centers in Amsterdam and Eindhoven and will provide you with all necessary tools to work from any place you like. Not only has Nextview been named a Great Place to Work in 2017 and 2019 and 2020, but we are also a certified B Corp where we all work together as friends towards our bigger purpose: creating positive impact. We grab every opportunity to celebrate memorable moments, and at our own Nextview Academy you can follow several courses.Are you ready to take the next step in your career and be a part of a great team in a fast growing organisation? Apply below! Need to know more in detail? Contact Stef van den Oever via +31 6 20 09 08 63 or via e-mail: stef.van.den.oever@nextviewconsulting.comUnfortunately, this opportunity does not provide a visa sponsorship or a work permit for non-EU citizens. All applicants outside the Netherlands will not be taken into consideration.\\nWhat we offerWorking at Nextview means working in a playful, fast paced and diverse environment. We have our own Design Thinking Centers in Amsterdam and Eindhoven and will provide you with all necessary tools to work from any place you like. Not only has Nextview been named a Great Place to Work in 2017 and 2019 and 2020, but we are also a certified B Corp where we all work together as friends towards our bigger purpose: creating positive impact. We grab every opportunity to celebrate memorable moments, and at our own Nextview Academy you can follow several courses.Are you ready to take the next step in your career and be a part of a great team in a fast growing organisation? Apply below! Need to know more in detail? Contact Stef van den Oever via +31 6 20 09 08 63 or via e-mail: stef.van.den.oever@nextviewconsulting.comUnfortunately, this opportunity does not provide a visa sponsorship or a work permit for non-EU citizens. All applicants outside the Netherlands will not be taken into consideration.\\nWhat we offerWorking at Nextview means working in a playful, fast paced and diverse environment. We have our own Design Thinking Centers in Amsterdam and Eindhoven and will provide you with all necessary tools to work from any place you like. Not only has Nextview been named a Great Place to Work in 2017 and 2019 and 2020, but we are also a certified B Corp where we all work together as friends towards our bigger purpose: creating positive impact. We grab every opportunity to celebrate memorable moments, and at our own Nextview Academy you can follow several courses.Are you ready to take the next step in your career and be a part of a great team in a fast growing organisation? Apply below! Need to know more in detail? Contact Stef van den Oever via +31 6 20 09 08 63 or via e-mail: stef.van.den.oever@nextviewconsulting.comUnfortunately, this opportunity does not provide a visa sponsorship or a work permit for non-EU citizens. All applicants outside the Netherlands will not be taken into consideration.\\nWhat we offerWorking at Nextview means working in a playful, fast paced and diverse environment. We have our own Design Thinking Centers in Amsterdam and Eindhoven and will provide you with all necessary tools to work from any place you like. Not only has Nextview been named a Great Place to Work in 2017 and 2019 and 2020, but we are also a certified B Corp where we all work together as friends towards our bigger purpose: creating positive impact. We grab every opportunity to celebrate memorable moments, and at our own Nextview Academy you can follow several courses.Are you ready to take the next step in your career and be a part of a great team in a fast growing organisation? Apply below! Need to know more in detail? Contact Stef van den Oever via +31 6 20 09 08 63 or via e-mail: stef.van.den.oever@nextviewconsulting.comUnfortunately, this opportunity does not provide a visa sponsorship or a work permit for non-EU citizens. All applicants outside the Netherlands will not be taken into consideration.\\nWorking at Nextview means working in a playful, fast paced and diverse environment. We have our own Design Thinking Centers in Amsterdam and Eindhoven and will provide you with all necessary tools to work from any place you like. Not only has Nextview been named a Great Place to Work in 2017 and 2019 and 2020, but we are also a certified B Corp where we all work together as friends towards our bigger purpose: creating positive impact. We grab every opportunity to celebrate memorable moments, and at our own Nextview Academy you can follow several courses.Are you ready to take the next step in your career and be a part of a great team in a fast growing organisation? Apply below! Need to know more in detail? Contact Stef van den Oever via +31 6 20 09 08 63 or via e-mail: stef.van.den.oever@nextviewconsulting.comUnfortunately, this opportunity does not provide a visa sponsorship or a work permit for non-EU citizens. All applicants outside the Netherlands will not be taken into consideration.\\nWorking at Nextview means working in a playful, fast paced and diverse environment. We have our own Design Thinking Centers in Amsterdam and Eindhoven and will provide you with all necessary tools to work from any place you like. Not only has Nextview been named a Great Place to Work in 2017 and 2019 and 2020, but we are also a certified B Corp where we all work together as friends towards our bigger purpose: creating positive impact. We grab every opportunity to celebrate memorable moments, and at our own Nextview Academy you can follow several courses.Are you ready to take the next step in your career and be a part of a great team in a fast growing organisation? Apply below! Need to know more in detail? Contact Stef van den Oever via +31 6 20 09 08 63 or via e-mail: stef.van.den.oever@nextviewconsulting.comUnfortunately, this opportunity does not provide a visa sponsorship or a work permit for non-EU citizens. All applicants outside the Netherlands will not be taken into consideration.\\nUnfortunately, this opportunity does not provide a visa sponsorship or a work permit for non-EU citizens. All applicants outside the Netherlands will not be taken into consideration.'"
      ]
     },
     "execution_count": 77,
     "metadata": {},
     "output_type": "execute_result"
    }
   ],
   "source": [
    "# Get the sentence with the max words\n",
    "df_jobs['Job Description'].loc[df_jobs['Job Description_num_words'].idxmax()]\n"
   ]
  },
  {
   "cell_type": "code",
   "execution_count": 78,
   "id": "a0d4da5c",
   "metadata": {},
   "outputs": [
    {
     "data": {
      "text/plain": [
       "4"
      ]
     },
     "execution_count": 78,
     "metadata": {},
     "output_type": "execute_result"
    }
   ],
   "source": [
    "# Get the longest sentence words = 3\n",
    "df_jobs['Job Description_num_words'].min()\n"
   ]
  },
  {
   "cell_type": "code",
   "execution_count": 79,
   "id": "fb1e7d8a",
   "metadata": {},
   "outputs": [
    {
     "data": {
      "text/plain": [
       "'Req Id 58097Posted 10192020SalesNetherlandsHoofddorp'"
      ]
     },
     "execution_count": 79,
     "metadata": {},
     "output_type": "execute_result"
    }
   ],
   "source": [
    "# Get the sentence with the min words\n",
    "df_jobs['Job Description'].loc[df_jobs['Job Description_num_words'].idxmin()]\n"
   ]
  },
  {
   "cell_type": "markdown",
   "id": "b4069eb3",
   "metadata": {},
   "source": [
    "### Make lower"
   ]
  },
  {
   "cell_type": "code",
   "execution_count": 80,
   "id": "bc21643d",
   "metadata": {},
   "outputs": [
    {
     "data": {
      "application/vnd.jupyter.widget-view+json": {
       "model_id": "5852d31eb5ce40b38a16d4e1503f595c",
       "version_major": 2,
       "version_minor": 0
      },
      "text/plain": [
       "progress-bar:   0%|          | 0/307318 [00:00<?, ?it/s]"
      ]
     },
     "metadata": {},
     "output_type": "display_data"
    }
   ],
   "source": [
    "df_jobs['Job Description spacy_sentencized_lower'] = df_jobs['Job Description spacy_sentencized'].progress_apply(\n",
    "    lambda job_sentence: job_sentence.strip().lower()\n",
    ")\n"
   ]
  },
  {
   "cell_type": "code",
   "execution_count": 81,
   "id": "1b8dac3e",
   "metadata": {},
   "outputs": [
    {
     "data": {
      "text/html": [
       "<div>\n",
       "<style scoped>\n",
       "    .dataframe tbody tr th:only-of-type {\n",
       "        vertical-align: middle;\n",
       "    }\n",
       "\n",
       "    .dataframe tbody tr th {\n",
       "        vertical-align: top;\n",
       "    }\n",
       "\n",
       "    .dataframe thead th {\n",
       "        text-align: right;\n",
       "    }\n",
       "</style>\n",
       "<table border=\"1\" class=\"dataframe\">\n",
       "  <thead>\n",
       "    <tr style=\"text-align: center;\">\n",
       "      <th></th>\n",
       "      <th>Job Description spacy_sentencized</th>\n",
       "      <th>Job Description spacy_sentencized_lower</th>\n",
       "    </tr>\n",
       "  </thead>\n",
       "  <tbody>\n",
       "    <tr>\n",
       "      <th>0</th>\n",
       "      <td>About Our Client</td>\n",
       "      <td>about our client</td>\n",
       "    </tr>\n",
       "    <tr>\n",
       "      <th>1</th>\n",
       "      <td>The Global KYC organisation is part of ING's C...</td>\n",
       "      <td>the global kyc organisation is part of ing's c...</td>\n",
       "    </tr>\n",
       "    <tr>\n",
       "      <th>2</th>\n",
       "      <td>Its purpose is Enabling people and organisatio...</td>\n",
       "      <td>its purpose is enabling people and organisatio...</td>\n",
       "    </tr>\n",
       "    <tr>\n",
       "      <th>3</th>\n",
       "      <td>Our Global KYC organisation is a first line of...</td>\n",
       "      <td>our global kyc organisation is a first line of...</td>\n",
       "    </tr>\n",
       "    <tr>\n",
       "      <th>4</th>\n",
       "      <td>In our Global KYC organisation you will be wor...</td>\n",
       "      <td>in our global kyc organisation you will be wor...</td>\n",
       "    </tr>\n",
       "  </tbody>\n",
       "</table>\n",
       "</div>"
      ],
      "text/plain": [
       "          Job Description spacy_sentencized               Job Description spacy_sentencized_lower      \n",
       "0                                   About Our Client                                   about our client\n",
       "1  The Global KYC organisation is part of ING's C...  the global kyc organisation is part of ing's c...\n",
       "2  Its purpose is Enabling people and organisatio...  its purpose is enabling people and organisatio...\n",
       "3  Our Global KYC organisation is a first line of...  our global kyc organisation is a first line of...\n",
       "4  In our Global KYC organisation you will be wor...  in our global kyc organisation you will be wor..."
      ]
     },
     "execution_count": 81,
     "metadata": {},
     "output_type": "execute_result"
    }
   ],
   "source": [
    "df_jobs[['Job Description spacy_sentencized', 'Job Description spacy_sentencized_lower']].head()\n"
   ]
  },
  {
   "cell_type": "markdown",
   "id": "57724522",
   "metadata": {},
   "source": [
    "### Make lang requirements"
   ]
  },
  {
   "cell_type": "code",
   "execution_count": 82,
   "id": "7133bfd6",
   "metadata": {},
   "outputs": [
    {
     "name": "stderr",
     "output_type": "stream",
     "text": [
      "100%|██████████| 2/2 [02:39<00:00, 79.94s/it]\n"
     ]
    },
    {
     "name": "stdout",
     "output_type": "stream",
     "text": [
      "CPU times: user 2min 26s, sys: 1.23 s, total: 2min 27s\n",
      "Wall time: 2min 39s\n"
     ]
    }
   ],
   "source": [
    "%%time\n",
    "# Add language requirement column\n",
    "# Use regex to find language requirement\n",
    "lang_requirements = {\n",
    "    'Dutch Requirement in Sentence': dutch_requirement_pattern, 'English Requirement in Sentence': english_requirement_pattern\n",
    "}\n",
    "\n",
    "for lang_req, lang_req_pattern in tqdm.tqdm(lang_requirements.items()):\n",
    "\n",
    "    if lang_req in df_jobs.columns:\n",
    "        df_jobs = df_jobs.drop(columns=[lang_req])\n",
    "    df_jobs[lang_req] = np.where(\n",
    "        df_jobs['Job Description'].str.contains(lang_req_pattern),\n",
    "        'Yes',\n",
    "        'No',\n",
    "    )\n",
    "    df_jobs[lang_req] = df_jobs[lang_req].astype('category').cat.reorder_categories(['No', 'Yes'], ordered=True)\n",
    "    df_jobs[lang_req] = pd.Categorical(df_jobs[lang_req], categories=['No', 'Yes'], ordered=True)\n"
   ]
  },
  {
   "cell_type": "code",
   "execution_count": 83,
   "id": "e4744096",
   "metadata": {},
   "outputs": [
    {
     "data": {
      "text/plain": [
       "Dutch Requirement in Sentence\n",
       "No     297626\n",
       "Yes      9692\n",
       "Name: count, dtype: int64"
      ]
     },
     "execution_count": 83,
     "metadata": {},
     "output_type": "execute_result"
    }
   ],
   "source": [
    "# Yes = 9692 job sentences\n",
    "df_jobs['Dutch Requirement in Sentence'].value_counts()\n"
   ]
  },
  {
   "cell_type": "code",
   "execution_count": 84,
   "id": "aad0097b",
   "metadata": {},
   "outputs": [
    {
     "data": {
      "text/plain": [
       "English Requirement in Sentence\n",
       "No     289802\n",
       "Yes     17516\n",
       "Name: count, dtype: int64"
      ]
     },
     "execution_count": 84,
     "metadata": {},
     "output_type": "execute_result"
    }
   ],
   "source": [
    "# Yes = 17516 job sentences\n",
    "df_jobs['English Requirement in Sentence'].value_counts()\n"
   ]
  },
  {
   "cell_type": "code",
   "execution_count": 85,
   "id": "e5a95898",
   "metadata": {},
   "outputs": [],
   "source": [
    "# Dummy coding for language requirement\n",
    "df_jobs = df_jobs.join(pd.get_dummies(df_jobs[['Dutch Requirement in Sentence', 'English Requirement in Sentence']], dtype='int64'))\n"
   ]
  },
  {
   "cell_type": "code",
   "execution_count": 86,
   "id": "b899560d",
   "metadata": {},
   "outputs": [
    {
     "data": {
      "text/plain": [
       "Dutch Requirement in Sentence_Yes\n",
       "0    297626\n",
       "1      9692\n",
       "Name: count, dtype: int64"
      ]
     },
     "execution_count": 86,
     "metadata": {},
     "output_type": "execute_result"
    }
   ],
   "source": [
    "df_jobs['Dutch Requirement in Sentence_Yes'].value_counts()\n"
   ]
  },
  {
   "cell_type": "code",
   "execution_count": 87,
   "id": "0dc01fe4",
   "metadata": {},
   "outputs": [
    {
     "data": {
      "text/plain": [
       "English Requirement in Sentence_Yes\n",
       "0    289802\n",
       "1     17516\n",
       "Name: count, dtype: int64"
      ]
     },
     "execution_count": 87,
     "metadata": {},
     "output_type": "execute_result"
    }
   ],
   "source": [
    "df_jobs['English Requirement in Sentence_Yes'].value_counts()\n"
   ]
  },
  {
   "cell_type": "code",
   "execution_count": 88,
   "id": "772ecdc9",
   "metadata": {},
   "outputs": [],
   "source": [
    "# Remove duplicate sentences from the same job ad\n",
    "df_jobs = df_jobs.drop_duplicates(subset=['Job ID', 'Job Description spacy_sentencized'])\n"
   ]
  },
  {
   "cell_type": "code",
   "execution_count": 89,
   "metadata": {},
   "outputs": [
    {
     "name": "stdout",
     "output_type": "stream",
     "text": [
      "<class 'pandas.core.frame.DataFrame'>\n",
      "Index: 307318 entries, 0 to 408598\n",
      "Data columns (total 86 columns):\n",
      " #   Column                                                              Non-Null Count   Dtype   \n",
      "---  ------                                                              --------------   -----   \n",
      " 0   Search Keyword                                                      307318 non-null  object  \n",
      " 1   Platform                                                            307318 non-null  object  \n",
      " 2   Job ID                                                              307318 non-null  object  \n",
      " 3   Job Title                                                           307318 non-null  object  \n",
      " 4   Company Name                                                        307313 non-null  object  \n",
      " 5   Location                                                            307318 non-null  object  \n",
      " 6   Job Description                                                     307318 non-null  object  \n",
      " 7   Rating                                                              165995 non-null  float64 \n",
      " 8   Employment Type                                                     281192 non-null  object  \n",
      " 9   Company URL                                                         300725 non-null  object  \n",
      " 10  Job URL                                                             307318 non-null  object  \n",
      " 11  Job Age                                                             307318 non-null  object  \n",
      " 12  Job Age Number                                                      307318 non-null  object  \n",
      " 13  Collection Date                                                     307318 non-null  object  \n",
      " 14  Data Row                                                            141182 non-null  float64 \n",
      " 15  Tracking ID                                                         141182 non-null  object  \n",
      " 16  Industry                                                            167449 non-null  object  \n",
      " 17  Job Date                                                            141323 non-null  object  \n",
      " 18  Type of ownership                                                   26126 non-null   object  \n",
      " 19  Language                                                            307318 non-null  object  \n",
      " 20  Dutch Requirement in Job Ad                                         307318 non-null  object  \n",
      " 21  English Requirement in Job Ad                                       307318 non-null  object  \n",
      " 22  Dutch Requirement in Job Ad_No                                      307318 non-null  int64   \n",
      " 23  Dutch Requirement in Job Ad_Yes                                     307318 non-null  int64   \n",
      " 24  English Requirement in Job Ad_No                                    307318 non-null  int64   \n",
      " 25  English Requirement in Job Ad_Yes                                   307318 non-null  int64   \n",
      " 26  Sector Code                                                         307318 non-null  object  \n",
      " 27  Sector                                                              307318 non-null  object  \n",
      " 28  Keywords Count                                                      307318 non-null  float64 \n",
      " 29  Gender_Female_n                                                     307318 non-null  float64 \n",
      " 30  Gender_Female_% per Sector                                          307318 non-null  float64 \n",
      " 31  Gender_Female_% per Social Category                                 307318 non-null  float64 \n",
      " 32  Gender_Female_% per Workforce                                       307318 non-null  float64 \n",
      " 33  Gender_Male_n                                                       307318 non-null  float64 \n",
      " 34  Gender_Male_% per Sector                                            307318 non-null  float64 \n",
      " 35  Gender_Male_% per Social Category                                   307318 non-null  float64 \n",
      " 36  Gender_Male_% per Workforce                                         307318 non-null  float64 \n",
      " 37  Gender                                                              307318 non-null  object  \n",
      " 38  Age_Older_n                                                         307318 non-null  float64 \n",
      " 39  Age_Older_% per Sector                                              307318 non-null  float64 \n",
      " 40  Age_Older_% per Social Category                                     307318 non-null  float64 \n",
      " 41  Age_Older_% per Workforce                                           307318 non-null  float64 \n",
      " 42  Age_Younger_n                                                       307318 non-null  float64 \n",
      " 43  Age_Younger_% per Sector                                            307318 non-null  float64 \n",
      " 44  Age_Younger_% per Social Category                                   307318 non-null  float64 \n",
      " 45  Age_Younger_% per Workforce                                         307318 non-null  float64 \n",
      " 46  Age                                                                 307318 non-null  object  \n",
      " 47  Sector_n                                                            307318 non-null  float64 \n",
      " 48  % Sector per Workforce                                              307318 non-null  float64 \n",
      " 49  Sector Job Advertisement Count                                      307318 non-null  int64   \n",
      " 50  Sector Gender Designation Job Advertisement Count                   307318 non-null  int64   \n",
      " 51  Sector Age Designation Job Advertisement Count                      307318 non-null  int64   \n",
      " 52  Gender_Female                                                       307318 non-null  int64   \n",
      " 53  Gender_Male                                                         307318 non-null  int64   \n",
      " 54  Gender_Mixed                                                        307318 non-null  int64   \n",
      " 55  Age_Mixed                                                           307318 non-null  int64   \n",
      " 56  Age_Older                                                           307318 non-null  int64   \n",
      " 57  Age_Younger                                                         307318 non-null  int64   \n",
      " 58  Gender_Num                                                          307318 non-null  int64   \n",
      " 59  Age_Num                                                             307318 non-null  int64   \n",
      " 60  Interaction_Female_Older_% per Sector                               307318 non-null  float64 \n",
      " 61  Interaction_Female_Younger_% per Sector                             307318 non-null  float64 \n",
      " 62  Interaction_Male_Older_% per Sector                                 307318 non-null  float64 \n",
      " 63  Interaction_Male_Younger_% per Sector                               307318 non-null  float64 \n",
      " 64  Platform_Num                                                        307318 non-null  int64   \n",
      " 65  Platform_LinkedIn                                                   307318 non-null  int64   \n",
      " 66  Platform_Indeed                                                     307318 non-null  int64   \n",
      " 67  Platform_Glassdoor                                                  307318 non-null  int64   \n",
      " 68  Job Description spacy_sentencized                                   307318 non-null  object  \n",
      " 69  Job Description spacy_sentencized_num_words                         307318 non-null  int64   \n",
      " 70  Job Description spacy_sentencized_num_unique_words                  307318 non-null  int64   \n",
      " 71  Job Description spacy_sentencized_num_chars                         307318 non-null  int64   \n",
      " 72  Job Description spacy_sentencized_num_chars_no_whitespact_and_punt  307318 non-null  int64   \n",
      " 73  Job Description spacy_sentencized_num_punctuations                  307318 non-null  int64   \n",
      " 74  Job Description_num_words                                           307318 non-null  int64   \n",
      " 75  Job Description_num_unique_words                                    307318 non-null  int64   \n",
      " 76  Job Description_num_chars                                           307318 non-null  int64   \n",
      " 77  Job Description_num_chars_no_whitespact_and_punt                    307318 non-null  int64   \n",
      " 78  Job Description_num_punctuations                                    307318 non-null  int64   \n",
      " 79  Job Description spacy_sentencized_lower                             307318 non-null  object  \n",
      " 80  Dutch Requirement in Sentence                                       307318 non-null  category\n",
      " 81  English Requirement in Sentence                                     307318 non-null  category\n",
      " 82  Dutch Requirement in Sentence_No                                    307318 non-null  int64   \n",
      " 83  Dutch Requirement in Sentence_Yes                                   307318 non-null  int64   \n",
      " 84  English Requirement in Sentence_No                                  307318 non-null  int64   \n",
      " 85  English Requirement in Sentence_Yes                                 307318 non-null  int64   \n",
      "dtypes: category(2), float64(25), int64(33), object(26)\n",
      "memory usage: 207.9+ MB\n"
     ]
    }
   ],
   "source": [
    "df_jobs.info()\n"
   ]
  },
  {
   "cell_type": "code",
   "execution_count": 90,
   "id": "25dad11d",
   "metadata": {},
   "outputs": [],
   "source": [
    "assert len(df_jobs) > 0 and isinstance(df_jobs, pd.DataFrame), f'ERORR: LENGTH OF DF = {len(df_jobs)}'\n",
    "df_jobs.to_pickle(f'{df_save_dir}df_jobs_sentencized_validated.pkl')\n",
    "df_jobs.to_csv(f'{df_save_dir}df_jobs_sentencized_validated.csv', index=False)\n"
   ]
  },
  {
   "cell_type": "code",
   "execution_count": null,
   "id": "e13d801e",
   "metadata": {},
   "outputs": [],
   "source": []
  }
 ],
 "metadata": {
  "kernelspec": {
   "display_name": "Python 3",
   "language": "python",
   "name": "python3"
  },
  "language_info": {
   "codemirror_mode": {
    "name": "ipython",
    "version": 3
   },
   "file_extension": ".py",
   "mimetype": "text/x-python",
   "name": "python",
   "nbconvert_exporter": "python",
   "pygments_lexer": "ipython3",
   "version": "3.10.11"
  },
  "varInspector": {
   "cols": {
    "lenName": 16,
    "lenType": 16,
    "lenVar": 40
   },
   "kernels_config": {
    "python": {
     "delete_cmd_postfix": "",
     "delete_cmd_prefix": "del ",
     "library": "var_list.py",
     "varRefreshCmd": "print(var_dic_list())"
    },
    "r": {
     "delete_cmd_postfix": ") ",
     "delete_cmd_prefix": "rm(",
     "library": "var_list.r",
     "varRefreshCmd": "cat(var_dic_list()) "
    }
   },
   "types_to_exclude": [
    "module",
    "function",
    "builtin_function_or_method",
    "instance",
    "_Feature"
   ],
   "window_display": false
  }
 },
 "nbformat": 4,
 "nbformat_minor": 5
}
