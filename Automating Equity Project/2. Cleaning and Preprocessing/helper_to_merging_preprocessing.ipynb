{
 "cells": [
  {
   "cell_type": "code",
   "execution_count": 3,
   "id": "05323f6c",
   "metadata": {},
   "outputs": [],
   "source": [
    "import json\n",
    "import copy\n",
    "import glob\n",
    "import nbformat\n",
    "from pathlib import Path\n"
   ]
  },
  {
   "cell_type": "code",
   "execution_count": null,
   "id": "bb6fab4b",
   "metadata": {},
   "outputs": [],
   "source": [
    "main_dir = Path.cwd()\n",
    "extras = True\n",
    "notebook_dir = main_dir+'*.ipynb'\n",
    "\n",
    "notebook_paths = [\n",
    "    notebook_path\n",
    "    for notebook_path in glob.glob(notebook_dir)\n",
    "    for i in range(7)\n",
    "    if str(i) in notebook_path.split('1. Cleaning and Preprocessing/')[1]\n",
    "]\n"
   ]
  },
  {
   "cell_type": "code",
   "execution_count": null,
   "id": "85c33f27",
   "metadata": {},
   "outputs": [],
   "source": [
    "notebook_paths.sort()\n"
   ]
  },
  {
   "cell_type": "code",
   "execution_count": null,
   "id": "ec98fb8c",
   "metadata": {},
   "outputs": [],
   "source": [
    "notebook_paths\n"
   ]
  },
  {
   "cell_type": "code",
   "execution_count": null,
   "id": "c5342fba",
   "metadata": {},
   "outputs": [],
   "source": [
    "notebooks = {\n",
    "    notebook_path.split('Cleaning and Preprocessing/')[1]: nbformat.read(notebook_path, 4)\n",
    "    for notebook_path in notebook_paths\n",
    "}\n"
   ]
  },
  {
   "cell_type": "code",
   "execution_count": null,
   "id": "214fcb97",
   "metadata": {},
   "outputs": [],
   "source": [
    "if extras is True:\n",
    "    notebooks.update(\n",
    "        {\n",
    "            notebook_path.split('Cleaning and Preprocessing/extra_preprocessing/')[1]: nbformat.read(notebook_path, 4)\n",
    "            for notebook_path in glob.glob(f'{main_dir}extra_preprocessing/*.ipynb')\n",
    "        }\n",
    "    )\n"
   ]
  },
  {
   "cell_type": "code",
   "execution_count": null,
   "id": "f1dff785",
   "metadata": {},
   "outputs": [],
   "source": [
    "manual_data_preprocessing = nbformat.v4.new_notebook(metadata=notebooks['1. language_detection_preprocessing.ipynb'].metadata)\n",
    "\n",
    "for notebook_name, notebook in notebooks.items():\n",
    "    manual_data_preprocessing.cells+=notebook.cells\n"
   ]
  },
  {
   "cell_type": "code",
   "execution_count": null,
   "id": "2e87ff88",
   "metadata": {},
   "outputs": [],
   "source": [
    "nbformat.write(manual_data_preprocessing, f'{main_dir}manual_data_preprocessing_from_merging_preprocessing_script.ipynb')\n"
   ]
  },
  {
   "cell_type": "code",
   "execution_count": null,
   "id": "9e6f640e",
   "metadata": {},
   "outputs": [],
   "source": []
  }
 ],
 "metadata": {
  "kernelspec": {
   "display_name": "Python 3",
   "language": "python",
   "name": "python3"
  },
  "language_info": {
   "codemirror_mode": {
    "name": "ipython",
    "version": 3
   },
   "file_extension": ".py",
   "mimetype": "text/x-python",
   "name": "python",
   "nbconvert_exporter": "python",
   "pygments_lexer": "ipython3",
   "version": "3.10.11"
  },
  "varInspector": {
   "cols": {
    "lenName": 16,
    "lenType": 16,
    "lenVar": 40
   },
   "kernels_config": {
    "python": {
     "delete_cmd_postfix": "",
     "delete_cmd_prefix": "del ",
     "library": "var_list.py",
     "varRefreshCmd": "print(var_dic_list())"
    },
    "r": {
     "delete_cmd_postfix": ") ",
     "delete_cmd_prefix": "rm(",
     "library": "var_list.r",
     "varRefreshCmd": "cat(var_dic_list()) "
    }
   },
   "types_to_exclude": [
    "module",
    "function",
    "builtin_function_or_method",
    "instance",
    "_Feature"
   ],
   "window_display": false
  }
 },
 "nbformat": 4,
 "nbformat_minor": 5
}
