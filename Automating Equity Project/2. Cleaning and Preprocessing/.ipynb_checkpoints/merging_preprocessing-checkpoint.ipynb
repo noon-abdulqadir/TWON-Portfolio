{
 "cells": [
  {
   "cell_type": "code",
   "execution_count": 1,
   "id": "05323f6c",
   "metadata": {},
   "outputs": [],
   "source": [
    "import json\n",
    "import copy\n",
    "import glob\n",
    "import nbformat"
   ]
  },
  {
   "cell_type": "code",
   "execution_count": 2,
   "id": "bb6fab4b",
   "metadata": {},
   "outputs": [],
   "source": [
    "main_dir = '/Users/nyxinsane/Documents/Work - UvA/Automating Equity/Study 1/Study1_Code/Cleaning and Preprocessing/'\n",
    "notebook_dir = main_dir+'*.ipynb'\n",
    "\n",
    "notebook_paths = [\n",
    "    notebook_path\n",
    "    for notebook_path in glob.glob(notebook_dir)\n",
    "    for i in range(7)\n",
    "    if str(i) in notebook_path.split('Cleaning and Preprocessing/')[1]\n",
    "]\n"
   ]
  },
  {
   "cell_type": "code",
   "execution_count": 3,
   "id": "85c33f27",
   "metadata": {},
   "outputs": [],
   "source": [
    "notebook_paths.sort()"
   ]
  },
  {
   "cell_type": "code",
   "execution_count": 4,
   "id": "c5342fba",
   "metadata": {},
   "outputs": [],
   "source": [
    "notebooks = {\n",
    "    notebook_path.split('Cleaning and Preprocessing/')[1]: nbformat.read(notebook_path, 4)\n",
    "    for notebook_path in notebook_paths\n",
    "}"
   ]
  },
  {
   "cell_type": "code",
   "execution_count": 5,
   "id": "f1dff785",
   "metadata": {},
   "outputs": [],
   "source": [
    "manual_data_preprocessing = nbformat.v4.new_notebook(metadata=notebooks['1. language_detection_preprocessing.ipynb'].metadata)\n",
    "\n",
    "for notebook_name, notebook in notebooks.items():\n",
    "    manual_data_preprocessing.cells+=notebook.cells"
   ]
  },
  {
   "cell_type": "code",
   "execution_count": 6,
   "id": "2e87ff88",
   "metadata": {},
   "outputs": [
    {
     "name": "stderr",
     "output_type": "stream",
     "text": [
      "/opt/homebrew/Caskroom/miniforge/base/envs/study1_3.10/lib/python3.10/site-packages/nbformat/__init__.py:129: MissingIDFieldWarning: Code cell is missing an id field, this will become a hard error in future nbformat versions. You may want to use `normalize()` on your notebooks before validations (available since nbformat 5.1.4). Previous versions of nbformat are fixing this issue transparently, and will stop doing so in the future.\n",
      "  validate(nb)\n",
      "/opt/homebrew/Caskroom/miniforge/base/envs/study1_3.10/lib/python3.10/site-packages/nbformat/__init__.py:129: DuplicateCellId: Non-unique cell id '1122d883' detected. Corrected to 'ec31f120'.\n",
      "  validate(nb)\n",
      "/opt/homebrew/Caskroom/miniforge/base/envs/study1_3.10/lib/python3.10/site-packages/nbformat/__init__.py:129: DuplicateCellId: Non-unique cell id '206a80dd' detected. Corrected to 'd61138e8'.\n",
      "  validate(nb)\n",
      "/opt/homebrew/Caskroom/miniforge/base/envs/study1_3.10/lib/python3.10/site-packages/nbformat/__init__.py:129: DuplicateCellId: Non-unique cell id '980b3608' detected. Corrected to '47bdc9a2'.\n",
      "  validate(nb)\n",
      "/opt/homebrew/Caskroom/miniforge/base/envs/study1_3.10/lib/python3.10/site-packages/nbformat/__init__.py:129: DuplicateCellId: Non-unique cell id '8a93bb98' detected. Corrected to '4c0cf19e'.\n",
      "  validate(nb)\n",
      "/opt/homebrew/Caskroom/miniforge/base/envs/study1_3.10/lib/python3.10/site-packages/nbformat/__init__.py:129: DuplicateCellId: Non-unique cell id 'ce59f359' detected. Corrected to '444550f3'.\n",
      "  validate(nb)\n",
      "/opt/homebrew/Caskroom/miniforge/base/envs/study1_3.10/lib/python3.10/site-packages/nbformat/__init__.py:129: DuplicateCellId: Non-unique cell id 'b6d7a1b4' detected. Corrected to '25a35056'.\n",
      "  validate(nb)\n",
      "/opt/homebrew/Caskroom/miniforge/base/envs/study1_3.10/lib/python3.10/site-packages/nbformat/__init__.py:129: DuplicateCellId: Non-unique cell id '1a0c8ffe' detected. Corrected to '795034b1'.\n",
      "  validate(nb)\n",
      "/opt/homebrew/Caskroom/miniforge/base/envs/study1_3.10/lib/python3.10/site-packages/nbformat/__init__.py:129: DuplicateCellId: Non-unique cell id '6c5e1032' detected. Corrected to '58173ce5'.\n",
      "  validate(nb)\n",
      "/opt/homebrew/Caskroom/miniforge/base/envs/study1_3.10/lib/python3.10/site-packages/nbformat/__init__.py:129: DuplicateCellId: Non-unique cell id '17e46331' detected. Corrected to 'ec80fe6a'.\n",
      "  validate(nb)\n"
     ]
    }
   ],
   "source": [
    "nbformat.write(manual_data_preprocessing, f'{main_dir}manual_data_preprocessing_frommerging_preprocessing_script.ipynb')"
   ]
  },
  {
   "cell_type": "code",
   "execution_count": null,
   "id": "9e6f640e",
   "metadata": {},
   "outputs": [],
   "source": []
  }
 ],
 "metadata": {
  "kernelspec": {
   "display_name": "study1_3.10",
   "language": "python",
   "name": "study1_3.10"
  },
  "language_info": {
   "codemirror_mode": {
    "name": "ipython",
    "version": 3
   },
   "file_extension": ".py",
   "mimetype": "text/x-python",
   "name": "python",
   "nbconvert_exporter": "python",
   "pygments_lexer": "ipython3",
   "version": "3.10.8"
  },
  "varInspector": {
   "cols": {
    "lenName": 16,
    "lenType": 16,
    "lenVar": 40
   },
   "kernels_config": {
    "python": {
     "delete_cmd_postfix": "",
     "delete_cmd_prefix": "del ",
     "library": "var_list.py",
     "varRefreshCmd": "print(var_dic_list())"
    },
    "r": {
     "delete_cmd_postfix": ") ",
     "delete_cmd_prefix": "rm(",
     "library": "var_list.r",
     "varRefreshCmd": "cat(var_dic_list()) "
    }
   },
   "types_to_exclude": [
    "module",
    "function",
    "builtin_function_or_method",
    "instance",
    "_Feature"
   ],
   "window_display": false
  }
 },
 "nbformat": 4,
 "nbformat_minor": 5
}
