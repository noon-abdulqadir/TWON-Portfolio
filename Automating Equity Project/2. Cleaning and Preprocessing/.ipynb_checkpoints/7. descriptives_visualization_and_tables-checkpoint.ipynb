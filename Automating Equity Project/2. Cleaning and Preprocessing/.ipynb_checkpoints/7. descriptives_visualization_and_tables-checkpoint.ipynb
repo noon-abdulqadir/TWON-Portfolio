{
 "cells": [
  {
   "cell_type": "markdown",
   "id": "b4527d8f",
   "metadata": {},
   "source": [
    "# ATTN: This script should be run AFTER all embeddings are completed.\n"
   ]
  },
  {
   "cell_type": "markdown",
   "id": "26af2a6e",
   "metadata": {},
   "source": [
    "### START HERE IF SOURCING FROM DF_JOBS\n",
    "### PLEASE SET CORRECT DIRECTORY PATHS BELOW\n"
   ]
  },
  {
   "cell_type": "markdown",
   "id": "886d05bc",
   "metadata": {},
   "source": [
    "# Descriptives and visualization\n"
   ]
  },
  {
   "cell_type": "code",
   "execution_count": null,
   "id": "cc37b77e",
   "metadata": {},
   "outputs": [],
   "source": [
    "import os\n",
    "import sys\n",
    "import importlib\n",
    "from pathlib import Path\n",
    "import numpy as np\n",
    "\n",
    "mod = sys.modules[__name__]\n",
    "\n",
    "code_dir = None\n",
    "code_dir_name = 'Code'\n",
    "unwanted_subdir_name = 'Analysis'\n",
    "\n",
    "for _ in range(5):\n",
    "\n",
    "    parent_path = str(Path.cwd().parents[_]).split('/')[-1]\n",
    "\n",
    "    if (code_dir_name in parent_path) and (unwanted_subdir_name not in parent_path):\n",
    "\n",
    "        code_dir = str(Path.cwd().parents[_])\n",
    "\n",
    "        if code_dir is not None:\n",
    "            break\n",
    "\n",
    "# %load_ext autoreload\n",
    "# %autoreload 2\n"
   ]
  },
  {
   "cell_type": "code",
   "execution_count": null,
   "id": "974a129a",
   "metadata": {},
   "outputs": [],
   "source": [
    "# MAIN DIR\n",
    "main_dir = f'{str(Path(code_dir).parents[0])}/'\n",
    "\n",
    "# code_dir\n",
    "code_dir = f'{code_dir}/'\n",
    "sys.path.append(code_dir)\n",
    "\n",
    "# scraping dir\n",
    "scraped_data = f'{code_dir}scraped_data/'\n",
    "\n",
    "# data dir\n",
    "data_dir = f'{code_dir}data/'\n",
    "\n",
    "# df save sir\n",
    "df_save_dir = f'{data_dir}final dfs/'\n",
    "\n",
    "# lang models dir\n",
    "llm_path = f'{data_dir}Language Models'\n",
    "\n",
    "# sites\n",
    "site_list=['Indeed', 'Glassdoor', 'LinkedIn']\n",
    "\n",
    "# models dir\n",
    "models_save_path = f'{data_dir}classification models/'\n",
    "\n",
    "# output tables dir\n",
    "table_save_path = f'{data_dir}output tables/'\n",
    "\n",
    "# plots dir\n",
    "plot_save_path = f'{data_dir}plots/'\n",
    "\n",
    "# columns\n",
    "cols=['Sector', \n",
    "      'Sector Code', \n",
    "      'Gender', \n",
    "      'Age', \n",
    "      'Language', \n",
    "      'Dutch Requirement', \n",
    "      'English Requirement', \n",
    "      'Gender_Female', \n",
    "      'Gender_Mixed', \n",
    "      'Gender_Male', \n",
    "      'Age_Older', \n",
    "      'Age_Mixed', \n",
    "      'Age_Younger', \n",
    "      'Gender_Num', \n",
    "      'Age_Num', \n",
    "      '% Female', \n",
    "      '% Male', \n",
    "      '% Older', \n",
    "      '% Younger']\n",
    "\n",
    "int_variable: str = 'Job ID'\n",
    "str_variable: str = 'Job Description'\n",
    "gender: str = 'Gender'\n",
    "age: str = 'Age'\n",
    "language: str = 'en'\n",
    "languages = [\"en\", \"['nl', 'en']\", ['en', 'nl']]\n",
    "str_cols = ['Search Keyword', 'Platform', 'Job ID', 'Job Title', 'Company Name', 'Location', 'Job Description', 'Company URL', 'Job URL', 'Tracking ID']\n",
    "nan_list = [None, 'None', '', ' ', [], -1, '-1', 0, '0', 'nan', np.nan, 'Nan']\n",
    "pattern = r'[\\n]+|[,]{2,}|[|]{2,}|[\\n\\r]+|(?<=[a-z]\\.)(?=\\s*[A-Z])|(?=\\:+[A-Z])'\n"
   ]
  },
  {
   "cell_type": "code",
   "execution_count": null,
   "id": "aaf5c9ce",
   "metadata": {},
   "outputs": [],
   "source": [
    "import string\n",
    "import re\n",
    "import time\n",
    "import json\n",
    "import csv\n",
    "import glob\n",
    "import pickle\n",
    "import random\n",
    "import itertools\n",
    "import unicodedata\n",
    "import pandas as pd\n",
    "import numpy as np\n",
    "import multiprocessing\n",
    "import matplotlib as mpl\n",
    "import matplotlib.pyplot as plt\n",
    "import matplotlib.colors as mcolors\n",
    "import seaborn as sns\n",
    "import googletrans\n",
    "from googletrans import Translator\n",
    "from collections import defaultdict\n"
   ]
  },
  {
   "cell_type": "code",
   "execution_count": null,
   "id": "7a9f18a6",
   "metadata": {},
   "outputs": [],
   "source": [
    "# Funtion to print df gender and age info\n",
    "def df_gender_age_info(\n",
    "    df,\n",
    "    ivs_all = [\n",
    "        'Gender',\n",
    "        'Gender_Num',\n",
    "        'Gender_Female',\n",
    "        'Gender_Mixed',\n",
    "        'Gender_Male',\n",
    "        'Age',\n",
    "        'Age_Num',\n",
    "        'Age_Older',\n",
    "        'Age_Mixed',\n",
    "        'Age_Younger',\n",
    "    ],\n",
    "):\n",
    "    # Print Info\n",
    "    print('\\nDF INFO:\\n')\n",
    "    df.info()\n",
    "\n",
    "    for iv in ivs_all:\n",
    "        try:\n",
    "            counts = df[f'{iv}'].value_counts()\n",
    "            percentages = df[f'{iv}'].value_counts(normalize=True).mul(100).round(1).astype(float)\n",
    "            print('='*20)\n",
    "            print(f'{iv}:')\n",
    "            print('-'*20)\n",
    "            print(f'{iv} Counts:\\n{counts}')\n",
    "            print('-'*20)\n",
    "            print(f'{iv} Percentages:\\n{percentages}')\n",
    "\n",
    "            try:\n",
    "                mean = df[f\"{iv}\"].mean().round(2).astype(float)\n",
    "                sd = df[f\"{iv}\"].std().round(2).astype(float)\n",
    "                print('-'*20)\n",
    "                print(f'{iv} Mean: {mean}')\n",
    "                print('-'*20)\n",
    "                print(f'{iv} Standard Deviation: {sd}')\n",
    "\n",
    "            except Exception:\n",
    "                pass\n",
    "        except Exception:\n",
    "            print(f'{iv} not available.')\n"
   ]
  },
  {
   "cell_type": "code",
   "execution_count": null,
   "id": "ad5114bd",
   "metadata": {},
   "outputs": [],
   "source": [
    "df_jobs = pd.read_pickle(f'{df_save_dir}df_jobs_final.pkl').reset_index(drop=True)\n"
   ]
  }
 ],
 "metadata": {
  "kernelspec": {
   "display_name": "study1_3.10",
   "language": "python",
   "name": "study1_3.10"
  },
  "language_info": {
   "codemirror_mode": {
    "name": "ipython",
    "version": 3
   },
   "file_extension": ".py",
   "mimetype": "text/x-python",
   "name": "python",
   "nbconvert_exporter": "python",
   "pygments_lexer": "ipython3",
   "version": "3.10.8"
  },
  "varInspector": {
   "cols": {
    "lenName": 16,
    "lenType": 16,
    "lenVar": 40
   },
   "kernels_config": {
    "python": {
     "delete_cmd_postfix": "",
     "delete_cmd_prefix": "del ",
     "library": "var_list.py",
     "varRefreshCmd": "print(var_dic_list())"
    },
    "r": {
     "delete_cmd_postfix": ") ",
     "delete_cmd_prefix": "rm(",
     "library": "var_list.r",
     "varRefreshCmd": "cat(var_dic_list()) "
    }
   },
   "types_to_exclude": [
    "module",
    "function",
    "builtin_function_or_method",
    "instance",
    "_Feature"
   ],
   "window_display": false
  }
 },
 "nbformat": 4,
 "nbformat_minor": 5
}
